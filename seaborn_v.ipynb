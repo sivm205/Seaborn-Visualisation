{
 "cells": [
  {
   "cell_type": "code",
   "execution_count": 17,
   "metadata": {},
   "outputs": [],
   "source": [
    "import pandas as pd \n",
    "import numpy as np \n",
    "import matplotlib.pyplot as plt\n",
    "import seaborn as sns\n",
    "import warnings\n",
    "warnings.filterwarnings(action = 'ignore')\n"
   ]
  },
  {
   "cell_type": "code",
   "execution_count": 46,
   "metadata": {},
   "outputs": [
    {
     "data": {
      "text/plain": [
       "['anagrams',\n",
       " 'anscombe',\n",
       " 'attention',\n",
       " 'brain_networks',\n",
       " 'car_crashes',\n",
       " 'diamonds',\n",
       " 'dots',\n",
       " 'exercise',\n",
       " 'flights',\n",
       " 'fmri',\n",
       " 'gammas',\n",
       " 'geyser',\n",
       " 'iris',\n",
       " 'mpg',\n",
       " 'penguins',\n",
       " 'planets',\n",
       " 'taxis',\n",
       " 'tips',\n",
       " 'titanic']"
      ]
     },
     "execution_count": 46,
     "metadata": {},
     "output_type": "execute_result"
    }
   ],
   "source": [
    "sns.get_dataset_names()"
   ]
  },
  {
   "cell_type": "code",
   "execution_count": 73,
   "metadata": {},
   "outputs": [
    {
     "data": {
      "text/html": [
       "<div>\n",
       "<style scoped>\n",
       "    .dataframe tbody tr th:only-of-type {\n",
       "        vertical-align: middle;\n",
       "    }\n",
       "\n",
       "    .dataframe tbody tr th {\n",
       "        vertical-align: top;\n",
       "    }\n",
       "\n",
       "    .dataframe thead th {\n",
       "        text-align: right;\n",
       "    }\n",
       "</style>\n",
       "<table border=\"1\" class=\"dataframe\">\n",
       "  <thead>\n",
       "    <tr style=\"text-align: right;\">\n",
       "      <th></th>\n",
       "      <th>mpg</th>\n",
       "      <th>cylinders</th>\n",
       "      <th>displacement</th>\n",
       "      <th>horsepower</th>\n",
       "      <th>weight</th>\n",
       "      <th>acceleration</th>\n",
       "      <th>model_year</th>\n",
       "      <th>origin</th>\n",
       "      <th>name</th>\n",
       "    </tr>\n",
       "  </thead>\n",
       "  <tbody>\n",
       "    <tr>\n",
       "      <th>0</th>\n",
       "      <td>18.0</td>\n",
       "      <td>8</td>\n",
       "      <td>307.0</td>\n",
       "      <td>130.0</td>\n",
       "      <td>3504</td>\n",
       "      <td>12.0</td>\n",
       "      <td>70</td>\n",
       "      <td>usa</td>\n",
       "      <td>chevrolet chevelle malibu</td>\n",
       "    </tr>\n",
       "    <tr>\n",
       "      <th>1</th>\n",
       "      <td>15.0</td>\n",
       "      <td>8</td>\n",
       "      <td>350.0</td>\n",
       "      <td>165.0</td>\n",
       "      <td>3693</td>\n",
       "      <td>11.5</td>\n",
       "      <td>70</td>\n",
       "      <td>usa</td>\n",
       "      <td>buick skylark 320</td>\n",
       "    </tr>\n",
       "    <tr>\n",
       "      <th>2</th>\n",
       "      <td>18.0</td>\n",
       "      <td>8</td>\n",
       "      <td>318.0</td>\n",
       "      <td>150.0</td>\n",
       "      <td>3436</td>\n",
       "      <td>11.0</td>\n",
       "      <td>70</td>\n",
       "      <td>usa</td>\n",
       "      <td>plymouth satellite</td>\n",
       "    </tr>\n",
       "    <tr>\n",
       "      <th>3</th>\n",
       "      <td>16.0</td>\n",
       "      <td>8</td>\n",
       "      <td>304.0</td>\n",
       "      <td>150.0</td>\n",
       "      <td>3433</td>\n",
       "      <td>12.0</td>\n",
       "      <td>70</td>\n",
       "      <td>usa</td>\n",
       "      <td>amc rebel sst</td>\n",
       "    </tr>\n",
       "    <tr>\n",
       "      <th>4</th>\n",
       "      <td>17.0</td>\n",
       "      <td>8</td>\n",
       "      <td>302.0</td>\n",
       "      <td>140.0</td>\n",
       "      <td>3449</td>\n",
       "      <td>10.5</td>\n",
       "      <td>70</td>\n",
       "      <td>usa</td>\n",
       "      <td>ford torino</td>\n",
       "    </tr>\n",
       "  </tbody>\n",
       "</table>\n",
       "</div>"
      ],
      "text/plain": [
       "    mpg  cylinders  displacement  horsepower  weight  acceleration  \\\n",
       "0  18.0          8         307.0       130.0    3504          12.0   \n",
       "1  15.0          8         350.0       165.0    3693          11.5   \n",
       "2  18.0          8         318.0       150.0    3436          11.0   \n",
       "3  16.0          8         304.0       150.0    3433          12.0   \n",
       "4  17.0          8         302.0       140.0    3449          10.5   \n",
       "\n",
       "   model_year origin                       name  \n",
       "0          70    usa  chevrolet chevelle malibu  \n",
       "1          70    usa          buick skylark 320  \n",
       "2          70    usa         plymouth satellite  \n",
       "3          70    usa              amc rebel sst  \n",
       "4          70    usa                ford torino  "
      ]
     },
     "execution_count": 73,
     "metadata": {},
     "output_type": "execute_result"
    }
   ],
   "source": [
    "df = sns.load_dataset('mpg')\n",
    "df.head()"
   ]
  },
  {
   "cell_type": "code",
   "execution_count": 74,
   "metadata": {},
   "outputs": [
    {
     "data": {
      "text/plain": [
       "(398, 9)"
      ]
     },
     "execution_count": 74,
     "metadata": {},
     "output_type": "execute_result"
    }
   ],
   "source": [
    "df.shape"
   ]
  },
  {
   "cell_type": "code",
   "execution_count": 75,
   "metadata": {},
   "outputs": [
    {
     "data": {
      "text/plain": [
       "<AxesSubplot:xlabel='mpg', ylabel='Count'>"
      ]
     },
     "execution_count": 75,
     "metadata": {},
     "output_type": "execute_result"
    },
    {
     "data": {
      "image/png": "[encoded data removed]",
      "text/plain": [
       "<Figure size 432x288 with 1 Axes>"
      ]
     },
     "metadata": {
      "needs_background": "light"
     },
     "output_type": "display_data"
    }
   ],
   "source": [
    "sns.histplot(df.mpg)"
   ]
  },
  {
   "cell_type": "markdown",
   "metadata": {},
   "source": [
    "For interactive visualization we will used ploty package "
   ]
  },
  {
   "cell_type": "code",
   "execution_count": 14,
   "metadata": {},
   "outputs": [],
   "source": [
    "import plotly.express as px"
   ]
  },
  {
   "cell_type": "code",
   "execution_count": 76,
   "metadata": {},
   "outputs": [
    {
     "data": {
      "text/plain": [
       "<AxesSubplot:xlabel='mpg'>"
      ]
     },
     "execution_count": 76,
     "metadata": {},
     "output_type": "execute_result"
    },
    {
     "data": {
      "image/png": "[encoded data removed]",
      "text/plain": [
       "<Figure size 432x288 with 1 Axes>"
      ]
     },
     "metadata": {
      "needs_background": "light"
     },
     "output_type": "display_data"
    }
   ],
   "source": [
    "sns.boxplot(df['mpg'])"
   ]
  },
  {
   "cell_type": "code",
   "execution_count": 77,
   "metadata": {},
   "outputs": [
    {
     "data": {
      "text/plain": [
       "mpg             0\n",
       "cylinders       0\n",
       "displacement    0\n",
       "horsepower      6\n",
       "weight          0\n",
       "acceleration    0\n",
       "model_year      0\n",
       "origin          0\n",
       "name            0\n",
       "dtype: int64"
      ]
     },
     "execution_count": 77,
     "metadata": {},
     "output_type": "execute_result"
    }
   ],
   "source": [
    "df.isnull().sum()"
   ]
  },
  {
   "cell_type": "code",
   "execution_count": 78,
   "metadata": {},
   "outputs": [],
   "source": [
    "df.dropna(inplace=True)"
   ]
  },
  {
   "cell_type": "code",
   "execution_count": 79,
   "metadata": {},
   "outputs": [
    {
     "data": {
      "text/plain": [
       "47.0"
      ]
     },
     "execution_count": 79,
     "metadata": {},
     "output_type": "execute_result"
    }
   ],
   "source": [
    "iqr = np.percentile(df.mpg , 75) - np.percentile(df.mpg , 25)\n",
    "Q = np.quantile(df.mpg , .75) + (1.5*(iqr))\n",
    "Q"
   ]
  },
  {
   "cell_type": "markdown",
   "metadata": {},
   "source": [
    "For outlier detection u can also compare mean with the medium value as if there is any outlier then u may see a big difference in both this value"
   ]
  },
  {
   "cell_type": "code",
   "execution_count": 80,
   "metadata": {},
   "outputs": [
    {
     "data": {
      "text/html": [
       "<div>\n",
       "<style scoped>\n",
       "    .dataframe tbody tr th:only-of-type {\n",
       "        vertical-align: middle;\n",
       "    }\n",
       "\n",
       "    .dataframe tbody tr th {\n",
       "        vertical-align: top;\n",
       "    }\n",
       "\n",
       "    .dataframe thead th {\n",
       "        text-align: right;\n",
       "    }\n",
       "</style>\n",
       "<table border=\"1\" class=\"dataframe\">\n",
       "  <thead>\n",
       "    <tr style=\"text-align: right;\">\n",
       "      <th></th>\n",
       "      <th>mpg</th>\n",
       "      <th>cylinders</th>\n",
       "      <th>displacement</th>\n",
       "      <th>horsepower</th>\n",
       "      <th>weight</th>\n",
       "      <th>acceleration</th>\n",
       "      <th>model_year</th>\n",
       "      <th>origin</th>\n",
       "      <th>name</th>\n",
       "    </tr>\n",
       "  </thead>\n",
       "  <tbody>\n",
       "    <tr>\n",
       "      <th>0</th>\n",
       "      <td>18.0</td>\n",
       "      <td>8</td>\n",
       "      <td>307.0</td>\n",
       "      <td>130.0</td>\n",
       "      <td>3504</td>\n",
       "      <td>12.0</td>\n",
       "      <td>70</td>\n",
       "      <td>usa</td>\n",
       "      <td>chevrolet chevelle malibu</td>\n",
       "    </tr>\n",
       "    <tr>\n",
       "      <th>1</th>\n",
       "      <td>15.0</td>\n",
       "      <td>8</td>\n",
       "      <td>350.0</td>\n",
       "      <td>165.0</td>\n",
       "      <td>3693</td>\n",
       "      <td>11.5</td>\n",
       "      <td>70</td>\n",
       "      <td>usa</td>\n",
       "      <td>buick skylark 320</td>\n",
       "    </tr>\n",
       "    <tr>\n",
       "      <th>2</th>\n",
       "      <td>18.0</td>\n",
       "      <td>8</td>\n",
       "      <td>318.0</td>\n",
       "      <td>150.0</td>\n",
       "      <td>3436</td>\n",
       "      <td>11.0</td>\n",
       "      <td>70</td>\n",
       "      <td>usa</td>\n",
       "      <td>plymouth satellite</td>\n",
       "    </tr>\n",
       "    <tr>\n",
       "      <th>3</th>\n",
       "      <td>16.0</td>\n",
       "      <td>8</td>\n",
       "      <td>304.0</td>\n",
       "      <td>150.0</td>\n",
       "      <td>3433</td>\n",
       "      <td>12.0</td>\n",
       "      <td>70</td>\n",
       "      <td>usa</td>\n",
       "      <td>amc rebel sst</td>\n",
       "    </tr>\n",
       "    <tr>\n",
       "      <th>4</th>\n",
       "      <td>17.0</td>\n",
       "      <td>8</td>\n",
       "      <td>302.0</td>\n",
       "      <td>140.0</td>\n",
       "      <td>3449</td>\n",
       "      <td>10.5</td>\n",
       "      <td>70</td>\n",
       "      <td>usa</td>\n",
       "      <td>ford torino</td>\n",
       "    </tr>\n",
       "    <tr>\n",
       "      <th>...</th>\n",
       "      <td>...</td>\n",
       "      <td>...</td>\n",
       "      <td>...</td>\n",
       "      <td>...</td>\n",
       "      <td>...</td>\n",
       "      <td>...</td>\n",
       "      <td>...</td>\n",
       "      <td>...</td>\n",
       "      <td>...</td>\n",
       "    </tr>\n",
       "    <tr>\n",
       "      <th>393</th>\n",
       "      <td>27.0</td>\n",
       "      <td>4</td>\n",
       "      <td>140.0</td>\n",
       "      <td>86.0</td>\n",
       "      <td>2790</td>\n",
       "      <td>15.6</td>\n",
       "      <td>82</td>\n",
       "      <td>usa</td>\n",
       "      <td>ford mustang gl</td>\n",
       "    </tr>\n",
       "    <tr>\n",
       "      <th>394</th>\n",
       "      <td>44.0</td>\n",
       "      <td>4</td>\n",
       "      <td>97.0</td>\n",
       "      <td>52.0</td>\n",
       "      <td>2130</td>\n",
       "      <td>24.6</td>\n",
       "      <td>82</td>\n",
       "      <td>europe</td>\n",
       "      <td>vw pickup</td>\n",
       "    </tr>\n",
       "    <tr>\n",
       "      <th>395</th>\n",
       "      <td>32.0</td>\n",
       "      <td>4</td>\n",
       "      <td>135.0</td>\n",
       "      <td>84.0</td>\n",
       "      <td>2295</td>\n",
       "      <td>11.6</td>\n",
       "      <td>82</td>\n",
       "      <td>usa</td>\n",
       "      <td>dodge rampage</td>\n",
       "    </tr>\n",
       "    <tr>\n",
       "      <th>396</th>\n",
       "      <td>28.0</td>\n",
       "      <td>4</td>\n",
       "      <td>120.0</td>\n",
       "      <td>79.0</td>\n",
       "      <td>2625</td>\n",
       "      <td>18.6</td>\n",
       "      <td>82</td>\n",
       "      <td>usa</td>\n",
       "      <td>ford ranger</td>\n",
       "    </tr>\n",
       "    <tr>\n",
       "      <th>397</th>\n",
       "      <td>31.0</td>\n",
       "      <td>4</td>\n",
       "      <td>119.0</td>\n",
       "      <td>82.0</td>\n",
       "      <td>2720</td>\n",
       "      <td>19.4</td>\n",
       "      <td>82</td>\n",
       "      <td>usa</td>\n",
       "      <td>chevy s-10</td>\n",
       "    </tr>\n",
       "  </tbody>\n",
       "</table>\n",
       "<p>392 rows × 9 columns</p>\n",
       "</div>"
      ],
      "text/plain": [
       "      mpg  cylinders  displacement  horsepower  weight  acceleration  \\\n",
       "0    18.0          8         307.0       130.0    3504          12.0   \n",
       "1    15.0          8         350.0       165.0    3693          11.5   \n",
       "2    18.0          8         318.0       150.0    3436          11.0   \n",
       "3    16.0          8         304.0       150.0    3433          12.0   \n",
       "4    17.0          8         302.0       140.0    3449          10.5   \n",
       "..    ...        ...           ...         ...     ...           ...   \n",
       "393  27.0          4         140.0        86.0    2790          15.6   \n",
       "394  44.0          4          97.0        52.0    2130          24.6   \n",
       "395  32.0          4         135.0        84.0    2295          11.6   \n",
       "396  28.0          4         120.0        79.0    2625          18.6   \n",
       "397  31.0          4         119.0        82.0    2720          19.4   \n",
       "\n",
       "     model_year  origin                       name  \n",
       "0            70     usa  chevrolet chevelle malibu  \n",
       "1            70     usa          buick skylark 320  \n",
       "2            70     usa         plymouth satellite  \n",
       "3            70     usa              amc rebel sst  \n",
       "4            70     usa                ford torino  \n",
       "..          ...     ...                        ...  \n",
       "393          82     usa            ford mustang gl  \n",
       "394          82  europe                  vw pickup  \n",
       "395          82     usa              dodge rampage  \n",
       "396          82     usa                ford ranger  \n",
       "397          82     usa                 chevy s-10  \n",
       "\n",
       "[392 rows x 9 columns]"
      ]
     },
     "execution_count": 80,
     "metadata": {},
     "output_type": "execute_result"
    }
   ],
   "source": [
    "df[(df.mpg)<Q]"
   ]
  },
  {
   "cell_type": "code",
   "execution_count": 81,
   "metadata": {},
   "outputs": [
    {
     "data": {
      "application/vnd.plotly.v1+json": {
       "config": {
        "plotlyServerURL": "https://plot.ly"
       },
       "data": [
        {
         "alignmentgroup": "True",
         "hovertemplate": "mpg=%{x}<extra></extra>",
         "legendgroup": "",
         "marker": {
          "color": "#636efa"
         },
         "name": "",
         "notched": false,
         "offsetgroup": "",
         "orientation": "h",
         "showlegend": false,
         "type": "box",
         "x": [
          18,
          15,
          18,
          16,
          17,
          15,
          14,
          14,
          14,
          15,
          15,
          14,
          15,
          14,
          24,
          22,
          18,
          21,
          27,
          26,
          25,
          24,
          25,
          26,
          21,
          10,
          10,
          11,
          9,
          27,
          28,
          25,
          19,
          16,
          17,
          19,
          18,
          14,
          14,
          14,
          14,
          12,
          13,
          13,
          18,
          22,
          19,
          18,
          23,
          28,
          30,
          30,
          31,
          35,
          27,
          26,
          24,
          25,
          23,
          20,
          21,
          13,
          14,
          15,
          14,
          17,
          11,
          13,
          12,
          13,
          19,
          15,
          13,
          13,
          14,
          18,
          22,
          21,
          26,
          22,
          28,
          23,
          28,
          27,
          13,
          14,
          13,
          14,
          15,
          12,
          13,
          13,
          14,
          13,
          12,
          13,
          18,
          16,
          18,
          18,
          23,
          26,
          11,
          12,
          13,
          12,
          18,
          20,
          21,
          22,
          18,
          19,
          21,
          26,
          15,
          16,
          29,
          24,
          20,
          19,
          15,
          24,
          20,
          11,
          20,
          19,
          15,
          31,
          26,
          32,
          25,
          16,
          16,
          18,
          16,
          13,
          14,
          14,
          14,
          29,
          26,
          26,
          31,
          32,
          28,
          24,
          26,
          24,
          26,
          31,
          19,
          18,
          15,
          15,
          16,
          15,
          16,
          14,
          17,
          16,
          15,
          18,
          21,
          20,
          13,
          29,
          23,
          20,
          23,
          24,
          25,
          24,
          18,
          29,
          19,
          23,
          23,
          22,
          25,
          33,
          28,
          25,
          25,
          26,
          27,
          17.5,
          16,
          15.5,
          14.5,
          22,
          22,
          24,
          22.5,
          29,
          24.5,
          29,
          33,
          20,
          18,
          18.5,
          17.5,
          29.5,
          32,
          28,
          26.5,
          20,
          13,
          19,
          19,
          16.5,
          16.5,
          13,
          13,
          13,
          31.5,
          30,
          36,
          25.5,
          33.5,
          17.5,
          17,
          15.5,
          15,
          17.5,
          20.5,
          19,
          18.5,
          16,
          15.5,
          15.5,
          16,
          29,
          24.5,
          26,
          25.5,
          30.5,
          33.5,
          30,
          30.5,
          22,
          21.5,
          21.5,
          43.1,
          36.1,
          32.8,
          39.4,
          36.1,
          19.9,
          19.4,
          20.2,
          19.2,
          20.5,
          20.2,
          25.1,
          20.5,
          19.4,
          20.6,
          20.8,
          18.6,
          18.1,
          19.2,
          17.7,
          18.1,
          17.5,
          30,
          27.5,
          27.2,
          30.9,
          21.1,
          23.2,
          23.8,
          23.9,
          20.3,
          17,
          21.6,
          16.2,
          31.5,
          29.5,
          21.5,
          19.8,
          22.3,
          20.2,
          20.6,
          17,
          17.6,
          16.5,
          18.2,
          16.9,
          15.5,
          19.2,
          18.5,
          31.9,
          34.1,
          35.7,
          27.4,
          25.4,
          23,
          27.2,
          23.9,
          34.2,
          34.5,
          31.8,
          37.3,
          28.4,
          28.8,
          26.8,
          33.5,
          41.5,
          38.1,
          32.1,
          37.2,
          28,
          26.4,
          24.3,
          19.1,
          34.3,
          29.8,
          31.3,
          37,
          32.2,
          46.6,
          27.9,
          40.8,
          44.3,
          43.4,
          36.4,
          30,
          44.6,
          33.8,
          29.8,
          32.7,
          23.7,
          35,
          32.4,
          27.2,
          26.6,
          25.8,
          23.5,
          30,
          39.1,
          39,
          35.1,
          32.3,
          37,
          37.7,
          34.1,
          34.7,
          34.4,
          29.9,
          33,
          33.7,
          32.4,
          32.9,
          31.6,
          28.1,
          30.7,
          25.4,
          24.2,
          22.4,
          26.6,
          20.2,
          17.6,
          28,
          27,
          34,
          31,
          29,
          27,
          24,
          36,
          37,
          31,
          38,
          36,
          36,
          36,
          34,
          38,
          32,
          38,
          25,
          38,
          26,
          22,
          32,
          36,
          27,
          27,
          44,
          32,
          28,
          31
         ],
         "x0": " ",
         "xaxis": "x",
         "y0": " ",
         "yaxis": "y"
        }
       ],
       "layout": {
        "boxmode": "group",
        "legend": {
         "tracegroupgap": 0
        },
        "margin": {
         "t": 60
        },
        "template": {
         "data": {
          "bar": [
           {
            "error_x": {
             "color": "#2a3f5f"
            },
            "error_y": {
             "color": "#2a3f5f"
            },
            "marker": {
             "line": {
              "color": "#E5ECF6",
              "width": 0.5
             },
             "pattern": {
              "fillmode": "overlay",
              "size": 10,
              "solidity": 0.2
             }
            },
            "type": "bar"
           }
          ],
          "barpolar": [
           {
            "marker": {
             "line": {
              "color": "#E5ECF6",
              "width": 0.5
             },
             "pattern": {
              "fillmode": "overlay",
              "size": 10,
              "solidity": 0.2
             }
            },
            "type": "barpolar"
           }
          ],
          "carpet": [
           {
            "aaxis": {
             "endlinecolor": "#2a3f5f",
             "gridcolor": "white",
             "linecolor": "white",
             "minorgridcolor": "white",
             "startlinecolor": "#2a3f5f"
            },
            "baxis": {
             "endlinecolor": "#2a3f5f",
             "gridcolor": "white",
             "linecolor": "white",
             "minorgridcolor": "white",
             "startlinecolor": "#2a3f5f"
            },
            "type": "carpet"
           }
          ],
          "choropleth": [
           {
            "colorbar": {
             "outlinewidth": 0,
             "ticks": ""
            },
            "type": "choropleth"
           }
          ],
          "contour": [
           {
            "colorbar": {
             "outlinewidth": 0,
             "ticks": ""
            },
            "colorscale": [
             [
              0,
              "#0d0887"
             ],
             [
              0.1111111111111111,
              "#46039f"
             ],
             [
              0.2222222222222222,
              "#7201a8"
             ],
             [
              0.3333333333333333,
              "#9c179e"
             ],
             [
              0.4444444444444444,
              "#bd3786"
             ],
             [
              0.5555555555555556,
              "#d8576b"
             ],
             [
              0.6666666666666666,
              "#ed7953"
             ],
             [
              0.7777777777777778,
              "#fb9f3a"
             ],
             [
              0.8888888888888888,
              "#fdca26"
             ],
             [
              1,
              "#f0f921"
             ]
            ],
            "type": "contour"
           }
          ],
          "contourcarpet": [
           {
            "colorbar": {
             "outlinewidth": 0,
             "ticks": ""
            },
            "type": "contourcarpet"
           }
          ],
          "heatmap": [
           {
            "colorbar": {
             "outlinewidth": 0,
             "ticks": ""
            },
            "colorscale": [
             [
              0,
              "#0d0887"
             ],
             [
              0.1111111111111111,
              "#46039f"
             ],
             [
              0.2222222222222222,
              "#7201a8"
             ],
             [
              0.3333333333333333,
              "#9c179e"
             ],
             [
              0.4444444444444444,
              "#bd3786"
             ],
             [
              0.5555555555555556,
              "#d8576b"
             ],
             [
              0.6666666666666666,
              "#ed7953"
             ],
             [
              0.7777777777777778,
              "#fb9f3a"
             ],
             [
              0.8888888888888888,
              "#fdca26"
             ],
             [
              1,
              "#f0f921"
             ]
            ],
            "type": "heatmap"
           }
          ],
          "heatmapgl": [
           {
            "colorbar": {
             "outlinewidth": 0,
             "ticks": ""
            },
            "colorscale": [
             [
              0,
              "#0d0887"
             ],
             [
              0.1111111111111111,
              "#46039f"
             ],
             [
              0.2222222222222222,
              "#7201a8"
             ],
             [
              0.3333333333333333,
              "#9c179e"
             ],
             [
              0.4444444444444444,
              "#bd3786"
             ],
             [
              0.5555555555555556,
              "#d8576b"
             ],
             [
              0.6666666666666666,
              "#ed7953"
             ],
             [
              0.7777777777777778,
              "#fb9f3a"
             ],
             [
              0.8888888888888888,
              "#fdca26"
             ],
             [
              1,
              "#f0f921"
             ]
            ],
            "type": "heatmapgl"
           }
          ],
          "histogram": [
           {
            "marker": {
             "pattern": {
              "fillmode": "overlay",
              "size": 10,
              "solidity": 0.2
             }
            },
            "type": "histogram"
           }
          ],
          "histogram2d": [
           {
            "colorbar": {
             "outlinewidth": 0,
             "ticks": ""
            },
            "colorscale": [
             [
              0,
              "#0d0887"
             ],
             [
              0.1111111111111111,
              "#46039f"
             ],
             [
              0.2222222222222222,
              "#7201a8"
             ],
             [
              0.3333333333333333,
              "#9c179e"
             ],
             [
              0.4444444444444444,
              "#bd3786"
             ],
             [
              0.5555555555555556,
              "#d8576b"
             ],
             [
              0.6666666666666666,
              "#ed7953"
             ],
             [
              0.7777777777777778,
              "#fb9f3a"
             ],
             [
              0.8888888888888888,
              "#fdca26"
             ],
             [
              1,
              "#f0f921"
             ]
            ],
            "type": "histogram2d"
           }
          ],
          "histogram2dcontour": [
           {
            "colorbar": {
             "outlinewidth": 0,
             "ticks": ""
            },
            "colorscale": [
             [
              0,
              "#0d0887"
             ],
             [
              0.1111111111111111,
              "#46039f"
             ],
             [
              0.2222222222222222,
              "#7201a8"
             ],
             [
              0.3333333333333333,
              "#9c179e"
             ],
             [
              0.4444444444444444,
              "#bd3786"
             ],
             [
              0.5555555555555556,
              "#d8576b"
             ],
             [
              0.6666666666666666,
              "#ed7953"
             ],
             [
              0.7777777777777778,
              "#fb9f3a"
             ],
             [
              0.8888888888888888,
              "#fdca26"
             ],
             [
              1,
              "#f0f921"
             ]
            ],
            "type": "histogram2dcontour"
           }
          ],
          "mesh3d": [
           {
            "colorbar": {
             "outlinewidth": 0,
             "ticks": ""
            },
            "type": "mesh3d"
           }
          ],
          "parcoords": [
           {
            "line": {
             "colorbar": {
              "outlinewidth": 0,
              "ticks": ""
             }
            },
            "type": "parcoords"
           }
          ],
          "pie": [
           {
            "automargin": true,
            "type": "pie"
           }
          ],
          "scatter": [
           {
            "marker": {
             "colorbar": {
              "outlinewidth": 0,
              "ticks": ""
             }
            },
            "type": "scatter"
           }
          ],
          "scatter3d": [
           {
            "line": {
             "colorbar": {
              "outlinewidth": 0,
              "ticks": ""
             }
            },
            "marker": {
             "colorbar": {
              "outlinewidth": 0,
              "ticks": ""
             }
            },
            "type": "scatter3d"
           }
          ],
          "scattercarpet": [
           {
            "marker": {
             "colorbar": {
              "outlinewidth": 0,
              "ticks": ""
             }
            },
            "type": "scattercarpet"
           }
          ],
          "scattergeo": [
           {
            "marker": {
             "colorbar": {
              "outlinewidth": 0,
              "ticks": ""
             }
            },
            "type": "scattergeo"
           }
          ],
          "scattergl": [
           {
            "marker": {
             "colorbar": {
              "outlinewidth": 0,
              "ticks": ""
             }
            },
            "type": "scattergl"
           }
          ],
          "scattermapbox": [
           {
            "marker": {
             "colorbar": {
              "outlinewidth": 0,
              "ticks": ""
             }
            },
            "type": "scattermapbox"
           }
          ],
          "scatterpolar": [
           {
            "marker": {
             "colorbar": {
              "outlinewidth": 0,
              "ticks": ""
             }
            },
            "type": "scatterpolar"
           }
          ],
          "scatterpolargl": [
           {
            "marker": {
             "colorbar": {
              "outlinewidth": 0,
              "ticks": ""
             }
            },
            "type": "scatterpolargl"
           }
          ],
          "scatterternary": [
           {
            "marker": {
             "colorbar": {
              "outlinewidth": 0,
              "ticks": ""
             }
            },
            "type": "scatterternary"
           }
          ],
          "surface": [
           {
            "colorbar": {
             "outlinewidth": 0,
             "ticks": ""
            },
            "colorscale": [
             [
              0,
              "#0d0887"
             ],
             [
              0.1111111111111111,
              "#46039f"
             ],
             [
              0.2222222222222222,
              "#7201a8"
             ],
             [
              0.3333333333333333,
              "#9c179e"
             ],
             [
              0.4444444444444444,
              "#bd3786"
             ],
             [
              0.5555555555555556,
              "#d8576b"
             ],
             [
              0.6666666666666666,
              "#ed7953"
             ],
             [
              0.7777777777777778,
              "#fb9f3a"
             ],
             [
              0.8888888888888888,
              "#fdca26"
             ],
             [
              1,
              "#f0f921"
             ]
            ],
            "type": "surface"
           }
          ],
          "table": [
           {
            "cells": {
             "fill": {
              "color": "#EBF0F8"
             },
             "line": {
              "color": "white"
             }
            },
            "header": {
             "fill": {
              "color": "#C8D4E3"
             },
             "line": {
              "color": "white"
             }
            },
            "type": "table"
           }
          ]
         },
         "layout": {
          "annotationdefaults": {
           "arrowcolor": "#2a3f5f",
           "arrowhead": 0,
           "arrowwidth": 1
          },
          "autotypenumbers": "strict",
          "coloraxis": {
           "colorbar": {
            "outlinewidth": 0,
            "ticks": ""
           }
          },
          "colorscale": {
           "diverging": [
            [
             0,
             "#8e0152"
            ],
            [
             0.1,
             "#c51b7d"
            ],
            [
             0.2,
             "#de77ae"
            ],
            [
             0.3,
             "#f1b6da"
            ],
            [
             0.4,
             "#fde0ef"
            ],
            [
             0.5,
             "#f7f7f7"
            ],
            [
             0.6,
             "#e6f5d0"
            ],
            [
             0.7,
             "#b8e186"
            ],
            [
             0.8,
             "#7fbc41"
            ],
            [
             0.9,
             "#4d9221"
            ],
            [
             1,
             "#276419"
            ]
           ],
           "sequential": [
            [
             0,
             "#0d0887"
            ],
            [
             0.1111111111111111,
             "#46039f"
            ],
            [
             0.2222222222222222,
             "#7201a8"
            ],
            [
             0.3333333333333333,
             "#9c179e"
            ],
            [
             0.4444444444444444,
             "#bd3786"
            ],
            [
             0.5555555555555556,
             "#d8576b"
            ],
            [
             0.6666666666666666,
             "#ed7953"
            ],
            [
             0.7777777777777778,
             "#fb9f3a"
            ],
            [
             0.8888888888888888,
             "#fdca26"
            ],
            [
             1,
             "#f0f921"
            ]
           ],
           "sequentialminus": [
            [
             0,
             "#0d0887"
            ],
            [
             0.1111111111111111,
             "#46039f"
            ],
            [
             0.2222222222222222,
             "#7201a8"
            ],
            [
             0.3333333333333333,
             "#9c179e"
            ],
            [
             0.4444444444444444,
             "#bd3786"
            ],
            [
             0.5555555555555556,
             "#d8576b"
            ],
            [
             0.6666666666666666,
             "#ed7953"
            ],
            [
             0.7777777777777778,
             "#fb9f3a"
            ],
            [
             0.8888888888888888,
             "#fdca26"
            ],
            [
             1,
             "#f0f921"
            ]
           ]
          },
          "colorway": [
           "#636efa",
           "#EF553B",
           "#00cc96",
           "#ab63fa",
           "#FFA15A",
           "#19d3f3",
           "#FF6692",
           "#B6E880",
           "#FF97FF",
           "#FECB52"
          ],
          "font": {
           "color": "#2a3f5f"
          },
          "geo": {
           "bgcolor": "white",
           "lakecolor": "white",
           "landcolor": "#E5ECF6",
           "showlakes": true,
           "showland": true,
           "subunitcolor": "white"
          },
          "hoverlabel": {
           "align": "left"
          },
          "hovermode": "closest",
          "mapbox": {
           "style": "light"
          },
          "paper_bgcolor": "white",
          "plot_bgcolor": "#E5ECF6",
          "polar": {
           "angularaxis": {
            "gridcolor": "white",
            "linecolor": "white",
            "ticks": ""
           },
           "bgcolor": "#E5ECF6",
           "radialaxis": {
            "gridcolor": "white",
            "linecolor": "white",
            "ticks": ""
           }
          },
          "scene": {
           "xaxis": {
            "backgroundcolor": "#E5ECF6",
            "gridcolor": "white",
            "gridwidth": 2,
            "linecolor": "white",
            "showbackground": true,
            "ticks": "",
            "zerolinecolor": "white"
           },
           "yaxis": {
            "backgroundcolor": "#E5ECF6",
            "gridcolor": "white",
            "gridwidth": 2,
            "linecolor": "white",
            "showbackground": true,
            "ticks": "",
            "zerolinecolor": "white"
           },
           "zaxis": {
            "backgroundcolor": "#E5ECF6",
            "gridcolor": "white",
            "gridwidth": 2,
            "linecolor": "white",
            "showbackground": true,
            "ticks": "",
            "zerolinecolor": "white"
           }
          },
          "shapedefaults": {
           "line": {
            "color": "#2a3f5f"
           }
          },
          "ternary": {
           "aaxis": {
            "gridcolor": "white",
            "linecolor": "white",
            "ticks": ""
           },
           "baxis": {
            "gridcolor": "white",
            "linecolor": "white",
            "ticks": ""
           },
           "bgcolor": "#E5ECF6",
           "caxis": {
            "gridcolor": "white",
            "linecolor": "white",
            "ticks": ""
           }
          },
          "title": {
           "x": 0.05
          },
          "xaxis": {
           "automargin": true,
           "gridcolor": "white",
           "linecolor": "white",
           "ticks": "",
           "title": {
            "standoff": 15
           },
           "zerolinecolor": "white",
           "zerolinewidth": 2
          },
          "yaxis": {
           "automargin": true,
           "gridcolor": "white",
           "linecolor": "white",
           "ticks": "",
           "title": {
            "standoff": 15
           },
           "zerolinecolor": "white",
           "zerolinewidth": 2
          }
         }
        },
        "xaxis": {
         "anchor": "y",
         "domain": [
          0,
          1
         ],
         "title": {
          "text": "mpg"
         }
        },
        "yaxis": {
         "anchor": "x",
         "domain": [
          0,
          1
         ]
        }
       }
      }
     },
     "metadata": {},
     "output_type": "display_data"
    }
   ],
   "source": [
    "px.box(df , x = 'mpg')"
   ]
  },
  {
   "cell_type": "code",
   "execution_count": 82,
   "metadata": {},
   "outputs": [
    {
     "data": {
      "application/vnd.plotly.v1+json": {
       "config": {
        "plotlyServerURL": "https://plot.ly"
       },
       "data": [
        {
         "alignmentgroup": "True",
         "bingroup": "x",
         "hovertemplate": "origin=%{x}<br>count=%{y}<extra></extra>",
         "legendgroup": "usa",
         "marker": {
          "color": "#636efa",
          "pattern": {
           "shape": ""
          }
         },
         "name": "usa",
         "offsetgroup": "usa",
         "orientation": "v",
         "showlegend": true,
         "type": "histogram",
         "x": [
          "usa",
          "usa",
          "usa",
          "usa",
          "usa",
          "usa",
          "usa",
          "usa",
          "usa",
          "usa",
          "usa",
          "usa",
          "usa",
          "usa",
          "usa",
          "usa",
          "usa",
          "usa",
          "usa",
          "usa",
          "usa",
          "usa",
          "usa",
          "usa",
          "usa",
          "usa",
          "usa",
          "usa",
          "usa",
          "usa",
          "usa",
          "usa",
          "usa",
          "usa",
          "usa",
          "usa",
          "usa",
          "usa",
          "usa",
          "usa",
          "usa",
          "usa",
          "usa",
          "usa",
          "usa",
          "usa",
          "usa",
          "usa",
          "usa",
          "usa",
          "usa",
          "usa",
          "usa",
          "usa",
          "usa",
          "usa",
          "usa",
          "usa",
          "usa",
          "usa",
          "usa",
          "usa",
          "usa",
          "usa",
          "usa",
          "usa",
          "usa",
          "usa",
          "usa",
          "usa",
          "usa",
          "usa",
          "usa",
          "usa",
          "usa",
          "usa",
          "usa",
          "usa",
          "usa",
          "usa",
          "usa",
          "usa",
          "usa",
          "usa",
          "usa",
          "usa",
          "usa",
          "usa",
          "usa",
          "usa",
          "usa",
          "usa",
          "usa",
          "usa",
          "usa",
          "usa",
          "usa",
          "usa",
          "usa",
          "usa",
          "usa",
          "usa",
          "usa",
          "usa",
          "usa",
          "usa",
          "usa",
          "usa",
          "usa",
          "usa",
          "usa",
          "usa",
          "usa",
          "usa",
          "usa",
          "usa",
          "usa",
          "usa",
          "usa",
          "usa",
          "usa",
          "usa",
          "usa",
          "usa",
          "usa",
          "usa",
          "usa",
          "usa",
          "usa",
          "usa",
          "usa",
          "usa",
          "usa",
          "usa",
          "usa",
          "usa",
          "usa",
          "usa",
          "usa",
          "usa",
          "usa",
          "usa",
          "usa",
          "usa",
          "usa",
          "usa",
          "usa",
          "usa",
          "usa",
          "usa",
          "usa",
          "usa",
          "usa",
          "usa",
          "usa",
          "usa",
          "usa",
          "usa",
          "usa",
          "usa",
          "usa",
          "usa",
          "usa",
          "usa",
          "usa",
          "usa",
          "usa",
          "usa",
          "usa",
          "usa",
          "usa",
          "usa",
          "usa",
          "usa",
          "usa",
          "usa",
          "usa",
          "usa",
          "usa",
          "usa",
          "usa",
          "usa",
          "usa",
          "usa",
          "usa",
          "usa",
          "usa",
          "usa",
          "usa",
          "usa",
          "usa",
          "usa",
          "usa",
          "usa",
          "usa",
          "usa",
          "usa",
          "usa",
          "usa",
          "usa",
          "usa",
          "usa",
          "usa",
          "usa",
          "usa",
          "usa",
          "usa",
          "usa",
          "usa",
          "usa",
          "usa",
          "usa",
          "usa",
          "usa",
          "usa",
          "usa",
          "usa",
          "usa",
          "usa",
          "usa",
          "usa",
          "usa",
          "usa",
          "usa",
          "usa",
          "usa",
          "usa",
          "usa",
          "usa",
          "usa",
          "usa",
          "usa",
          "usa",
          "usa",
          "usa",
          "usa",
          "usa",
          "usa",
          "usa",
          "usa",
          "usa",
          "usa",
          "usa",
          "usa",
          "usa"
         ],
         "xaxis": "x",
         "yaxis": "y"
        },
        {
         "alignmentgroup": "True",
         "bingroup": "x",
         "hovertemplate": "origin=%{x}<br>count=%{y}<extra></extra>",
         "legendgroup": "japan",
         "marker": {
          "color": "#EF553B",
          "pattern": {
           "shape": ""
          }
         },
         "name": "japan",
         "offsetgroup": "japan",
         "orientation": "v",
         "showlegend": true,
         "type": "histogram",
         "x": [
          "japan",
          "japan",
          "japan",
          "japan",
          "japan",
          "japan",
          "japan",
          "japan",
          "japan",
          "japan",
          "japan",
          "japan",
          "japan",
          "japan",
          "japan",
          "japan",
          "japan",
          "japan",
          "japan",
          "japan",
          "japan",
          "japan",
          "japan",
          "japan",
          "japan",
          "japan",
          "japan",
          "japan",
          "japan",
          "japan",
          "japan",
          "japan",
          "japan",
          "japan",
          "japan",
          "japan",
          "japan",
          "japan",
          "japan",
          "japan",
          "japan",
          "japan",
          "japan",
          "japan",
          "japan",
          "japan",
          "japan",
          "japan",
          "japan",
          "japan",
          "japan",
          "japan",
          "japan",
          "japan",
          "japan",
          "japan",
          "japan",
          "japan",
          "japan",
          "japan",
          "japan",
          "japan",
          "japan",
          "japan",
          "japan",
          "japan",
          "japan",
          "japan",
          "japan",
          "japan",
          "japan",
          "japan",
          "japan",
          "japan",
          "japan",
          "japan",
          "japan",
          "japan",
          "japan"
         ],
         "xaxis": "x",
         "yaxis": "y"
        },
        {
         "alignmentgroup": "True",
         "bingroup": "x",
         "hovertemplate": "origin=%{x}<br>count=%{y}<extra></extra>",
         "legendgroup": "europe",
         "marker": {
          "color": "#00cc96",
          "pattern": {
           "shape": ""
          }
         },
         "name": "europe",
         "offsetgroup": "europe",
         "orientation": "v",
         "showlegend": true,
         "type": "histogram",
         "x": [
          "europe",
          "europe",
          "europe",
          "europe",
          "europe",
          "europe",
          "europe",
          "europe",
          "europe",
          "europe",
          "europe",
          "europe",
          "europe",
          "europe",
          "europe",
          "europe",
          "europe",
          "europe",
          "europe",
          "europe",
          "europe",
          "europe",
          "europe",
          "europe",
          "europe",
          "europe",
          "europe",
          "europe",
          "europe",
          "europe",
          "europe",
          "europe",
          "europe",
          "europe",
          "europe",
          "europe",
          "europe",
          "europe",
          "europe",
          "europe",
          "europe",
          "europe",
          "europe",
          "europe",
          "europe",
          "europe",
          "europe",
          "europe",
          "europe",
          "europe",
          "europe",
          "europe",
          "europe",
          "europe",
          "europe",
          "europe",
          "europe",
          "europe",
          "europe",
          "europe",
          "europe",
          "europe",
          "europe",
          "europe",
          "europe",
          "europe",
          "europe",
          "europe"
         ],
         "xaxis": "x",
         "yaxis": "y"
        }
       ],
       "layout": {
        "barmode": "relative",
        "legend": {
         "title": {
          "text": "origin"
         },
         "tracegroupgap": 0
        },
        "margin": {
         "t": 60
        },
        "template": {
         "data": {
          "bar": [
           {
            "error_x": {
             "color": "#2a3f5f"
            },
            "error_y": {
             "color": "#2a3f5f"
            },
            "marker": {
             "line": {
              "color": "#E5ECF6",
              "width": 0.5
             },
             "pattern": {
              "fillmode": "overlay",
              "size": 10,
              "solidity": 0.2
             }
            },
            "type": "bar"
           }
          ],
          "barpolar": [
           {
            "marker": {
             "line": {
              "color": "#E5ECF6",
              "width": 0.5
             },
             "pattern": {
              "fillmode": "overlay",
              "size": 10,
              "solidity": 0.2
             }
            },
            "type": "barpolar"
           }
          ],
          "carpet": [
           {
            "aaxis": {
             "endlinecolor": "#2a3f5f",
             "gridcolor": "white",
             "linecolor": "white",
             "minorgridcolor": "white",
             "startlinecolor": "#2a3f5f"
            },
            "baxis": {
             "endlinecolor": "#2a3f5f",
             "gridcolor": "white",
             "linecolor": "white",
             "minorgridcolor": "white",
             "startlinecolor": "#2a3f5f"
            },
            "type": "carpet"
           }
          ],
          "choropleth": [
           {
            "colorbar": {
             "outlinewidth": 0,
             "ticks": ""
            },
            "type": "choropleth"
           }
          ],
          "contour": [
           {
            "colorbar": {
             "outlinewidth": 0,
             "ticks": ""
            },
            "colorscale": [
             [
              0,
              "#0d0887"
             ],
             [
              0.1111111111111111,
              "#46039f"
             ],
             [
              0.2222222222222222,
              "#7201a8"
             ],
             [
              0.3333333333333333,
              "#9c179e"
             ],
             [
              0.4444444444444444,
              "#bd3786"
             ],
             [
              0.5555555555555556,
              "#d8576b"
             ],
             [
              0.6666666666666666,
              "#ed7953"
             ],
             [
              0.7777777777777778,
              "#fb9f3a"
             ],
             [
              0.8888888888888888,
              "#fdca26"
             ],
             [
              1,
              "#f0f921"
             ]
            ],
            "type": "contour"
           }
          ],
          "contourcarpet": [
           {
            "colorbar": {
             "outlinewidth": 0,
             "ticks": ""
            },
            "type": "contourcarpet"
           }
          ],
          "heatmap": [
           {
            "colorbar": {
             "outlinewidth": 0,
             "ticks": ""
            },
            "colorscale": [
             [
              0,
              "#0d0887"
             ],
             [
              0.1111111111111111,
              "#46039f"
             ],
             [
              0.2222222222222222,
              "#7201a8"
             ],
             [
              0.3333333333333333,
              "#9c179e"
             ],
             [
              0.4444444444444444,
              "#bd3786"
             ],
             [
              0.5555555555555556,
              "#d8576b"
             ],
             [
              0.6666666666666666,
              "#ed7953"
             ],
             [
              0.7777777777777778,
              "#fb9f3a"
             ],
             [
              0.8888888888888888,
              "#fdca26"
             ],
             [
              1,
              "#f0f921"
             ]
            ],
            "type": "heatmap"
           }
          ],
          "heatmapgl": [
           {
            "colorbar": {
             "outlinewidth": 0,
             "ticks": ""
            },
            "colorscale": [
             [
              0,
              "#0d0887"
             ],
             [
              0.1111111111111111,
              "#46039f"
             ],
             [
              0.2222222222222222,
              "#7201a8"
             ],
             [
              0.3333333333333333,
              "#9c179e"
             ],
             [
              0.4444444444444444,
              "#bd3786"
             ],
             [
              0.5555555555555556,
              "#d8576b"
             ],
             [
              0.6666666666666666,
              "#ed7953"
             ],
             [
              0.7777777777777778,
              "#fb9f3a"
             ],
             [
              0.8888888888888888,
              "#fdca26"
             ],
             [
              1,
              "#f0f921"
             ]
            ],
            "type": "heatmapgl"
           }
          ],
          "histogram": [
           {
            "marker": {
             "pattern": {
              "fillmode": "overlay",
              "size": 10,
              "solidity": 0.2
             }
            },
            "type": "histogram"
           }
          ],
          "histogram2d": [
           {
            "colorbar": {
             "outlinewidth": 0,
             "ticks": ""
            },
            "colorscale": [
             [
              0,
              "#0d0887"
             ],
             [
              0.1111111111111111,
              "#46039f"
             ],
             [
              0.2222222222222222,
              "#7201a8"
             ],
             [
              0.3333333333333333,
              "#9c179e"
             ],
             [
              0.4444444444444444,
              "#bd3786"
             ],
             [
              0.5555555555555556,
              "#d8576b"
             ],
             [
              0.6666666666666666,
              "#ed7953"
             ],
             [
              0.7777777777777778,
              "#fb9f3a"
             ],
             [
              0.8888888888888888,
              "#fdca26"
             ],
             [
              1,
              "#f0f921"
             ]
            ],
            "type": "histogram2d"
           }
          ],
          "histogram2dcontour": [
           {
            "colorbar": {
             "outlinewidth": 0,
             "ticks": ""
            },
            "colorscale": [
             [
              0,
              "#0d0887"
             ],
             [
              0.1111111111111111,
              "#46039f"
             ],
             [
              0.2222222222222222,
              "#7201a8"
             ],
             [
              0.3333333333333333,
              "#9c179e"
             ],
             [
              0.4444444444444444,
              "#bd3786"
             ],
             [
              0.5555555555555556,
              "#d8576b"
             ],
             [
              0.6666666666666666,
              "#ed7953"
             ],
             [
              0.7777777777777778,
              "#fb9f3a"
             ],
             [
              0.8888888888888888,
              "#fdca26"
             ],
             [
              1,
              "#f0f921"
             ]
            ],
            "type": "histogram2dcontour"
           }
          ],
          "mesh3d": [
           {
            "colorbar": {
             "outlinewidth": 0,
             "ticks": ""
            },
            "type": "mesh3d"
           }
          ],
          "parcoords": [
           {
            "line": {
             "colorbar": {
              "outlinewidth": 0,
              "ticks": ""
             }
            },
            "type": "parcoords"
           }
          ],
          "pie": [
           {
            "automargin": true,
            "type": "pie"
           }
          ],
          "scatter": [
           {
            "marker": {
             "colorbar": {
              "outlinewidth": 0,
              "ticks": ""
             }
            },
            "type": "scatter"
           }
          ],
          "scatter3d": [
           {
            "line": {
             "colorbar": {
              "outlinewidth": 0,
              "ticks": ""
             }
            },
            "marker": {
             "colorbar": {
              "outlinewidth": 0,
              "ticks": ""
             }
            },
            "type": "scatter3d"
           }
          ],
          "scattercarpet": [
           {
            "marker": {
             "colorbar": {
              "outlinewidth": 0,
              "ticks": ""
             }
            },
            "type": "scattercarpet"
           }
          ],
          "scattergeo": [
           {
            "marker": {
             "colorbar": {
              "outlinewidth": 0,
              "ticks": ""
             }
            },
            "type": "scattergeo"
           }
          ],
          "scattergl": [
           {
            "marker": {
             "colorbar": {
              "outlinewidth": 0,
              "ticks": ""
             }
            },
            "type": "scattergl"
           }
          ],
          "scattermapbox": [
           {
            "marker": {
             "colorbar": {
              "outlinewidth": 0,
              "ticks": ""
             }
            },
            "type": "scattermapbox"
           }
          ],
          "scatterpolar": [
           {
            "marker": {
             "colorbar": {
              "outlinewidth": 0,
              "ticks": ""
             }
            },
            "type": "scatterpolar"
           }
          ],
          "scatterpolargl": [
           {
            "marker": {
             "colorbar": {
              "outlinewidth": 0,
              "ticks": ""
             }
            },
            "type": "scatterpolargl"
           }
          ],
          "scatterternary": [
           {
            "marker": {
             "colorbar": {
              "outlinewidth": 0,
              "ticks": ""
             }
            },
            "type": "scatterternary"
           }
          ],
          "surface": [
           {
            "colorbar": {
             "outlinewidth": 0,
             "ticks": ""
            },
            "colorscale": [
             [
              0,
              "#0d0887"
             ],
             [
              0.1111111111111111,
              "#46039f"
             ],
             [
              0.2222222222222222,
              "#7201a8"
             ],
             [
              0.3333333333333333,
              "#9c179e"
             ],
             [
              0.4444444444444444,
              "#bd3786"
             ],
             [
              0.5555555555555556,
              "#d8576b"
             ],
             [
              0.6666666666666666,
              "#ed7953"
             ],
             [
              0.7777777777777778,
              "#fb9f3a"
             ],
             [
              0.8888888888888888,
              "#fdca26"
             ],
             [
              1,
              "#f0f921"
             ]
            ],
            "type": "surface"
           }
          ],
          "table": [
           {
            "cells": {
             "fill": {
              "color": "#EBF0F8"
             },
             "line": {
              "color": "white"
             }
            },
            "header": {
             "fill": {
              "color": "#C8D4E3"
             },
             "line": {
              "color": "white"
             }
            },
            "type": "table"
           }
          ]
         },
         "layout": {
          "annotationdefaults": {
           "arrowcolor": "#2a3f5f",
           "arrowhead": 0,
           "arrowwidth": 1
          },
          "autotypenumbers": "strict",
          "coloraxis": {
           "colorbar": {
            "outlinewidth": 0,
            "ticks": ""
           }
          },
          "colorscale": {
           "diverging": [
            [
             0,
             "#8e0152"
            ],
            [
             0.1,
             "#c51b7d"
            ],
            [
             0.2,
             "#de77ae"
            ],
            [
             0.3,
             "#f1b6da"
            ],
            [
             0.4,
             "#fde0ef"
            ],
            [
             0.5,
             "#f7f7f7"
            ],
            [
             0.6,
             "#e6f5d0"
            ],
            [
             0.7,
             "#b8e186"
            ],
            [
             0.8,
             "#7fbc41"
            ],
            [
             0.9,
             "#4d9221"
            ],
            [
             1,
             "#276419"
            ]
           ],
           "sequential": [
            [
             0,
             "#0d0887"
            ],
            [
             0.1111111111111111,
             "#46039f"
            ],
            [
             0.2222222222222222,
             "#7201a8"
            ],
            [
             0.3333333333333333,
             "#9c179e"
            ],
            [
             0.4444444444444444,
             "#bd3786"
            ],
            [
             0.5555555555555556,
             "#d8576b"
            ],
            [
             0.6666666666666666,
             "#ed7953"
            ],
            [
             0.7777777777777778,
             "#fb9f3a"
            ],
            [
             0.8888888888888888,
             "#fdca26"
            ],
            [
             1,
             "#f0f921"
            ]
           ],
           "sequentialminus": [
            [
             0,
             "#0d0887"
            ],
            [
             0.1111111111111111,
             "#46039f"
            ],
            [
             0.2222222222222222,
             "#7201a8"
            ],
            [
             0.3333333333333333,
             "#9c179e"
            ],
            [
             0.4444444444444444,
             "#bd3786"
            ],
            [
             0.5555555555555556,
             "#d8576b"
            ],
            [
             0.6666666666666666,
             "#ed7953"
            ],
            [
             0.7777777777777778,
             "#fb9f3a"
            ],
            [
             0.8888888888888888,
             "#fdca26"
            ],
            [
             1,
             "#f0f921"
            ]
           ]
          },
          "colorway": [
           "#636efa",
           "#EF553B",
           "#00cc96",
           "#ab63fa",
           "#FFA15A",
           "#19d3f3",
           "#FF6692",
           "#B6E880",
           "#FF97FF",
           "#FECB52"
          ],
          "font": {
           "color": "#2a3f5f"
          },
          "geo": {
           "bgcolor": "white",
           "lakecolor": "white",
           "landcolor": "#E5ECF6",
           "showlakes": true,
           "showland": true,
           "subunitcolor": "white"
          },
          "hoverlabel": {
           "align": "left"
          },
          "hovermode": "closest",
          "mapbox": {
           "style": "light"
          },
          "paper_bgcolor": "white",
          "plot_bgcolor": "#E5ECF6",
          "polar": {
           "angularaxis": {
            "gridcolor": "white",
            "linecolor": "white",
            "ticks": ""
           },
           "bgcolor": "#E5ECF6",
           "radialaxis": {
            "gridcolor": "white",
            "linecolor": "white",
            "ticks": ""
           }
          },
          "scene": {
           "xaxis": {
            "backgroundcolor": "#E5ECF6",
            "gridcolor": "white",
            "gridwidth": 2,
            "linecolor": "white",
            "showbackground": true,
            "ticks": "",
            "zerolinecolor": "white"
           },
           "yaxis": {
            "backgroundcolor": "#E5ECF6",
            "gridcolor": "white",
            "gridwidth": 2,
            "linecolor": "white",
            "showbackground": true,
            "ticks": "",
            "zerolinecolor": "white"
           },
           "zaxis": {
            "backgroundcolor": "#E5ECF6",
            "gridcolor": "white",
            "gridwidth": 2,
            "linecolor": "white",
            "showbackground": true,
            "ticks": "",
            "zerolinecolor": "white"
           }
          },
          "shapedefaults": {
           "line": {
            "color": "#2a3f5f"
           }
          },
          "ternary": {
           "aaxis": {
            "gridcolor": "white",
            "linecolor": "white",
            "ticks": ""
           },
           "baxis": {
            "gridcolor": "white",
            "linecolor": "white",
            "ticks": ""
           },
           "bgcolor": "#E5ECF6",
           "caxis": {
            "gridcolor": "white",
            "linecolor": "white",
            "ticks": ""
           }
          },
          "title": {
           "x": 0.05
          },
          "xaxis": {
           "automargin": true,
           "gridcolor": "white",
           "linecolor": "white",
           "ticks": "",
           "title": {
            "standoff": 15
           },
           "zerolinecolor": "white",
           "zerolinewidth": 2
          },
          "yaxis": {
           "automargin": true,
           "gridcolor": "white",
           "linecolor": "white",
           "ticks": "",
           "title": {
            "standoff": 15
           },
           "zerolinecolor": "white",
           "zerolinewidth": 2
          }
         }
        },
        "xaxis": {
         "anchor": "y",
         "categoryarray": [
          "usa",
          "japan",
          "europe"
         ],
         "categoryorder": "array",
         "domain": [
          0,
          1
         ],
         "title": {
          "text": "origin"
         }
        },
        "yaxis": {
         "anchor": "x",
         "domain": [
          0,
          1
         ],
         "title": {
          "text": "count"
         }
        }
       }
      }
     },
     "metadata": {},
     "output_type": "display_data"
    }
   ],
   "source": [
    "px.histogram(df , x = 'origin' , color = 'origin')"
   ]
  },
  {
   "cell_type": "code",
   "execution_count": 83,
   "metadata": {},
   "outputs": [
    {
     "data": {
      "application/vnd.plotly.v1+json": {
       "config": {
        "plotlyServerURL": "https://plot.ly"
       },
       "data": [
        {
         "customdata": [
          [
           "chevrolet chevelle malibu"
          ],
          [
           "buick skylark 320"
          ],
          [
           "plymouth satellite"
          ],
          [
           "amc rebel sst"
          ],
          [
           "ford torino"
          ],
          [
           "ford galaxie 500"
          ],
          [
           "chevrolet impala"
          ],
          [
           "plymouth fury iii"
          ],
          [
           "pontiac catalina"
          ],
          [
           "amc ambassador dpl"
          ],
          [
           "dodge challenger se"
          ],
          [
           "plymouth 'cuda 340"
          ],
          [
           "chevrolet monte carlo"
          ],
          [
           "buick estate wagon (sw)"
          ],
          [
           "toyota corona mark ii"
          ],
          [
           "plymouth duster"
          ],
          [
           "amc hornet"
          ],
          [
           "ford maverick"
          ],
          [
           "datsun pl510"
          ],
          [
           "volkswagen 1131 deluxe sedan"
          ],
          [
           "peugeot 504"
          ],
          [
           "audi 100 ls"
          ],
          [
           "saab 99e"
          ],
          [
           "bmw 2002"
          ],
          [
           "amc gremlin"
          ],
          [
           "ford f250"
          ],
          [
           "chevy c20"
          ],
          [
           "dodge d200"
          ],
          [
           "hi 1200d"
          ],
          [
           "datsun pl510"
          ],
          [
           "chevrolet vega 2300"
          ],
          [
           "toyota corona"
          ],
          [
           "amc gremlin"
          ],
          [
           "plymouth satellite custom"
          ],
          [
           "chevrolet chevelle malibu"
          ],
          [
           "ford torino 500"
          ],
          [
           "amc matador"
          ],
          [
           "chevrolet impala"
          ],
          [
           "pontiac catalina brougham"
          ],
          [
           "ford galaxie 500"
          ],
          [
           "plymouth fury iii"
          ],
          [
           "dodge monaco (sw)"
          ],
          [
           "ford country squire (sw)"
          ],
          [
           "pontiac safari (sw)"
          ],
          [
           "amc hornet sportabout (sw)"
          ],
          [
           "chevrolet vega (sw)"
          ],
          [
           "pontiac firebird"
          ],
          [
           "ford mustang"
          ],
          [
           "mercury capri 2000"
          ],
          [
           "opel 1900"
          ],
          [
           "peugeot 304"
          ],
          [
           "fiat 124b"
          ],
          [
           "toyota corolla 1200"
          ],
          [
           "datsun 1200"
          ],
          [
           "volkswagen model 111"
          ],
          [
           "plymouth cricket"
          ],
          [
           "toyota corona hardtop"
          ],
          [
           "dodge colt hardtop"
          ],
          [
           "volkswagen type 3"
          ],
          [
           "chevrolet vega"
          ],
          [
           "ford pinto runabout"
          ],
          [
           "chevrolet impala"
          ],
          [
           "pontiac catalina"
          ],
          [
           "plymouth fury iii"
          ],
          [
           "ford galaxie 500"
          ],
          [
           "amc ambassador sst"
          ],
          [
           "mercury marquis"
          ],
          [
           "buick lesabre custom"
          ],
          [
           "oldsmobile delta 88 royale"
          ],
          [
           "chrysler newport royal"
          ],
          [
           "mazda rx2 coupe"
          ],
          [
           "amc matador (sw)"
          ],
          [
           "chevrolet chevelle concours (sw)"
          ],
          [
           "ford gran torino (sw)"
          ],
          [
           "plymouth satellite custom (sw)"
          ],
          [
           "volvo 145e (sw)"
          ],
          [
           "volkswagen 411 (sw)"
          ],
          [
           "peugeot 504 (sw)"
          ],
          [
           "renault 12 (sw)"
          ],
          [
           "ford pinto (sw)"
          ],
          [
           "datsun 510 (sw)"
          ],
          [
           "toyouta corona mark ii (sw)"
          ],
          [
           "dodge colt (sw)"
          ],
          [
           "toyota corolla 1600 (sw)"
          ],
          [
           "buick century 350"
          ],
          [
           "amc matador"
          ],
          [
           "chevrolet malibu"
          ],
          [
           "ford gran torino"
          ],
          [
           "dodge coronet custom"
          ],
          [
           "mercury marquis brougham"
          ],
          [
           "chevrolet caprice classic"
          ],
          [
           "ford ltd"
          ],
          [
           "plymouth fury gran sedan"
          ],
          [
           "chrysler new yorker brougham"
          ],
          [
           "buick electra 225 custom"
          ],
          [
           "amc ambassador brougham"
          ],
          [
           "plymouth valiant"
          ],
          [
           "chevrolet nova custom"
          ],
          [
           "amc hornet"
          ],
          [
           "ford maverick"
          ],
          [
           "plymouth duster"
          ],
          [
           "volkswagen super beetle"
          ],
          [
           "chevrolet impala"
          ],
          [
           "ford country"
          ],
          [
           "plymouth custom suburb"
          ],
          [
           "oldsmobile vista cruiser"
          ],
          [
           "amc gremlin"
          ],
          [
           "toyota carina"
          ],
          [
           "chevrolet vega"
          ],
          [
           "datsun 610"
          ],
          [
           "maxda rx3"
          ],
          [
           "ford pinto"
          ],
          [
           "mercury capri v6"
          ],
          [
           "fiat 124 sport coupe"
          ],
          [
           "chevrolet monte carlo s"
          ],
          [
           "pontiac grand prix"
          ],
          [
           "fiat 128"
          ],
          [
           "opel manta"
          ],
          [
           "audi 100ls"
          ],
          [
           "volvo 144ea"
          ],
          [
           "dodge dart custom"
          ],
          [
           "saab 99le"
          ],
          [
           "toyota mark ii"
          ],
          [
           "oldsmobile omega"
          ],
          [
           "plymouth duster"
          ],
          [
           "amc hornet"
          ],
          [
           "chevrolet nova"
          ],
          [
           "datsun b210"
          ],
          [
           "ford pinto"
          ],
          [
           "toyota corolla 1200"
          ],
          [
           "chevrolet vega"
          ],
          [
           "chevrolet chevelle malibu classic"
          ],
          [
           "amc matador"
          ],
          [
           "plymouth satellite sebring"
          ],
          [
           "ford gran torino"
          ],
          [
           "buick century luxus (sw)"
          ],
          [
           "dodge coronet custom (sw)"
          ],
          [
           "ford gran torino (sw)"
          ],
          [
           "amc matador (sw)"
          ],
          [
           "audi fox"
          ],
          [
           "volkswagen dasher"
          ],
          [
           "opel manta"
          ],
          [
           "toyota corona"
          ],
          [
           "datsun 710"
          ],
          [
           "dodge colt"
          ],
          [
           "fiat 128"
          ],
          [
           "fiat 124 tc"
          ],
          [
           "honda civic"
          ],
          [
           "subaru"
          ],
          [
           "fiat x1.9"
          ],
          [
           "plymouth valiant custom"
          ],
          [
           "chevrolet nova"
          ],
          [
           "mercury monarch"
          ],
          [
           "ford maverick"
          ],
          [
           "pontiac catalina"
          ],
          [
           "chevrolet bel air"
          ],
          [
           "plymouth grand fury"
          ],
          [
           "ford ltd"
          ],
          [
           "buick century"
          ],
          [
           "chevroelt chevelle malibu"
          ],
          [
           "amc matador"
          ],
          [
           "plymouth fury"
          ],
          [
           "buick skyhawk"
          ],
          [
           "chevrolet monza 2+2"
          ],
          [
           "ford mustang ii"
          ],
          [
           "toyota corolla"
          ],
          [
           "ford pinto"
          ],
          [
           "amc gremlin"
          ],
          [
           "pontiac astro"
          ],
          [
           "toyota corona"
          ],
          [
           "volkswagen dasher"
          ],
          [
           "datsun 710"
          ],
          [
           "ford pinto"
          ],
          [
           "volkswagen rabbit"
          ],
          [
           "amc pacer"
          ],
          [
           "audi 100ls"
          ],
          [
           "peugeot 504"
          ],
          [
           "volvo 244dl"
          ],
          [
           "saab 99le"
          ],
          [
           "honda civic cvcc"
          ],
          [
           "fiat 131"
          ],
          [
           "opel 1900"
          ],
          [
           "capri ii"
          ],
          [
           "dodge colt"
          ],
          [
           "renault 12tl"
          ],
          [
           "chevrolet chevelle malibu classic"
          ],
          [
           "dodge coronet brougham"
          ],
          [
           "amc matador"
          ],
          [
           "ford gran torino"
          ],
          [
           "plymouth valiant"
          ],
          [
           "chevrolet nova"
          ],
          [
           "ford maverick"
          ],
          [
           "amc hornet"
          ],
          [
           "chevrolet chevette"
          ],
          [
           "chevrolet woody"
          ],
          [
           "vw rabbit"
          ],
          [
           "honda civic"
          ],
          [
           "dodge aspen se"
          ],
          [
           "ford granada ghia"
          ],
          [
           "pontiac ventura sj"
          ],
          [
           "amc pacer d/l"
          ],
          [
           "volkswagen rabbit"
          ],
          [
           "datsun b-210"
          ],
          [
           "toyota corolla"
          ],
          [
           "ford pinto"
          ],
          [
           "volvo 245"
          ],
          [
           "plymouth volare premier v8"
          ],
          [
           "peugeot 504"
          ],
          [
           "toyota mark ii"
          ],
          [
           "mercedes-benz 280s"
          ],
          [
           "cadillac seville"
          ],
          [
           "chevy c10"
          ],
          [
           "ford f108"
          ],
          [
           "dodge d100"
          ],
          [
           "honda accord cvcc"
          ],
          [
           "buick opel isuzu deluxe"
          ],
          [
           "renault 5 gtl"
          ],
          [
           "plymouth arrow gs"
          ],
          [
           "datsun f-10 hatchback"
          ],
          [
           "chevrolet caprice classic"
          ],
          [
           "oldsmobile cutlass supreme"
          ],
          [
           "dodge monaco brougham"
          ],
          [
           "mercury cougar brougham"
          ],
          [
           "chevrolet concours"
          ],
          [
           "buick skylark"
          ],
          [
           "plymouth volare custom"
          ],
          [
           "ford granada"
          ],
          [
           "pontiac grand prix lj"
          ],
          [
           "chevrolet monte carlo landau"
          ],
          [
           "chrysler cordoba"
          ],
          [
           "ford thunderbird"
          ],
          [
           "volkswagen rabbit custom"
          ],
          [
           "pontiac sunbird coupe"
          ],
          [
           "toyota corolla liftback"
          ],
          [
           "ford mustang ii 2+2"
          ],
          [
           "chevrolet chevette"
          ],
          [
           "dodge colt m/m"
          ],
          [
           "subaru dl"
          ],
          [
           "volkswagen dasher"
          ],
          [
           "datsun 810"
          ],
          [
           "bmw 320i"
          ],
          [
           "mazda rx-4"
          ],
          [
           "volkswagen rabbit custom diesel"
          ],
          [
           "ford fiesta"
          ],
          [
           "mazda glc deluxe"
          ],
          [
           "datsun b210 gx"
          ],
          [
           "honda civic cvcc"
          ],
          [
           "oldsmobile cutlass salon brougham"
          ],
          [
           "dodge diplomat"
          ],
          [
           "mercury monarch ghia"
          ],
          [
           "pontiac phoenix lj"
          ],
          [
           "chevrolet malibu"
          ],
          [
           "ford fairmont (auto)"
          ],
          [
           "ford fairmont (man)"
          ],
          [
           "plymouth volare"
          ],
          [
           "amc concord"
          ],
          [
           "buick century special"
          ],
          [
           "mercury zephyr"
          ],
          [
           "dodge aspen"
          ],
          [
           "amc concord d/l"
          ],
          [
           "chevrolet monte carlo landau"
          ],
          [
           "buick regal sport coupe (turbo)"
          ],
          [
           "ford futura"
          ],
          [
           "dodge magnum xe"
          ],
          [
           "chevrolet chevette"
          ],
          [
           "toyota corona"
          ],
          [
           "datsun 510"
          ],
          [
           "dodge omni"
          ],
          [
           "toyota celica gt liftback"
          ],
          [
           "plymouth sapporo"
          ],
          [
           "oldsmobile starfire sx"
          ],
          [
           "datsun 200-sx"
          ],
          [
           "audi 5000"
          ],
          [
           "volvo 264gl"
          ],
          [
           "saab 99gle"
          ],
          [
           "peugeot 604sl"
          ],
          [
           "volkswagen scirocco"
          ],
          [
           "honda accord lx"
          ],
          [
           "pontiac lemans v6"
          ],
          [
           "mercury zephyr 6"
          ],
          [
           "ford fairmont 4"
          ],
          [
           "amc concord dl 6"
          ],
          [
           "dodge aspen 6"
          ],
          [
           "chevrolet caprice classic"
          ],
          [
           "ford ltd landau"
          ],
          [
           "mercury grand marquis"
          ],
          [
           "dodge st. regis"
          ],
          [
           "buick estate wagon (sw)"
          ],
          [
           "ford country squire (sw)"
          ],
          [
           "chevrolet malibu classic (sw)"
          ],
          [
           "chrysler lebaron town @ country (sw)"
          ],
          [
           "vw rabbit custom"
          ],
          [
           "maxda glc deluxe"
          ],
          [
           "dodge colt hatchback custom"
          ],
          [
           "amc spirit dl"
          ],
          [
           "mercedes benz 300d"
          ],
          [
           "cadillac eldorado"
          ],
          [
           "peugeot 504"
          ],
          [
           "oldsmobile cutlass salon brougham"
          ],
          [
           "plymouth horizon"
          ],
          [
           "plymouth horizon tc3"
          ],
          [
           "datsun 210"
          ],
          [
           "fiat strada custom"
          ],
          [
           "buick skylark limited"
          ],
          [
           "chevrolet citation"
          ],
          [
           "oldsmobile omega brougham"
          ],
          [
           "pontiac phoenix"
          ],
          [
           "vw rabbit"
          ],
          [
           "toyota corolla tercel"
          ],
          [
           "chevrolet chevette"
          ],
          [
           "datsun 310"
          ],
          [
           "chevrolet citation"
          ],
          [
           "ford fairmont"
          ],
          [
           "amc concord"
          ],
          [
           "dodge aspen"
          ],
          [
           "audi 4000"
          ],
          [
           "toyota corona liftback"
          ],
          [
           "mazda 626"
          ],
          [
           "datsun 510 hatchback"
          ],
          [
           "toyota corolla"
          ],
          [
           "mazda glc"
          ],
          [
           "dodge colt"
          ],
          [
           "datsun 210"
          ],
          [
           "vw rabbit c (diesel)"
          ],
          [
           "vw dasher (diesel)"
          ],
          [
           "audi 5000s (diesel)"
          ],
          [
           "mercedes-benz 240d"
          ],
          [
           "honda civic 1500 gl"
          ],
          [
           "subaru dl"
          ],
          [
           "vokswagen rabbit"
          ],
          [
           "datsun 280-zx"
          ],
          [
           "mazda rx-7 gs"
          ],
          [
           "triumph tr7 coupe"
          ],
          [
           "honda accord"
          ],
          [
           "plymouth reliant"
          ],
          [
           "buick skylark"
          ],
          [
           "dodge aries wagon (sw)"
          ],
          [
           "chevrolet citation"
          ],
          [
           "plymouth reliant"
          ],
          [
           "toyota starlet"
          ],
          [
           "plymouth champ"
          ],
          [
           "honda civic 1300"
          ],
          [
           "subaru"
          ],
          [
           "datsun 210 mpg"
          ],
          [
           "toyota tercel"
          ],
          [
           "mazda glc 4"
          ],
          [
           "plymouth horizon 4"
          ],
          [
           "ford escort 4w"
          ],
          [
           "ford escort 2h"
          ],
          [
           "volkswagen jetta"
          ],
          [
           "honda prelude"
          ],
          [
           "toyota corolla"
          ],
          [
           "datsun 200sx"
          ],
          [
           "mazda 626"
          ],
          [
           "peugeot 505s turbo diesel"
          ],
          [
           "volvo diesel"
          ],
          [
           "toyota cressida"
          ],
          [
           "datsun 810 maxima"
          ],
          [
           "buick century"
          ],
          [
           "oldsmobile cutlass ls"
          ],
          [
           "ford granada gl"
          ],
          [
           "chrysler lebaron salon"
          ],
          [
           "chevrolet cavalier"
          ],
          [
           "chevrolet cavalier wagon"
          ],
          [
           "chevrolet cavalier 2-door"
          ],
          [
           "pontiac j2000 se hatchback"
          ],
          [
           "dodge aries se"
          ],
          [
           "pontiac phoenix"
          ],
          [
           "ford fairmont futura"
          ],
          [
           "volkswagen rabbit l"
          ],
          [
           "mazda glc custom l"
          ],
          [
           "mazda glc custom"
          ],
          [
           "plymouth horizon miser"
          ],
          [
           "mercury lynx l"
          ],
          [
           "nissan stanza xe"
          ],
          [
           "honda accord"
          ],
          [
           "toyota corolla"
          ],
          [
           "honda civic"
          ],
          [
           "honda civic (auto)"
          ],
          [
           "datsun 310 gx"
          ],
          [
           "buick century limited"
          ],
          [
           "oldsmobile cutlass ciera (diesel)"
          ],
          [
           "chrysler lebaron medallion"
          ],
          [
           "ford granada l"
          ],
          [
           "toyota celica gt"
          ],
          [
           "dodge charger 2.2"
          ],
          [
           "chevrolet camaro"
          ],
          [
           "ford mustang gl"
          ],
          [
           "vw pickup"
          ],
          [
           "dodge rampage"
          ],
          [
           "ford ranger"
          ],
          [
           "chevy s-10"
          ]
         ],
         "domain": {
          "x": [
           0,
           1
          ],
          "y": [
           0,
           1
          ]
         },
         "hovertemplate": "origin=%{label}<br>name=%{customdata[0]}<extra></extra>",
         "labels": [
          "usa",
          "usa",
          "usa",
          "usa",
          "usa",
          "usa",
          "usa",
          "usa",
          "usa",
          "usa",
          "usa",
          "usa",
          "usa",
          "usa",
          "japan",
          "usa",
          "usa",
          "usa",
          "japan",
          "europe",
          "europe",
          "europe",
          "europe",
          "europe",
          "usa",
          "usa",
          "usa",
          "usa",
          "usa",
          "japan",
          "usa",
          "japan",
          "usa",
          "usa",
          "usa",
          "usa",
          "usa",
          "usa",
          "usa",
          "usa",
          "usa",
          "usa",
          "usa",
          "usa",
          "usa",
          "usa",
          "usa",
          "usa",
          "usa",
          "europe",
          "europe",
          "europe",
          "japan",
          "japan",
          "europe",
          "usa",
          "japan",
          "usa",
          "europe",
          "usa",
          "usa",
          "usa",
          "usa",
          "usa",
          "usa",
          "usa",
          "usa",
          "usa",
          "usa",
          "usa",
          "japan",
          "usa",
          "usa",
          "usa",
          "usa",
          "europe",
          "europe",
          "europe",
          "europe",
          "usa",
          "japan",
          "japan",
          "usa",
          "japan",
          "usa",
          "usa",
          "usa",
          "usa",
          "usa",
          "usa",
          "usa",
          "usa",
          "usa",
          "usa",
          "usa",
          "usa",
          "usa",
          "usa",
          "usa",
          "usa",
          "usa",
          "europe",
          "usa",
          "usa",
          "usa",
          "usa",
          "usa",
          "japan",
          "usa",
          "japan",
          "japan",
          "usa",
          "usa",
          "europe",
          "usa",
          "usa",
          "europe",
          "europe",
          "europe",
          "europe",
          "usa",
          "europe",
          "japan",
          "usa",
          "usa",
          "usa",
          "usa",
          "japan",
          "usa",
          "japan",
          "usa",
          "usa",
          "usa",
          "usa",
          "usa",
          "usa",
          "usa",
          "usa",
          "usa",
          "europe",
          "europe",
          "europe",
          "japan",
          "japan",
          "usa",
          "europe",
          "europe",
          "japan",
          "japan",
          "europe",
          "usa",
          "usa",
          "usa",
          "usa",
          "usa",
          "usa",
          "usa",
          "usa",
          "usa",
          "usa",
          "usa",
          "usa",
          "usa",
          "usa",
          "usa",
          "japan",
          "usa",
          "usa",
          "usa",
          "japan",
          "europe",
          "japan",
          "usa",
          "europe",
          "usa",
          "europe",
          "europe",
          "europe",
          "europe",
          "japan",
          "europe",
          "europe",
          "usa",
          "usa",
          "europe",
          "usa",
          "usa",
          "usa",
          "usa",
          "usa",
          "usa",
          "usa",
          "usa",
          "usa",
          "usa",
          "europe",
          "japan",
          "usa",
          "usa",
          "usa",
          "usa",
          "europe",
          "japan",
          "japan",
          "usa",
          "europe",
          "usa",
          "europe",
          "japan",
          "europe",
          "usa",
          "usa",
          "usa",
          "usa",
          "japan",
          "usa",
          "europe",
          "usa",
          "japan",
          "usa",
          "usa",
          "usa",
          "usa",
          "usa",
          "usa",
          "usa",
          "usa",
          "usa",
          "usa",
          "usa",
          "usa",
          "europe",
          "usa",
          "japan",
          "usa",
          "usa",
          "usa",
          "japan",
          "europe",
          "japan",
          "europe",
          "japan",
          "europe",
          "usa",
          "japan",
          "japan",
          "japan",
          "usa",
          "usa",
          "usa",
          "usa",
          "usa",
          "usa",
          "usa",
          "usa",
          "usa",
          "usa",
          "usa",
          "usa",
          "usa",
          "usa",
          "usa",
          "usa",
          "usa",
          "usa",
          "japan",
          "japan",
          "usa",
          "japan",
          "usa",
          "usa",
          "japan",
          "europe",
          "europe",
          "europe",
          "europe",
          "europe",
          "japan",
          "usa",
          "usa",
          "usa",
          "usa",
          "usa",
          "usa",
          "usa",
          "usa",
          "usa",
          "usa",
          "usa",
          "usa",
          "usa",
          "europe",
          "japan",
          "usa",
          "usa",
          "europe",
          "usa",
          "europe",
          "usa",
          "usa",
          "usa",
          "japan",
          "europe",
          "usa",
          "usa",
          "usa",
          "usa",
          "europe",
          "japan",
          "usa",
          "japan",
          "usa",
          "usa",
          "usa",
          "usa",
          "europe",
          "japan",
          "japan",
          "japan",
          "japan",
          "japan",
          "usa",
          "japan",
          "europe",
          "europe",
          "europe",
          "europe",
          "japan",
          "japan",
          "europe",
          "japan",
          "japan",
          "europe",
          "japan",
          "usa",
          "usa",
          "usa",
          "usa",
          "usa",
          "japan",
          "usa",
          "japan",
          "japan",
          "japan",
          "japan",
          "japan",
          "usa",
          "usa",
          "usa",
          "europe",
          "japan",
          "japan",
          "japan",
          "japan",
          "europe",
          "europe",
          "japan",
          "japan",
          "usa",
          "usa",
          "usa",
          "usa",
          "usa",
          "usa",
          "usa",
          "usa",
          "usa",
          "usa",
          "usa",
          "europe",
          "japan",
          "japan",
          "usa",
          "usa",
          "japan",
          "japan",
          "japan",
          "japan",
          "japan",
          "japan",
          "usa",
          "usa",
          "usa",
          "usa",
          "japan",
          "usa",
          "usa",
          "usa",
          "europe",
          "usa",
          "usa",
          "usa"
         ],
         "legendgroup": "",
         "marker": {
          "colors": [
           "#636efa",
           "#EF553B",
           "#00cc96",
           "#ab63fa",
           "#FFA15A",
           "#19d3f3",
           "#FF6692",
           "#B6E880",
           "#FF97FF",
           "#FECB52",
           "#636efa",
           "#EF553B",
           "#00cc96",
           "#ab63fa",
           "#FFA15A",
           "#19d3f3",
           "#FF6692",
           "#B6E880",
           "#FF97FF",
           "#FECB52",
           "#636efa",
           "#EF553B",
           "#00cc96",
           "#ab63fa",
           "#FFA15A",
           "#19d3f3",
           "#FF6692",
           "#B6E880",
           "#FF97FF",
           "#FF97FF",
           "#FECB52",
           "#636efa",
           "#FFA15A",
           "#EF553B",
           "#636efa",
           "#00cc96",
           "#ab63fa",
           "#FF6692",
           "#FFA15A",
           "#19d3f3",
           "#B6E880",
           "#19d3f3",
           "#FF6692",
           "#B6E880",
           "#FF97FF",
           "#FECB52",
           "#636efa",
           "#EF553B",
           "#00cc96",
           "#ab63fa",
           "#FFA15A",
           "#19d3f3",
           "#FF6692",
           "#B6E880",
           "#FF97FF",
           "#FECB52",
           "#636efa",
           "#EF553B",
           "#00cc96",
           "#ab63fa",
           "#FFA15A",
           "#FF6692",
           "#FF97FF",
           "#B6E880",
           "#19d3f3",
           "#19d3f3",
           "#FF6692",
           "#B6E880",
           "#FF97FF",
           "#FECB52",
           "#636efa",
           "#EF553B",
           "#00cc96",
           "#ab63fa",
           "#FFA15A",
           "#19d3f3",
           "#FF6692",
           "#B6E880",
           "#FF97FF",
           "#FECB52",
           "#636efa",
           "#EF553B",
           "#00cc96",
           "#ab63fa",
           "#FFA15A",
           "#ab63fa",
           "#19d3f3",
           "#FF6692",
           "#B6E880",
           "#FF97FF",
           "#FECB52",
           "#636efa",
           "#EF553B",
           "#00cc96",
           "#ab63fa",
           "#FFA15A",
           "#19d3f3",
           "#FF6692",
           "#FF6692",
           "#B6E880",
           "#19d3f3",
           "#B6E880",
           "#FF6692",
           "#FF97FF",
           "#FECB52",
           "#636efa",
           "#FFA15A",
           "#EF553B",
           "#ab63fa",
           "#00cc96",
           "#ab63fa",
           "#FFA15A",
           "#19d3f3",
           "#FF6692",
           "#B6E880",
           "#FF97FF",
           "#FECB52",
           "#636efa",
           "#EF553B",
           "#00cc96",
           "#ab63fa",
           "#FFA15A",
           "#19d3f3",
           "#FF6692",
           "#19d3f3",
           "#FF6692",
           "#B6E880",
           "#FF97FF",
           "#FFA15A",
           "#FF6692",
           "#ab63fa",
           "#FECB52",
           "#ab63fa",
           "#636efa",
           "#FF6692",
           "#EF553B",
           "#00cc96",
           "#ab63fa",
           "#EF553B",
           "#ab63fa",
           "#FFA15A",
           "#636efa",
           "#636efa",
           "#19d3f3",
           "#FF6692",
           "#FECB52",
           "#B6E880",
           "#FF97FF",
           "#FECB52",
           "#636efa",
           "#EF553B",
           "#B6E880",
           "#00cc96",
           "#B6E880",
           "#FF97FF",
           "#ab63fa",
           "#FFA15A",
           "#636efa",
           "#19d3f3",
           "#FF6692",
           "#ab63fa",
           "#B6E880",
           "#FF97FF",
           "#FECB52",
           "#636efa",
           "#EF553B",
           "#FFA15A",
           "#FFA15A",
           "#00cc96",
           "#636efa",
           "#FFA15A",
           "#19d3f3",
           "#FFA15A",
           "#ab63fa",
           "#FFA15A",
           "#EF553B",
           "#636efa",
           "#19d3f3",
           "#FFA15A",
           "#FF6692",
           "#B6E880",
           "#ab63fa",
           "#FF97FF",
           "#FF6692",
           "#FECB52",
           "#FECB52",
           "#636efa",
           "#ab63fa",
           "#FF6692",
           "#19d3f3",
           "#B6E880",
           "#B6E880",
           "#FF6692",
           "#EF553B",
           "#00cc96",
           "#ab63fa",
           "#FF97FF",
           "#FFA15A",
           "#19d3f3",
           "#FF6692",
           "#B6E880",
           "#ab63fa",
           "#FF97FF",
           "#EF553B",
           "#FFA15A",
           "#FECB52",
           "#636efa",
           "#636efa",
           "#19d3f3",
           "#EF553B",
           "#00cc96",
           "#ab63fa",
           "#FFA15A",
           "#19d3f3",
           "#FF6692",
           "#B6E880",
           "#FF97FF",
           "#FECB52",
           "#636efa",
           "#FECB52",
           "#EF553B",
           "#00cc96",
           "#ab63fa",
           "#FFA15A",
           "#19d3f3",
           "#FF6692",
           "#B6E880",
           "#FF97FF",
           "#FECB52",
           "#636efa",
           "#EF553B",
           "#00cc96",
           "#ab63fa",
           "#FFA15A",
           "#19d3f3",
           "#EF553B",
           "#FF6692",
           "#B6E880",
           "#FFA15A",
           "#FF97FF",
           "#FECB52",
           "#636efa",
           "#EF553B",
           "#00cc96",
           "#ab63fa",
           "#FFA15A",
           "#FF6692",
           "#19d3f3",
           "#FF6692",
           "#B6E880",
           "#FF97FF",
           "#19d3f3",
           "#FECB52",
           "#636efa",
           "#EF553B",
           "#00cc96",
           "#ab63fa",
           "#FFA15A",
           "#19d3f3",
           "#FF6692",
           "#FECB52",
           "#B6E880",
           "#FF97FF",
           "#FECB52",
           "#EF553B",
           "#636efa",
           "#636efa",
           "#EF553B",
           "#00cc96",
           "#ab63fa",
           "#FFA15A",
           "#19d3f3",
           "#FF6692",
           "#B6E880",
           "#FF97FF",
           "#FECB52",
           "#636efa",
           "#EF553B",
           "#00cc96",
           "#ab63fa",
           "#FFA15A",
           "#19d3f3",
           "#FF6692",
           "#FECB52",
           "#B6E880",
           "#FF97FF",
           "#FECB52",
           "#ab63fa",
           "#FF6692",
           "#636efa",
           "#EF553B",
           "#00cc96",
           "#ab63fa",
           "#FFA15A",
           "#19d3f3",
           "#FF6692",
           "#B6E880",
           "#636efa",
           "#19d3f3",
           "#FF97FF",
           "#FECB52",
           "#636efa",
           "#EF553B",
           "#00cc96",
           "#ab63fa",
           "#FFA15A",
           "#19d3f3",
           "#ab63fa",
           "#FF6692",
           "#EF553B",
           "#B6E880",
           "#ab63fa",
           "#FF97FF",
           "#00cc96",
           "#19d3f3",
           "#FECB52",
           "#636efa",
           "#EF553B",
           "#00cc96",
           "#EF553B",
           "#ab63fa",
           "#FF6692",
           "#636efa",
           "#FFA15A",
           "#19d3f3",
           "#FF6692",
           "#B6E880",
           "#FF97FF",
           "#B6E880",
           "#FECB52",
           "#636efa",
           "#EF553B",
           "#00cc96",
           "#ab63fa",
           "#FFA15A",
           "#19d3f3",
           "#19d3f3",
           "#ab63fa",
           "#FFA15A",
           "#FF6692",
           "#B6E880",
           "#FF97FF",
           "#FECB52",
           "#FECB52",
           "#636efa",
           "#EF553B",
           "#00cc96",
           "#ab63fa",
           "#FFA15A",
           "#19d3f3",
           "#FF6692",
           "#EF553B",
           "#B6E880",
           "#EF553B",
           "#FF97FF",
           "#FECB52",
           "#636efa",
           "#EF553B",
           "#19d3f3",
           "#00cc96",
           "#ab63fa",
           "#FFA15A",
           "#19d3f3",
           "#FF6692",
           "#B6E880",
           "#FF97FF",
           "#FECB52",
           "#19d3f3",
           "#636efa",
           "#EF553B",
           "#00cc96",
           "#ab63fa",
           "#FFA15A",
           "#19d3f3",
           "#FF6692",
           "#ab63fa",
           "#EF553B",
           "#FF97FF",
           "#B6E880",
           "#FF97FF",
           "#FECB52",
           "#636efa",
           "#EF553B",
           "#00cc96",
           "#ab63fa",
           "#FFA15A",
           "#19d3f3",
           "#FF6692",
           "#B6E880",
           "#FF97FF",
           "#FECB52",
           "#636efa"
          ]
         },
         "name": "",
         "showlegend": true,
         "type": "pie"
        }
       ],
       "layout": {
        "legend": {
         "tracegroupgap": 0
        },
        "margin": {
         "t": 60
        },
        "template": {
         "data": {
          "bar": [
           {
            "error_x": {
             "color": "#2a3f5f"
            },
            "error_y": {
             "color": "#2a3f5f"
            },
            "marker": {
             "line": {
              "color": "#E5ECF6",
              "width": 0.5
             },
             "pattern": {
              "fillmode": "overlay",
              "size": 10,
              "solidity": 0.2
             }
            },
            "type": "bar"
           }
          ],
          "barpolar": [
           {
            "marker": {
             "line": {
              "color": "#E5ECF6",
              "width": 0.5
             },
             "pattern": {
              "fillmode": "overlay",
              "size": 10,
              "solidity": 0.2
             }
            },
            "type": "barpolar"
           }
          ],
          "carpet": [
           {
            "aaxis": {
             "endlinecolor": "#2a3f5f",
             "gridcolor": "white",
             "linecolor": "white",
             "minorgridcolor": "white",
             "startlinecolor": "#2a3f5f"
            },
            "baxis": {
             "endlinecolor": "#2a3f5f",
             "gridcolor": "white",
             "linecolor": "white",
             "minorgridcolor": "white",
             "startlinecolor": "#2a3f5f"
            },
            "type": "carpet"
           }
          ],
          "choropleth": [
           {
            "colorbar": {
             "outlinewidth": 0,
             "ticks": ""
            },
            "type": "choropleth"
           }
          ],
          "contour": [
           {
            "colorbar": {
             "outlinewidth": 0,
             "ticks": ""
            },
            "colorscale": [
             [
              0,
              "#0d0887"
             ],
             [
              0.1111111111111111,
              "#46039f"
             ],
             [
              0.2222222222222222,
              "#7201a8"
             ],
             [
              0.3333333333333333,
              "#9c179e"
             ],
             [
              0.4444444444444444,
              "#bd3786"
             ],
             [
              0.5555555555555556,
              "#d8576b"
             ],
             [
              0.6666666666666666,
              "#ed7953"
             ],
             [
              0.7777777777777778,
              "#fb9f3a"
             ],
             [
              0.8888888888888888,
              "#fdca26"
             ],
             [
              1,
              "#f0f921"
             ]
            ],
            "type": "contour"
           }
          ],
          "contourcarpet": [
           {
            "colorbar": {
             "outlinewidth": 0,
             "ticks": ""
            },
            "type": "contourcarpet"
           }
          ],
          "heatmap": [
           {
            "colorbar": {
             "outlinewidth": 0,
             "ticks": ""
            },
            "colorscale": [
             [
              0,
              "#0d0887"
             ],
             [
              0.1111111111111111,
              "#46039f"
             ],
             [
              0.2222222222222222,
              "#7201a8"
             ],
             [
              0.3333333333333333,
              "#9c179e"
             ],
             [
              0.4444444444444444,
              "#bd3786"
             ],
             [
              0.5555555555555556,
              "#d8576b"
             ],
             [
              0.6666666666666666,
              "#ed7953"
             ],
             [
              0.7777777777777778,
              "#fb9f3a"
             ],
             [
              0.8888888888888888,
              "#fdca26"
             ],
             [
              1,
              "#f0f921"
             ]
            ],
            "type": "heatmap"
           }
          ],
          "heatmapgl": [
           {
            "colorbar": {
             "outlinewidth": 0,
             "ticks": ""
            },
            "colorscale": [
             [
              0,
              "#0d0887"
             ],
             [
              0.1111111111111111,
              "#46039f"
             ],
             [
              0.2222222222222222,
              "#7201a8"
             ],
             [
              0.3333333333333333,
              "#9c179e"
             ],
             [
              0.4444444444444444,
              "#bd3786"
             ],
             [
              0.5555555555555556,
              "#d8576b"
             ],
             [
              0.6666666666666666,
              "#ed7953"
             ],
             [
              0.7777777777777778,
              "#fb9f3a"
             ],
             [
              0.8888888888888888,
              "#fdca26"
             ],
             [
              1,
              "#f0f921"
             ]
            ],
            "type": "heatmapgl"
           }
          ],
          "histogram": [
           {
            "marker": {
             "pattern": {
              "fillmode": "overlay",
              "size": 10,
              "solidity": 0.2
             }
            },
            "type": "histogram"
           }
          ],
          "histogram2d": [
           {
            "colorbar": {
             "outlinewidth": 0,
             "ticks": ""
            },
            "colorscale": [
             [
              0,
              "#0d0887"
             ],
             [
              0.1111111111111111,
              "#46039f"
             ],
             [
              0.2222222222222222,
              "#7201a8"
             ],
             [
              0.3333333333333333,
              "#9c179e"
             ],
             [
              0.4444444444444444,
              "#bd3786"
             ],
             [
              0.5555555555555556,
              "#d8576b"
             ],
             [
              0.6666666666666666,
              "#ed7953"
             ],
             [
              0.7777777777777778,
              "#fb9f3a"
             ],
             [
              0.8888888888888888,
              "#fdca26"
             ],
             [
              1,
              "#f0f921"
             ]
            ],
            "type": "histogram2d"
           }
          ],
          "histogram2dcontour": [
           {
            "colorbar": {
             "outlinewidth": 0,
             "ticks": ""
            },
            "colorscale": [
             [
              0,
              "#0d0887"
             ],
             [
              0.1111111111111111,
              "#46039f"
             ],
             [
              0.2222222222222222,
              "#7201a8"
             ],
             [
              0.3333333333333333,
              "#9c179e"
             ],
             [
              0.4444444444444444,
              "#bd3786"
             ],
             [
              0.5555555555555556,
              "#d8576b"
             ],
             [
              0.6666666666666666,
              "#ed7953"
             ],
             [
              0.7777777777777778,
              "#fb9f3a"
             ],
             [
              0.8888888888888888,
              "#fdca26"
             ],
             [
              1,
              "#f0f921"
             ]
            ],
            "type": "histogram2dcontour"
           }
          ],
          "mesh3d": [
           {
            "colorbar": {
             "outlinewidth": 0,
             "ticks": ""
            },
            "type": "mesh3d"
           }
          ],
          "parcoords": [
           {
            "line": {
             "colorbar": {
              "outlinewidth": 0,
              "ticks": ""
             }
            },
            "type": "parcoords"
           }
          ],
          "pie": [
           {
            "automargin": true,
            "type": "pie"
           }
          ],
          "scatter": [
           {
            "marker": {
             "colorbar": {
              "outlinewidth": 0,
              "ticks": ""
             }
            },
            "type": "scatter"
           }
          ],
          "scatter3d": [
           {
            "line": {
             "colorbar": {
              "outlinewidth": 0,
              "ticks": ""
             }
            },
            "marker": {
             "colorbar": {
              "outlinewidth": 0,
              "ticks": ""
             }
            },
            "type": "scatter3d"
           }
          ],
          "scattercarpet": [
           {
            "marker": {
             "colorbar": {
              "outlinewidth": 0,
              "ticks": ""
             }
            },
            "type": "scattercarpet"
           }
          ],
          "scattergeo": [
           {
            "marker": {
             "colorbar": {
              "outlinewidth": 0,
              "ticks": ""
             }
            },
            "type": "scattergeo"
           }
          ],
          "scattergl": [
           {
            "marker": {
             "colorbar": {
              "outlinewidth": 0,
              "ticks": ""
             }
            },
            "type": "scattergl"
           }
          ],
          "scattermapbox": [
           {
            "marker": {
             "colorbar": {
              "outlinewidth": 0,
              "ticks": ""
             }
            },
            "type": "scattermapbox"
           }
          ],
          "scatterpolar": [
           {
            "marker": {
             "colorbar": {
              "outlinewidth": 0,
              "ticks": ""
             }
            },
            "type": "scatterpolar"
           }
          ],
          "scatterpolargl": [
           {
            "marker": {
             "colorbar": {
              "outlinewidth": 0,
              "ticks": ""
             }
            },
            "type": "scatterpolargl"
           }
          ],
          "scatterternary": [
           {
            "marker": {
             "colorbar": {
              "outlinewidth": 0,
              "ticks": ""
             }
            },
            "type": "scatterternary"
           }
          ],
          "surface": [
           {
            "colorbar": {
             "outlinewidth": 0,
             "ticks": ""
            },
            "colorscale": [
             [
              0,
              "#0d0887"
             ],
             [
              0.1111111111111111,
              "#46039f"
             ],
             [
              0.2222222222222222,
              "#7201a8"
             ],
             [
              0.3333333333333333,
              "#9c179e"
             ],
             [
              0.4444444444444444,
              "#bd3786"
             ],
             [
              0.5555555555555556,
              "#d8576b"
             ],
             [
              0.6666666666666666,
              "#ed7953"
             ],
             [
              0.7777777777777778,
              "#fb9f3a"
             ],
             [
              0.8888888888888888,
              "#fdca26"
             ],
             [
              1,
              "#f0f921"
             ]
            ],
            "type": "surface"
           }
          ],
          "table": [
           {
            "cells": {
             "fill": {
              "color": "#EBF0F8"
             },
             "line": {
              "color": "white"
             }
            },
            "header": {
             "fill": {
              "color": "#C8D4E3"
             },
             "line": {
              "color": "white"
             }
            },
            "type": "table"
           }
          ]
         },
         "layout": {
          "annotationdefaults": {
           "arrowcolor": "#2a3f5f",
           "arrowhead": 0,
           "arrowwidth": 1
          },
          "autotypenumbers": "strict",
          "coloraxis": {
           "colorbar": {
            "outlinewidth": 0,
            "ticks": ""
           }
          },
          "colorscale": {
           "diverging": [
            [
             0,
             "#8e0152"
            ],
            [
             0.1,
             "#c51b7d"
            ],
            [
             0.2,
             "#de77ae"
            ],
            [
             0.3,
             "#f1b6da"
            ],
            [
             0.4,
             "#fde0ef"
            ],
            [
             0.5,
             "#f7f7f7"
            ],
            [
             0.6,
             "#e6f5d0"
            ],
            [
             0.7,
             "#b8e186"
            ],
            [
             0.8,
             "#7fbc41"
            ],
            [
             0.9,
             "#4d9221"
            ],
            [
             1,
             "#276419"
            ]
           ],
           "sequential": [
            [
             0,
             "#0d0887"
            ],
            [
             0.1111111111111111,
             "#46039f"
            ],
            [
             0.2222222222222222,
             "#7201a8"
            ],
            [
             0.3333333333333333,
             "#9c179e"
            ],
            [
             0.4444444444444444,
             "#bd3786"
            ],
            [
             0.5555555555555556,
             "#d8576b"
            ],
            [
             0.6666666666666666,
             "#ed7953"
            ],
            [
             0.7777777777777778,
             "#fb9f3a"
            ],
            [
             0.8888888888888888,
             "#fdca26"
            ],
            [
             1,
             "#f0f921"
            ]
           ],
           "sequentialminus": [
            [
             0,
             "#0d0887"
            ],
            [
             0.1111111111111111,
             "#46039f"
            ],
            [
             0.2222222222222222,
             "#7201a8"
            ],
            [
             0.3333333333333333,
             "#9c179e"
            ],
            [
             0.4444444444444444,
             "#bd3786"
            ],
            [
             0.5555555555555556,
             "#d8576b"
            ],
            [
             0.6666666666666666,
             "#ed7953"
            ],
            [
             0.7777777777777778,
             "#fb9f3a"
            ],
            [
             0.8888888888888888,
             "#fdca26"
            ],
            [
             1,
             "#f0f921"
            ]
           ]
          },
          "colorway": [
           "#636efa",
           "#EF553B",
           "#00cc96",
           "#ab63fa",
           "#FFA15A",
           "#19d3f3",
           "#FF6692",
           "#B6E880",
           "#FF97FF",
           "#FECB52"
          ],
          "font": {
           "color": "#2a3f5f"
          },
          "geo": {
           "bgcolor": "white",
           "lakecolor": "white",
           "landcolor": "#E5ECF6",
           "showlakes": true,
           "showland": true,
           "subunitcolor": "white"
          },
          "hoverlabel": {
           "align": "left"
          },
          "hovermode": "closest",
          "mapbox": {
           "style": "light"
          },
          "paper_bgcolor": "white",
          "plot_bgcolor": "#E5ECF6",
          "polar": {
           "angularaxis": {
            "gridcolor": "white",
            "linecolor": "white",
            "ticks": ""
           },
           "bgcolor": "#E5ECF6",
           "radialaxis": {
            "gridcolor": "white",
            "linecolor": "white",
            "ticks": ""
           }
          },
          "scene": {
           "xaxis": {
            "backgroundcolor": "#E5ECF6",
            "gridcolor": "white",
            "gridwidth": 2,
            "linecolor": "white",
            "showbackground": true,
            "ticks": "",
            "zerolinecolor": "white"
           },
           "yaxis": {
            "backgroundcolor": "#E5ECF6",
            "gridcolor": "white",
            "gridwidth": 2,
            "linecolor": "white",
            "showbackground": true,
            "ticks": "",
            "zerolinecolor": "white"
           },
           "zaxis": {
            "backgroundcolor": "#E5ECF6",
            "gridcolor": "white",
            "gridwidth": 2,
            "linecolor": "white",
            "showbackground": true,
            "ticks": "",
            "zerolinecolor": "white"
           }
          },
          "shapedefaults": {
           "line": {
            "color": "#2a3f5f"
           }
          },
          "ternary": {
           "aaxis": {
            "gridcolor": "white",
            "linecolor": "white",
            "ticks": ""
           },
           "baxis": {
            "gridcolor": "white",
            "linecolor": "white",
            "ticks": ""
           },
           "bgcolor": "#E5ECF6",
           "caxis": {
            "gridcolor": "white",
            "linecolor": "white",
            "ticks": ""
           }
          },
          "title": {
           "x": 0.05
          },
          "xaxis": {
           "automargin": true,
           "gridcolor": "white",
           "linecolor": "white",
           "ticks": "",
           "title": {
            "standoff": 15
           },
           "zerolinecolor": "white",
           "zerolinewidth": 2
          },
          "yaxis": {
           "automargin": true,
           "gridcolor": "white",
           "linecolor": "white",
           "ticks": "",
           "title": {
            "standoff": 15
           },
           "zerolinecolor": "white",
           "zerolinewidth": 2
          }
         }
        }
       }
      }
     },
     "metadata": {},
     "output_type": "display_data"
    }
   ],
   "source": [
    "px.pie(df , names  = 'origin' , color = 'name')"
   ]
  },
  {
   "cell_type": "code",
   "execution_count": 84,
   "metadata": {},
   "outputs": [
    {
     "data": {
      "text/plain": [
       "<AxesSubplot:xlabel='acceleration', ylabel='Count'>"
      ]
     },
     "execution_count": 84,
     "metadata": {},
     "output_type": "execute_result"
    },
    {
     "data": {
      "image/png": "[encoded data removed]",
      "text/plain": [
       "<Figure size 432x288 with 1 Axes>"
      ]
     },
     "metadata": {
      "needs_background": "light"
     },
     "output_type": "display_data"
    }
   ],
   "source": [
    "sns.histplot(df.acceleration)"
   ]
  },
  {
   "cell_type": "markdown",
   "metadata": {},
   "source": [
    "for univariate analysis if data has categorical in nature then we can use bar graph and pie chart to describe the data\n",
    "and if data is continous in nature then we can describe it by histogram or boxplot"
   ]
  },
  {
   "cell_type": "code",
   "execution_count": 104,
   "metadata": {},
   "outputs": [],
   "source": [
    "from sklearn.preprocessing import StandardScaler\n",
    "from sklearn.preprocessing import OneHotEncoder , LabelEncoder\n",
    "encode = LabelEncoder()\n",
    "scale = StandardScaler()\n",
    "data = df\n",
    "data['name'] = encode.fit_transform(data['name'])\n",
    "data['origin'] = encode.fit_transform(data['origin'])"
   ]
  },
  {
   "cell_type": "code",
   "execution_count": 107,
   "metadata": {},
   "outputs": [
    {
     "data": {
      "text/plain": [
       "array([ 48,  35, 229,  13, 159, 140,  53, 221, 239,   1, 100, 213,  56,\n",
       "        29, 270, 218,   7, 149,  94, 278, 209,  15, 254,  21,   6, 132,\n",
       "        67, 111, 161,  64, 267, 230, 160,   9, 240, 115, 128, 248,   8,\n",
       "        63, 241, 150, 185, 206, 208, 122, 263,  75, 282, 216, 268, 104,\n",
       "       289,  62, 156,   2, 190,  30, 201,  74, 181,  10,  47, 142, 231,\n",
       "       291, 279, 210, 251, 155,  84, 275, 103, 264,  24,  54, 141, 108,\n",
       "       191,  43, 147, 220,  73,  28,   0, 233,  61, 288, 127, 217, 205,\n",
       "       259,  86, 172, 154, 186, 120,  58, 242, 123, 207,  16, 290, 112,\n",
       "       256, 272, 202,  60,  91,  49, 232,  26, 109,  20, 280,  87, 102,\n",
       "       121, 165, 257, 126, 234, 192,  41, 222,  23,  40, 219,  33,  59,\n",
       "       152, 262, 238, 283,  11, 292, 169, 124,  39, 252, 107,  50,  65,\n",
       "       298,  99, 144, 250,  12,  90, 293, 237, 184,  38,  66, 131, 110,\n",
       "       163,  31, 253, 214,  93, 200, 116, 187,  52,  34, 236, 143, 243,\n",
       "        57,  69, 158, 284, 249, 265, 153, 106, 258,  88,  22, 179, 285,\n",
       "       138, 178,  92, 199, 113, 193, 247, 134, 135, 235,   3,  27, 194,\n",
       "        97,   4,  32, 139, 114,  83, 117, 261, 228, 204,  76,  18, 294,\n",
       "       255, 212, 287, 164, 245, 195, 136,   5,  98, 148, 188, 119,  55,\n",
       "        72, 300, 171, 105,  14, 182,  37, 223, 226,  78, 125,  36,  51,\n",
       "       203, 246, 266,  81, 133,  17, 269, 173,  85, 174, 299, 296,  19,\n",
       "       183, 168, 277,  80, 180, 276, 162, 227,  96, 273, 215, 167,  79,\n",
       "       274, 175, 224, 130, 129, 281, 170,  77, 211, 295, 271,  89, 198,\n",
       "       145,  71,  44,  46,  45, 244,  95, 137, 286, 177, 176, 225, 189,\n",
       "       196, 166,  82,  25, 197,  70, 146, 260, 101,  42, 151, 297, 118,\n",
       "       157,  68])"
      ]
     },
     "execution_count": 107,
     "metadata": {},
     "output_type": "execute_result"
    }
   ],
   "source": [
    "data['origin'].unique()\n",
    "data['name'].unique()"
   ]
  },
  {
   "cell_type": "code",
   "execution_count": 114,
   "metadata": {},
   "outputs": [
    {
     "data": {
      "text/plain": [
       "<AxesSubplot:ylabel='Density'>"
      ]
     },
     "execution_count": 114,
     "metadata": {},
     "output_type": "execute_result"
    },
    {
     "data": {
      "image/png": "[encoded data removed]",
      "text/plain": [
       "<Figure size 432x288 with 1 Axes>"
      ]
     },
     "metadata": {
      "needs_background": "light"
     },
     "output_type": "display_data"
    }
   ],
   "source": [
    "data.plot.kde()\n"
   ]
  },
  {
   "cell_type": "code",
   "execution_count": 118,
   "metadata": {},
   "outputs": [
    {
     "data": {
      "text/plain": [
       "array([[-0.69863841,  1.48394702,  1.07728956, ..., -1.62531533,\n",
       "         0.71128521, -1.11331083],\n",
       "       [-1.08349824,  1.48394702,  1.48873169, ..., -1.62531533,\n",
       "         0.71128521, -1.26018059],\n",
       "       [-0.69863841,  1.48394702,  1.1825422 , ..., -1.62531533,\n",
       "         0.71128521,  0.93156815],\n",
       "       ...,\n",
       "       [ 1.09737414, -0.86401356, -0.56847897, ...,  1.63640964,\n",
       "         0.71128521, -0.32247366],\n",
       "       [ 0.5842277 , -0.86401356, -0.7120053 , ...,  1.63640964,\n",
       "         0.71128521,  0.11813563],\n",
       "       [ 0.96908753, -0.86401356, -0.72157372, ...,  1.63640964,\n",
       "         0.71128521, -0.88735735]])"
      ]
     },
     "execution_count": 118,
     "metadata": {},
     "output_type": "execute_result"
    }
   ],
   "source": [
    "data = scale.fit_transform(data)"
   ]
  },
  {
   "cell_type": "code",
   "execution_count": 120,
   "metadata": {},
   "outputs": [
    {
     "data": {
      "text/html": [
       "<div>\n",
       "<style scoped>\n",
       "    .dataframe tbody tr th:only-of-type {\n",
       "        vertical-align: middle;\n",
       "    }\n",
       "\n",
       "    .dataframe tbody tr th {\n",
       "        vertical-align: top;\n",
       "    }\n",
       "\n",
       "    .dataframe thead th {\n",
       "        text-align: right;\n",
       "    }\n",
       "</style>\n",
       "<table border=\"1\" class=\"dataframe\">\n",
       "  <thead>\n",
       "    <tr style=\"text-align: right;\">\n",
       "      <th></th>\n",
       "      <th>mpg</th>\n",
       "      <th>cylinders</th>\n",
       "      <th>discpalcement</th>\n",
       "      <th>horsepower</th>\n",
       "      <th>weight</th>\n",
       "      <th>acceleration</th>\n",
       "      <th>model_year</th>\n",
       "      <th>origin</th>\n",
       "      <th>name</th>\n",
       "    </tr>\n",
       "  </thead>\n",
       "  <tbody>\n",
       "    <tr>\n",
       "      <th>count</th>\n",
       "      <td>3.920000e+02</td>\n",
       "      <td>3.920000e+02</td>\n",
       "      <td>3.920000e+02</td>\n",
       "      <td>3.920000e+02</td>\n",
       "      <td>3.920000e+02</td>\n",
       "      <td>3.920000e+02</td>\n",
       "      <td>3.920000e+02</td>\n",
       "      <td>3.920000e+02</td>\n",
       "      <td>3.920000e+02</td>\n",
       "    </tr>\n",
       "    <tr>\n",
       "      <th>mean</th>\n",
       "      <td>-3.438293e-16</td>\n",
       "      <td>2.384714e-16</td>\n",
       "      <td>-1.393443e-16</td>\n",
       "      <td>-3.293850e-16</td>\n",
       "      <td>5.607759e-17</td>\n",
       "      <td>1.608691e-16</td>\n",
       "      <td>-2.095829e-16</td>\n",
       "      <td>3.908438e-17</td>\n",
       "      <td>1.138545e-16</td>\n",
       "    </tr>\n",
       "    <tr>\n",
       "      <th>std</th>\n",
       "      <td>1.001278e+00</td>\n",
       "      <td>1.001278e+00</td>\n",
       "      <td>1.001278e+00</td>\n",
       "      <td>1.001278e+00</td>\n",
       "      <td>1.001278e+00</td>\n",
       "      <td>1.001278e+00</td>\n",
       "      <td>1.001278e+00</td>\n",
       "      <td>1.001278e+00</td>\n",
       "      <td>1.001278e+00</td>\n",
       "    </tr>\n",
       "    <tr>\n",
       "      <th>min</th>\n",
       "      <td>-1.853218e+00</td>\n",
       "      <td>-1.451004e+00</td>\n",
       "      <td>-1.209563e+00</td>\n",
       "      <td>-1.520975e+00</td>\n",
       "      <td>-1.608575e+00</td>\n",
       "      <td>-2.736983e+00</td>\n",
       "      <td>-1.625315e+00</td>\n",
       "      <td>-1.882425e+00</td>\n",
       "      <td>-1.655599e+00</td>\n",
       "    </tr>\n",
       "    <tr>\n",
       "      <th>25%</th>\n",
       "      <td>-8.269250e-01</td>\n",
       "      <td>-8.640136e-01</td>\n",
       "      <td>-8.555316e-01</td>\n",
       "      <td>-7.665929e-01</td>\n",
       "      <td>-8.868535e-01</td>\n",
       "      <td>-6.410551e-01</td>\n",
       "      <td>-8.098841e-01</td>\n",
       "      <td>-5.855697e-01</td>\n",
       "      <td>-9.353725e-01</td>\n",
       "    </tr>\n",
       "    <tr>\n",
       "      <th>50%</th>\n",
       "      <td>-8.927701e-02</td>\n",
       "      <td>-8.640136e-01</td>\n",
       "      <td>-4.153842e-01</td>\n",
       "      <td>-2.853488e-01</td>\n",
       "      <td>-2.052109e-01</td>\n",
       "      <td>-1.499869e-02</td>\n",
       "      <td>5.547151e-03</td>\n",
       "      <td>7.112852e-01</td>\n",
       "      <td>1.080772e-02</td>\n",
       "    </tr>\n",
       "    <tr>\n",
       "      <th>75%</th>\n",
       "      <td>7.125143e-01</td>\n",
       "      <td>1.483947e+00</td>\n",
       "      <td>7.782764e-01</td>\n",
       "      <td>5.600800e-01</td>\n",
       "      <td>7.510927e-01</td>\n",
       "      <td>5.384714e-01</td>\n",
       "      <td>8.209784e-01</td>\n",
       "      <td>7.112852e-01</td>\n",
       "      <td>8.666065e-01</td>\n",
       "    </tr>\n",
       "    <tr>\n",
       "      <th>max</th>\n",
       "      <td>2.970359e+00</td>\n",
       "      <td>1.483947e+00</td>\n",
       "      <td>2.493416e+00</td>\n",
       "      <td>3.265452e+00</td>\n",
       "      <td>2.549061e+00</td>\n",
       "      <td>3.360262e+00</td>\n",
       "      <td>1.636410e+00</td>\n",
       "      <td>7.112852e-01</td>\n",
       "      <td>1.733703e+00</td>\n",
       "    </tr>\n",
       "  </tbody>\n",
       "</table>\n",
       "</div>"
      ],
      "text/plain": [
       "                mpg     cylinders  discpalcement    horsepower        weight  \\\n",
       "count  3.920000e+02  3.920000e+02   3.920000e+02  3.920000e+02  3.920000e+02   \n",
       "mean  -3.438293e-16  2.384714e-16  -1.393443e-16 -3.293850e-16  5.607759e-17   \n",
       "std    1.001278e+00  1.001278e+00   1.001278e+00  1.001278e+00  1.001278e+00   \n",
       "min   -1.853218e+00 -1.451004e+00  -1.209563e+00 -1.520975e+00 -1.608575e+00   \n",
       "25%   -8.269250e-01 -8.640136e-01  -8.555316e-01 -7.665929e-01 -8.868535e-01   \n",
       "50%   -8.927701e-02 -8.640136e-01  -4.153842e-01 -2.853488e-01 -2.052109e-01   \n",
       "75%    7.125143e-01  1.483947e+00   7.782764e-01  5.600800e-01  7.510927e-01   \n",
       "max    2.970359e+00  1.483947e+00   2.493416e+00  3.265452e+00  2.549061e+00   \n",
       "\n",
       "       acceleration    model_year        origin          name  \n",
       "count  3.920000e+02  3.920000e+02  3.920000e+02  3.920000e+02  \n",
       "mean   1.608691e-16 -2.095829e-16  3.908438e-17  1.138545e-16  \n",
       "std    1.001278e+00  1.001278e+00  1.001278e+00  1.001278e+00  \n",
       "min   -2.736983e+00 -1.625315e+00 -1.882425e+00 -1.655599e+00  \n",
       "25%   -6.410551e-01 -8.098841e-01 -5.855697e-01 -9.353725e-01  \n",
       "50%   -1.499869e-02  5.547151e-03  7.112852e-01  1.080772e-02  \n",
       "75%    5.384714e-01  8.209784e-01  7.112852e-01  8.666065e-01  \n",
       "max    3.360262e+00  1.636410e+00  7.112852e-01  1.733703e+00  "
      ]
     },
     "execution_count": 120,
     "metadata": {},
     "output_type": "execute_result"
    }
   ],
   "source": [
    "data = pd.DataFrame(data , columns=['mpg' , 'cylinders' , 'discpalcement' , 'horsepower' , 'weight' , 'acceleration' , 'model_year' , 'origin' , 'name'] )\n",
    "data.describe()"
   ]
  },
  {
   "cell_type": "code",
   "execution_count": 121,
   "metadata": {},
   "outputs": [
    {
     "data": {
      "text/plain": [
       "<AxesSubplot:ylabel='Density'>"
      ]
     },
     "execution_count": 121,
     "metadata": {},
     "output_type": "execute_result"
    },
    {
     "data": {
      "image/png": "[encoded data removed]",
      "text/plain": [
       "<Figure size 432x288 with 1 Axes>"
      ]
     },
     "metadata": {
      "needs_background": "light"
     },
     "output_type": "display_data"
    }
   ],
   "source": [
    "data.plot.kde()"
   ]
  },
  {
   "cell_type": "code",
   "execution_count": 4,
   "metadata": {},
   "outputs": [
    {
     "data": {
      "text/plain": [
       "1.0"
      ]
     },
     "execution_count": 4,
     "metadata": {},
     "output_type": "execute_result"
    }
   ],
   "source": [
    "from math import *\n",
    "-0.75*log2(0.75)- 0.25*log2(0.25)\n",
    "-0.5*log2(0.5)- 0.5*log2(0.5)"
   ]
  },
  {
   "cell_type": "code",
   "execution_count": 123,
   "metadata": {},
   "outputs": [
    {
     "data": {
      "application/vnd.plotly.v1+json": {
       "config": {
        "plotlyServerURL": "https://plot.ly"
       },
       "data": [
        {
         "alignmentgroup": "True",
         "hovertemplate": "variable=%{x}<br>value=%{y}<extra></extra>",
         "legendgroup": "",
         "marker": {
          "color": "#636efa"
         },
         "name": "",
         "notched": false,
         "offsetgroup": "",
         "orientation": "v",
         "showlegend": false,
         "type": "box",
         "x": [
          "mpg",
          "mpg",
          "mpg",
          "mpg",
          "mpg",
          "mpg",
          "mpg",
          "mpg",
          "mpg",
          "mpg",
          "mpg",
          "mpg",
          "mpg",
          "mpg",
          "mpg",
          "mpg",
          "mpg",
          "mpg",
          "mpg",
          "mpg",
          "mpg",
          "mpg",
          "mpg",
          "mpg",
          "mpg",
          "mpg",
          "mpg",
          "mpg",
          "mpg",
          "mpg",
          "mpg",
          "mpg",
          "mpg",
          "mpg",
          "mpg",
          "mpg",
          "mpg",
          "mpg",
          "mpg",
          "mpg",
          "mpg",
          "mpg",
          "mpg",
          "mpg",
          "mpg",
          "mpg",
          "mpg",
          "mpg",
          "mpg",
          "mpg",
          "mpg",
          "mpg",
          "mpg",
          "mpg",
          "mpg",
          "mpg",
          "mpg",
          "mpg",
          "mpg",
          "mpg",
          "mpg",
          "mpg",
          "mpg",
          "mpg",
          "mpg",
          "mpg",
          "mpg",
          "mpg",
          "mpg",
          "mpg",
          "mpg",
          "mpg",
          "mpg",
          "mpg",
          "mpg",
          "mpg",
          "mpg",
          "mpg",
          "mpg",
          "mpg",
          "mpg",
          "mpg",
          "mpg",
          "mpg",
          "mpg",
          "mpg",
          "mpg",
          "mpg",
          "mpg",
          "mpg",
          "mpg",
          "mpg",
          "mpg",
          "mpg",
          "mpg",
          "mpg",
          "mpg",
          "mpg",
          "mpg",
          "mpg",
          "mpg",
          "mpg",
          "mpg",
          "mpg",
          "mpg",
          "mpg",
          "mpg",
          "mpg",
          "mpg",
          "mpg",
          "mpg",
          "mpg",
          "mpg",
          "mpg",
          "mpg",
          "mpg",
          "mpg",
          "mpg",
          "mpg",
          "mpg",
          "mpg",
          "mpg",
          "mpg",
          "mpg",
          "mpg",
          "mpg",
          "mpg",
          "mpg",
          "mpg",
          "mpg",
          "mpg",
          "mpg",
          "mpg",
          "mpg",
          "mpg",
          "mpg",
          "mpg",
          "mpg",
          "mpg",
          "mpg",
          "mpg",
          "mpg",
          "mpg",
          "mpg",
          "mpg",
          "mpg",
          "mpg",
          "mpg",
          "mpg",
          "mpg",
          "mpg",
          "mpg",
          "mpg",
          "mpg",
          "mpg",
          "mpg",
          "mpg",
          "mpg",
          "mpg",
          "mpg",
          "mpg",
          "mpg",
          "mpg",
          "mpg",
          "mpg",
          "mpg",
          "mpg",
          "mpg",
          "mpg",
          "mpg",
          "mpg",
          "mpg",
          "mpg",
          "mpg",
          "mpg",
          "mpg",
          "mpg",
          "mpg",
          "mpg",
          "mpg",
          "mpg",
          "mpg",
          "mpg",
          "mpg",
          "mpg",
          "mpg",
          "mpg",
          "mpg",
          "mpg",
          "mpg",
          "mpg",
          "mpg",
          "mpg",
          "mpg",
          "mpg",
          "mpg",
          "mpg",
          "mpg",
          "mpg",
          "mpg",
          "mpg",
          "mpg",
          "mpg",
          "mpg",
          "mpg",
          "mpg",
          "mpg",
          "mpg",
          "mpg",
          "mpg",
          "mpg",
          "mpg",
          "mpg",
          "mpg",
          "mpg",
          "mpg",
          "mpg",
          "mpg",
          "mpg",
          "mpg",
          "mpg",
          "mpg",
          "mpg",
          "mpg",
          "mpg",
          "mpg",
          "mpg",
          "mpg",
          "mpg",
          "mpg",
          "mpg",
          "mpg",
          "mpg",
          "mpg",
          "mpg",
          "mpg",
          "mpg",
          "mpg",
          "mpg",
          "mpg",
          "mpg",
          "mpg",
          "mpg",
          "mpg",
          "mpg",
          "mpg",
          "mpg",
          "mpg",
          "mpg",
          "mpg",
          "mpg",
          "mpg",
          "mpg",
          "mpg",
          "mpg",
          "mpg",
          "mpg",
          "mpg",
          "mpg",
          "mpg",
          "mpg",
          "mpg",
          "mpg",
          "mpg",
          "mpg",
          "mpg",
          "mpg",
          "mpg",
          "mpg",
          "mpg",
          "mpg",
          "mpg",
          "mpg",
          "mpg",
          "mpg",
          "mpg",
          "mpg",
          "mpg",
          "mpg",
          "mpg",
          "mpg",
          "mpg",
          "mpg",
          "mpg",
          "mpg",
          "mpg",
          "mpg",
          "mpg",
          "mpg",
          "mpg",
          "mpg",
          "mpg",
          "mpg",
          "mpg",
          "mpg",
          "mpg",
          "mpg",
          "mpg",
          "mpg",
          "mpg",
          "mpg",
          "mpg",
          "mpg",
          "mpg",
          "mpg",
          "mpg",
          "mpg",
          "mpg",
          "mpg",
          "mpg",
          "mpg",
          "mpg",
          "mpg",
          "mpg",
          "mpg",
          "mpg",
          "mpg",
          "mpg",
          "mpg",
          "mpg",
          "mpg",
          "mpg",
          "mpg",
          "mpg",
          "mpg",
          "mpg",
          "mpg",
          "mpg",
          "mpg",
          "mpg",
          "mpg",
          "mpg",
          "mpg",
          "mpg",
          "mpg",
          "mpg",
          "mpg",
          "mpg",
          "mpg",
          "mpg",
          "mpg",
          "mpg",
          "mpg",
          "mpg",
          "mpg",
          "mpg",
          "mpg",
          "mpg",
          "mpg",
          "mpg",
          "mpg",
          "mpg",
          "mpg",
          "mpg",
          "mpg",
          "mpg",
          "mpg",
          "mpg",
          "mpg",
          "mpg",
          "mpg",
          "mpg",
          "mpg",
          "mpg",
          "mpg",
          "mpg",
          "mpg",
          "mpg",
          "mpg",
          "mpg",
          "mpg",
          "mpg",
          "mpg",
          "mpg",
          "mpg",
          "mpg",
          "mpg",
          "mpg",
          "mpg",
          "mpg",
          "mpg",
          "mpg",
          "mpg",
          "mpg",
          "mpg",
          "mpg",
          "mpg",
          "mpg",
          "mpg",
          "mpg",
          "mpg",
          "mpg",
          "cylinders",
          "cylinders",
          "cylinders",
          "cylinders",
          "cylinders",
          "cylinders",
          "cylinders",
          "cylinders",
          "cylinders",
          "cylinders",
          "cylinders",
          "cylinders",
          "cylinders",
          "cylinders",
          "cylinders",
          "cylinders",
          "cylinders",
          "cylinders",
          "cylinders",
          "cylinders",
          "cylinders",
          "cylinders",
          "cylinders",
          "cylinders",
          "cylinders",
          "cylinders",
          "cylinders",
          "cylinders",
          "cylinders",
          "cylinders",
          "cylinders",
          "cylinders",
          "cylinders",
          "cylinders",
          "cylinders",
          "cylinders",
          "cylinders",
          "cylinders",
          "cylinders",
          "cylinders",
          "cylinders",
          "cylinders",
          "cylinders",
          "cylinders",
          "cylinders",
          "cylinders",
          "cylinders",
          "cylinders",
          "cylinders",
          "cylinders",
          "cylinders",
          "cylinders",
          "cylinders",
          "cylinders",
          "cylinders",
          "cylinders",
          "cylinders",
          "cylinders",
          "cylinders",
          "cylinders",
          "cylinders",
          "cylinders",
          "cylinders",
          "cylinders",
          "cylinders",
          "cylinders",
          "cylinders",
          "cylinders",
          "cylinders",
          "cylinders",
          "cylinders",
          "cylinders",
          "cylinders",
          "cylinders",
          "cylinders",
          "cylinders",
          "cylinders",
          "cylinders",
          "cylinders",
          "cylinders",
          "cylinders",
          "cylinders",
          "cylinders",
          "cylinders",
          "cylinders",
          "cylinders",
          "cylinders",
          "cylinders",
          "cylinders",
          "cylinders",
          "cylinders",
          "cylinders",
          "cylinders",
          "cylinders",
          "cylinders",
          "cylinders",
          "cylinders",
          "cylinders",
          "cylinders",
          "cylinders",
          "cylinders",
          "cylinders",
          "cylinders",
          "cylinders",
          "cylinders",
          "cylinders",
          "cylinders",
          "cylinders",
          "cylinders",
          "cylinders",
          "cylinders",
          "cylinders",
          "cylinders",
          "cylinders",
          "cylinders",
          "cylinders",
          "cylinders",
          "cylinders",
          "cylinders",
          "cylinders",
          "cylinders",
          "cylinders",
          "cylinders",
          "cylinders",
          "cylinders",
          "cylinders",
          "cylinders",
          "cylinders",
          "cylinders",
          "cylinders",
          "cylinders",
          "cylinders",
          "cylinders",
          "cylinders",
          "cylinders",
          "cylinders",
          "cylinders",
          "cylinders",
          "cylinders",
          "cylinders",
          "cylinders",
          "cylinders",
          "cylinders",
          "cylinders",
          "cylinders",
          "cylinders",
          "cylinders",
          "cylinders",
          "cylinders",
          "cylinders",
          "cylinders",
          "cylinders",
          "cylinders",
          "cylinders",
          "cylinders",
          "cylinders",
          "cylinders",
          "cylinders",
          "cylinders",
          "cylinders",
          "cylinders",
          "cylinders",
          "cylinders",
          "cylinders",
          "cylinders",
          "cylinders",
          "cylinders",
          "cylinders",
          "cylinders",
          "cylinders",
          "cylinders",
          "cylinders",
          "cylinders",
          "cylinders",
          "cylinders",
          "cylinders",
          "cylinders",
          "cylinders",
          "cylinders",
          "cylinders",
          "cylinders",
          "cylinders",
          "cylinders",
          "cylinders",
          "cylinders",
          "cylinders",
          "cylinders",
          "cylinders",
          "cylinders",
          "cylinders",
          "cylinders",
          "cylinders",
          "cylinders",
          "cylinders",
          "cylinders",
          "cylinders",
          "cylinders",
          "cylinders",
          "cylinders",
          "cylinders",
          "cylinders",
          "cylinders",
          "cylinders",
          "cylinders",
          "cylinders",
          "cylinders",
          "cylinders",
          "cylinders",
          "cylinders",
          "cylinders",
          "cylinders",
          "cylinders",
          "cylinders",
          "cylinders",
          "cylinders",
          "cylinders",
          "cylinders",
          "cylinders",
          "cylinders",
          "cylinders",
          "cylinders",
          "cylinders",
          "cylinders",
          "cylinders",
          "cylinders",
          "cylinders",
          "cylinders",
          "cylinders",
          "cylinders",
          "cylinders",
          "cylinders",
          "cylinders",
          "cylinders",
          "cylinders",
          "cylinders",
          "cylinders",
          "cylinders",
          "cylinders",
          "cylinders",
          "cylinders",
          "cylinders",
          "cylinders",
          "cylinders",
          "cylinders",
          "cylinders",
          "cylinders",
          "cylinders",
          "cylinders",
          "cylinders",
          "cylinders",
          "cylinders",
          "cylinders",
          "cylinders",
          "cylinders",
          "cylinders",
          "cylinders",
          "cylinders",
          "cylinders",
          "cylinders",
          "cylinders",
          "cylinders",
          "cylinders",
          "cylinders",
          "cylinders",
          "cylinders",
          "cylinders",
          "cylinders",
          "cylinders",
          "cylinders",
          "cylinders",
          "cylinders",
          "cylinders",
          "cylinders",
          "cylinders",
          "cylinders",
          "cylinders",
          "cylinders",
          "cylinders",
          "cylinders",
          "cylinders",
          "cylinders",
          "cylinders",
          "cylinders",
          "cylinders",
          "cylinders",
          "cylinders",
          "cylinders",
          "cylinders",
          "cylinders",
          "cylinders",
          "cylinders",
          "cylinders",
          "cylinders",
          "cylinders",
          "cylinders",
          "cylinders",
          "cylinders",
          "cylinders",
          "cylinders",
          "cylinders",
          "cylinders",
          "cylinders",
          "cylinders",
          "cylinders",
          "cylinders",
          "cylinders",
          "cylinders",
          "cylinders",
          "cylinders",
          "cylinders",
          "cylinders",
          "cylinders",
          "cylinders",
          "cylinders",
          "cylinders",
          "cylinders",
          "cylinders",
          "cylinders",
          "cylinders",
          "cylinders",
          "cylinders",
          "cylinders",
          "cylinders",
          "cylinders",
          "cylinders",
          "cylinders",
          "cylinders",
          "cylinders",
          "cylinders",
          "cylinders",
          "cylinders",
          "cylinders",
          "cylinders",
          "cylinders",
          "cylinders",
          "cylinders",
          "cylinders",
          "cylinders",
          "cylinders",
          "cylinders",
          "cylinders",
          "cylinders",
          "cylinders",
          "cylinders",
          "cylinders",
          "cylinders",
          "cylinders",
          "cylinders",
          "cylinders",
          "cylinders",
          "cylinders",
          "cylinders",
          "cylinders",
          "cylinders",
          "cylinders",
          "cylinders",
          "cylinders",
          "cylinders",
          "cylinders",
          "cylinders",
          "cylinders",
          "cylinders",
          "cylinders",
          "cylinders",
          "cylinders",
          "cylinders",
          "cylinders",
          "cylinders",
          "cylinders",
          "cylinders",
          "cylinders",
          "cylinders",
          "cylinders",
          "cylinders",
          "cylinders",
          "cylinders",
          "cylinders",
          "cylinders",
          "cylinders",
          "cylinders",
          "cylinders",
          "cylinders",
          "cylinders",
          "cylinders",
          "cylinders",
          "cylinders",
          "cylinders",
          "cylinders",
          "cylinders",
          "cylinders",
          "cylinders",
          "cylinders",
          "discpalcement",
          "discpalcement",
          "discpalcement",
          "discpalcement",
          "discpalcement",
          "discpalcement",
          "discpalcement",
          "discpalcement",
          "discpalcement",
          "discpalcement",
          "discpalcement",
          "discpalcement",
          "discpalcement",
          "discpalcement",
          "discpalcement",
          "discpalcement",
          "discpalcement",
          "discpalcement",
          "discpalcement",
          "discpalcement",
          "discpalcement",
          "discpalcement",
          "discpalcement",
          "discpalcement",
          "discpalcement",
          "discpalcement",
          "discpalcement",
          "discpalcement",
          "discpalcement",
          "discpalcement",
          "discpalcement",
          "discpalcement",
          "discpalcement",
          "discpalcement",
          "discpalcement",
          "discpalcement",
          "discpalcement",
          "discpalcement",
          "discpalcement",
          "discpalcement",
          "discpalcement",
          "discpalcement",
          "discpalcement",
          "discpalcement",
          "discpalcement",
          "discpalcement",
          "discpalcement",
          "discpalcement",
          "discpalcement",
          "discpalcement",
          "discpalcement",
          "discpalcement",
          "discpalcement",
          "discpalcement",
          "discpalcement",
          "discpalcement",
          "discpalcement",
          "discpalcement",
          "discpalcement",
          "discpalcement",
          "discpalcement",
          "discpalcement",
          "discpalcement",
          "discpalcement",
          "discpalcement",
          "discpalcement",
          "discpalcement",
          "discpalcement",
          "discpalcement",
          "discpalcement",
          "discpalcement",
          "discpalcement",
          "discpalcement",
          "discpalcement",
          "discpalcement",
          "discpalcement",
          "discpalcement",
          "discpalcement",
          "discpalcement",
          "discpalcement",
          "discpalcement",
          "discpalcement",
          "discpalcement",
          "discpalcement",
          "discpalcement",
          "discpalcement",
          "discpalcement",
          "discpalcement",
          "discpalcement",
          "discpalcement",
          "discpalcement",
          "discpalcement",
          "discpalcement",
          "discpalcement",
          "discpalcement",
          "discpalcement",
          "discpalcement",
          "discpalcement",
          "discpalcement",
          "discpalcement",
          "discpalcement",
          "discpalcement",
          "discpalcement",
          "discpalcement",
          "discpalcement",
          "discpalcement",
          "discpalcement",
          "discpalcement",
          "discpalcement",
          "discpalcement",
          "discpalcement",
          "discpalcement",
          "discpalcement",
          "discpalcement",
          "discpalcement",
          "discpalcement",
          "discpalcement",
          "discpalcement",
          "discpalcement",
          "discpalcement",
          "discpalcement",
          "discpalcement",
          "discpalcement",
          "discpalcement",
          "discpalcement",
          "discpalcement",
          "discpalcement",
          "discpalcement",
          "discpalcement",
          "discpalcement",
          "discpalcement",
          "discpalcement",
          "discpalcement",
          "discpalcement",
          "discpalcement",
          "discpalcement",
          "discpalcement",
          "discpalcement",
          "discpalcement",
          "discpalcement",
          "discpalcement",
          "discpalcement",
          "discpalcement",
          "discpalcement",
          "discpalcement",
          "discpalcement",
          "discpalcement",
          "discpalcement",
          "discpalcement",
          "discpalcement",
          "discpalcement",
          "discpalcement",
          "discpalcement",
          "discpalcement",
          "discpalcement",
          "discpalcement",
          "discpalcement",
          "discpalcement",
          "discpalcement",
          "discpalcement",
          "discpalcement",
          "discpalcement",
          "discpalcement",
          "discpalcement",
          "discpalcement",
          "discpalcement",
          "discpalcement",
          "discpalcement",
          "discpalcement",
          "discpalcement",
          "discpalcement",
          "discpalcement",
          "discpalcement",
          "discpalcement",
          "discpalcement",
          "discpalcement",
          "discpalcement",
          "discpalcement",
          "discpalcement",
          "discpalcement",
          "discpalcement",
          "discpalcement",
          "discpalcement",
          "discpalcement",
          "discpalcement",
          "discpalcement",
          "discpalcement",
          "discpalcement",
          "discpalcement",
          "discpalcement",
          "discpalcement",
          "discpalcement",
          "discpalcement",
          "discpalcement",
          "discpalcement",
          "discpalcement",
          "discpalcement",
          "discpalcement",
          "discpalcement",
          "discpalcement",
          "discpalcement",
          "discpalcement",
          "discpalcement",
          "discpalcement",
          "discpalcement",
          "discpalcement",
          "discpalcement",
          "discpalcement",
          "discpalcement",
          "discpalcement",
          "discpalcement",
          "discpalcement",
          "discpalcement",
          "discpalcement",
          "discpalcement",
          "discpalcement",
          "discpalcement",
          "discpalcement",
          "discpalcement",
          "discpalcement",
          "discpalcement",
          "discpalcement",
          "discpalcement",
          "discpalcement",
          "discpalcement",
          "discpalcement",
          "discpalcement",
          "discpalcement",
          "discpalcement",
          "discpalcement",
          "discpalcement",
          "discpalcement",
          "discpalcement",
          "discpalcement",
          "discpalcement",
          "discpalcement",
          "discpalcement",
          "discpalcement",
          "discpalcement",
          "discpalcement",
          "discpalcement",
          "discpalcement",
          "discpalcement",
          "discpalcement",
          "discpalcement",
          "discpalcement",
          "discpalcement",
          "discpalcement",
          "discpalcement",
          "discpalcement",
          "discpalcement",
          "discpalcement",
          "discpalcement",
          "discpalcement",
          "discpalcement",
          "discpalcement",
          "discpalcement",
          "discpalcement",
          "discpalcement",
          "discpalcement",
          "discpalcement",
          "discpalcement",
          "discpalcement",
          "discpalcement",
          "discpalcement",
          "discpalcement",
          "discpalcement",
          "discpalcement",
          "discpalcement",
          "discpalcement",
          "discpalcement",
          "discpalcement",
          "discpalcement",
          "discpalcement",
          "discpalcement",
          "discpalcement",
          "discpalcement",
          "discpalcement",
          "discpalcement",
          "discpalcement",
          "discpalcement",
          "discpalcement",
          "discpalcement",
          "discpalcement",
          "discpalcement",
          "discpalcement",
          "discpalcement",
          "discpalcement",
          "discpalcement",
          "discpalcement",
          "discpalcement",
          "discpalcement",
          "discpalcement",
          "discpalcement",
          "discpalcement",
          "discpalcement",
          "discpalcement",
          "discpalcement",
          "discpalcement",
          "discpalcement",
          "discpalcement",
          "discpalcement",
          "discpalcement",
          "discpalcement",
          "discpalcement",
          "discpalcement",
          "discpalcement",
          "discpalcement",
          "discpalcement",
          "discpalcement",
          "discpalcement",
          "discpalcement",
          "discpalcement",
          "discpalcement",
          "discpalcement",
          "discpalcement",
          "discpalcement",
          "discpalcement",
          "discpalcement",
          "discpalcement",
          "discpalcement",
          "discpalcement",
          "discpalcement",
          "discpalcement",
          "discpalcement",
          "discpalcement",
          "discpalcement",
          "discpalcement",
          "discpalcement",
          "discpalcement",
          "discpalcement",
          "discpalcement",
          "discpalcement",
          "discpalcement",
          "discpalcement",
          "discpalcement",
          "discpalcement",
          "discpalcement",
          "discpalcement",
          "discpalcement",
          "discpalcement",
          "discpalcement",
          "discpalcement",
          "discpalcement",
          "discpalcement",
          "discpalcement",
          "discpalcement",
          "discpalcement",
          "discpalcement",
          "discpalcement",
          "discpalcement",
          "discpalcement",
          "discpalcement",
          "discpalcement",
          "discpalcement",
          "discpalcement",
          "discpalcement",
          "discpalcement",
          "discpalcement",
          "discpalcement",
          "discpalcement",
          "discpalcement",
          "discpalcement",
          "discpalcement",
          "discpalcement",
          "discpalcement",
          "discpalcement",
          "discpalcement",
          "discpalcement",
          "discpalcement",
          "discpalcement",
          "discpalcement",
          "discpalcement",
          "discpalcement",
          "discpalcement",
          "discpalcement",
          "discpalcement",
          "discpalcement",
          "discpalcement",
          "discpalcement",
          "discpalcement",
          "discpalcement",
          "discpalcement",
          "discpalcement",
          "discpalcement",
          "discpalcement",
          "discpalcement",
          "discpalcement",
          "discpalcement",
          "discpalcement",
          "discpalcement",
          "discpalcement",
          "horsepower",
          "horsepower",
          "horsepower",
          "horsepower",
          "horsepower",
          "horsepower",
          "horsepower",
          "horsepower",
          "horsepower",
          "horsepower",
          "horsepower",
          "horsepower",
          "horsepower",
          "horsepower",
          "horsepower",
          "horsepower",
          "horsepower",
          "horsepower",
          "horsepower",
          "horsepower",
          "horsepower",
          "horsepower",
          "horsepower",
          "horsepower",
          "horsepower",
          "horsepower",
          "horsepower",
          "horsepower",
          "horsepower",
          "horsepower",
          "horsepower",
          "horsepower",
          "horsepower",
          "horsepower",
          "horsepower",
          "horsepower",
          "horsepower",
          "horsepower",
          "horsepower",
          "horsepower",
          "horsepower",
          "horsepower",
          "horsepower",
          "horsepower",
          "horsepower",
          "horsepower",
          "horsepower",
          "horsepower",
          "horsepower",
          "horsepower",
          "horsepower",
          "horsepower",
          "horsepower",
          "horsepower",
          "horsepower",
          "horsepower",
          "horsepower",
          "horsepower",
          "horsepower",
          "horsepower",
          "horsepower",
          "horsepower",
          "horsepower",
          "horsepower",
          "horsepower",
          "horsepower",
          "horsepower",
          "horsepower",
          "horsepower",
          "horsepower",
          "horsepower",
          "horsepower",
          "horsepower",
          "horsepower",
          "horsepower",
          "horsepower",
          "horsepower",
          "horsepower",
          "horsepower",
          "horsepower",
          "horsepower",
          "horsepower",
          "horsepower",
          "horsepower",
          "horsepower",
          "horsepower",
          "horsepower",
          "horsepower",
          "horsepower",
          "horsepower",
          "horsepower",
          "horsepower",
          "horsepower",
          "horsepower",
          "horsepower",
          "horsepower",
          "horsepower",
          "horsepower",
          "horsepower",
          "horsepower",
          "horsepower",
          "horsepower",
          "horsepower",
          "horsepower",
          "horsepower",
          "horsepower",
          "horsepower",
          "horsepower",
          "horsepower",
          "horsepower",
          "horsepower",
          "horsepower",
          "horsepower",
          "horsepower",
          "horsepower",
          "horsepower",
          "horsepower",
          "horsepower",
          "horsepower",
          "horsepower",
          "horsepower",
          "horsepower",
          "horsepower",
          "horsepower",
          "horsepower",
          "horsepower",
          "horsepower",
          "horsepower",
          "horsepower",
          "horsepower",
          "horsepower",
          "horsepower",
          "horsepower",
          "horsepower",
          "horsepower",
          "horsepower",
          "horsepower",
          "horsepower",
          "horsepower",
          "horsepower",
          "horsepower",
          "horsepower",
          "horsepower",
          "horsepower",
          "horsepower",
          "horsepower",
          "horsepower",
          "horsepower",
          "horsepower",
          "horsepower",
          "horsepower",
          "horsepower",
          "horsepower",
          "horsepower",
          "horsepower",
          "horsepower",
          "horsepower",
          "horsepower",
          "horsepower",
          "horsepower",
          "horsepower",
          "horsepower",
          "horsepower",
          "horsepower",
          "horsepower",
          "horsepower",
          "horsepower",
          "horsepower",
          "horsepower",
          "horsepower",
          "horsepower",
          "horsepower",
          "horsepower",
          "horsepower",
          "horsepower",
          "horsepower",
          "horsepower",
          "horsepower",
          "horsepower",
          "horsepower",
          "horsepower",
          "horsepower",
          "horsepower",
          "horsepower",
          "horsepower",
          "horsepower",
          "horsepower",
          "horsepower",
          "horsepower",
          "horsepower",
          "horsepower",
          "horsepower",
          "horsepower",
          "horsepower",
          "horsepower",
          "horsepower",
          "horsepower",
          "horsepower",
          "horsepower",
          "horsepower",
          "horsepower",
          "horsepower",
          "horsepower",
          "horsepower",
          "horsepower",
          "horsepower",
          "horsepower",
          "horsepower",
          "horsepower",
          "horsepower",
          "horsepower",
          "horsepower",
          "horsepower",
          "horsepower",
          "horsepower",
          "horsepower",
          "horsepower",
          "horsepower",
          "horsepower",
          "horsepower",
          "horsepower",
          "horsepower",
          "horsepower",
          "horsepower",
          "horsepower",
          "horsepower",
          "horsepower",
          "horsepower",
          "horsepower",
          "horsepower",
          "horsepower",
          "horsepower",
          "horsepower",
          "horsepower",
          "horsepower",
          "horsepower",
          "horsepower",
          "horsepower",
          "horsepower",
          "horsepower",
          "horsepower",
          "horsepower",
          "horsepower",
          "horsepower",
          "horsepower",
          "horsepower",
          "horsepower",
          "horsepower",
          "horsepower",
          "horsepower",
          "horsepower",
          "horsepower",
          "horsepower",
          "horsepower",
          "horsepower",
          "horsepower",
          "horsepower",
          "horsepower",
          "horsepower",
          "horsepower",
          "horsepower",
          "horsepower",
          "horsepower",
          "horsepower",
          "horsepower",
          "horsepower",
          "horsepower",
          "horsepower",
          "horsepower",
          "horsepower",
          "horsepower",
          "horsepower",
          "horsepower",
          "horsepower",
          "horsepower",
          "horsepower",
          "horsepower",
          "horsepower",
          "horsepower",
          "horsepower",
          "horsepower",
          "horsepower",
          "horsepower",
          "horsepower",
          "horsepower",
          "horsepower",
          "horsepower",
          "horsepower",
          "horsepower",
          "horsepower",
          "horsepower",
          "horsepower",
          "horsepower",
          "horsepower",
          "horsepower",
          "horsepower",
          "horsepower",
          "horsepower",
          "horsepower",
          "horsepower",
          "horsepower",
          "horsepower",
          "horsepower",
          "horsepower",
          "horsepower",
          "horsepower",
          "horsepower",
          "horsepower",
          "horsepower",
          "horsepower",
          "horsepower",
          "horsepower",
          "horsepower",
          "horsepower",
          "horsepower",
          "horsepower",
          "horsepower",
          "horsepower",
          "horsepower",
          "horsepower",
          "horsepower",
          "horsepower",
          "horsepower",
          "horsepower",
          "horsepower",
          "horsepower",
          "horsepower",
          "horsepower",
          "horsepower",
          "horsepower",
          "horsepower",
          "horsepower",
          "horsepower",
          "horsepower",
          "horsepower",
          "horsepower",
          "horsepower",
          "horsepower",
          "horsepower",
          "horsepower",
          "horsepower",
          "horsepower",
          "horsepower",
          "horsepower",
          "horsepower",
          "horsepower",
          "horsepower",
          "horsepower",
          "horsepower",
          "horsepower",
          "horsepower",
          "horsepower",
          "horsepower",
          "horsepower",
          "horsepower",
          "horsepower",
          "horsepower",
          "horsepower",
          "horsepower",
          "horsepower",
          "horsepower",
          "horsepower",
          "horsepower",
          "horsepower",
          "horsepower",
          "horsepower",
          "horsepower",
          "horsepower",
          "horsepower",
          "horsepower",
          "horsepower",
          "horsepower",
          "horsepower",
          "horsepower",
          "horsepower",
          "horsepower",
          "horsepower",
          "horsepower",
          "horsepower",
          "horsepower",
          "horsepower",
          "horsepower",
          "horsepower",
          "horsepower",
          "horsepower",
          "horsepower",
          "horsepower",
          "horsepower",
          "horsepower",
          "horsepower",
          "horsepower",
          "horsepower",
          "weight",
          "weight",
          "weight",
          "weight",
          "weight",
          "weight",
          "weight",
          "weight",
          "weight",
          "weight",
          "weight",
          "weight",
          "weight",
          "weight",
          "weight",
          "weight",
          "weight",
          "weight",
          "weight",
          "weight",
          "weight",
          "weight",
          "weight",
          "weight",
          "weight",
          "weight",
          "weight",
          "weight",
          "weight",
          "weight",
          "weight",
          "weight",
          "weight",
          "weight",
          "weight",
          "weight",
          "weight",
          "weight",
          "weight",
          "weight",
          "weight",
          "weight",
          "weight",
          "weight",
          "weight",
          "weight",
          "weight",
          "weight",
          "weight",
          "weight",
          "weight",
          "weight",
          "weight",
          "weight",
          "weight",
          "weight",
          "weight",
          "weight",
          "weight",
          "weight",
          "weight",
          "weight",
          "weight",
          "weight",
          "weight",
          "weight",
          "weight",
          "weight",
          "weight",
          "weight",
          "weight",
          "weight",
          "weight",
          "weight",
          "weight",
          "weight",
          "weight",
          "weight",
          "weight",
          "weight",
          "weight",
          "weight",
          "weight",
          "weight",
          "weight",
          "weight",
          "weight",
          "weight",
          "weight",
          "weight",
          "weight",
          "weight",
          "weight",
          "weight",
          "weight",
          "weight",
          "weight",
          "weight",
          "weight",
          "weight",
          "weight",
          "weight",
          "weight",
          "weight",
          "weight",
          "weight",
          "weight",
          "weight",
          "weight",
          "weight",
          "weight",
          "weight",
          "weight",
          "weight",
          "weight",
          "weight",
          "weight",
          "weight",
          "weight",
          "weight",
          "weight",
          "weight",
          "weight",
          "weight",
          "weight",
          "weight",
          "weight",
          "weight",
          "weight",
          "weight",
          "weight",
          "weight",
          "weight",
          "weight",
          "weight",
          "weight",
          "weight",
          "weight",
          "weight",
          "weight",
          "weight",
          "weight",
          "weight",
          "weight",
          "weight",
          "weight",
          "weight",
          "weight",
          "weight",
          "weight",
          "weight",
          "weight",
          "weight",
          "weight",
          "weight",
          "weight",
          "weight",
          "weight",
          "weight",
          "weight",
          "weight",
          "weight",
          "weight",
          "weight",
          "weight",
          "weight",
          "weight",
          "weight",
          "weight",
          "weight",
          "weight",
          "weight",
          "weight",
          "weight",
          "weight",
          "weight",
          "weight",
          "weight",
          "weight",
          "weight",
          "weight",
          "weight",
          "weight",
          "weight",
          "weight",
          "weight",
          "weight",
          "weight",
          "weight",
          "weight",
          "weight",
          "weight",
          "weight",
          "weight",
          "weight",
          "weight",
          "weight",
          "weight",
          "weight",
          "weight",
          "weight",
          "weight",
          "weight",
          "weight",
          "weight",
          "weight",
          "weight",
          "weight",
          "weight",
          "weight",
          "weight",
          "weight",
          "weight",
          "weight",
          "weight",
          "weight",
          "weight",
          "weight",
          "weight",
          "weight",
          "weight",
          "weight",
          "weight",
          "weight",
          "weight",
          "weight",
          "weight",
          "weight",
          "weight",
          "weight",
          "weight",
          "weight",
          "weight",
          "weight",
          "weight",
          "weight",
          "weight",
          "weight",
          "weight",
          "weight",
          "weight",
          "weight",
          "weight",
          "weight",
          "weight",
          "weight",
          "weight",
          "weight",
          "weight",
          "weight",
          "weight",
          "weight",
          "weight",
          "weight",
          "weight",
          "weight",
          "weight",
          "weight",
          "weight",
          "weight",
          "weight",
          "weight",
          "weight",
          "weight",
          "weight",
          "weight",
          "weight",
          "weight",
          "weight",
          "weight",
          "weight",
          "weight",
          "weight",
          "weight",
          "weight",
          "weight",
          "weight",
          "weight",
          "weight",
          "weight",
          "weight",
          "weight",
          "weight",
          "weight",
          "weight",
          "weight",
          "weight",
          "weight",
          "weight",
          "weight",
          "weight",
          "weight",
          "weight",
          "weight",
          "weight",
          "weight",
          "weight",
          "weight",
          "weight",
          "weight",
          "weight",
          "weight",
          "weight",
          "weight",
          "weight",
          "weight",
          "weight",
          "weight",
          "weight",
          "weight",
          "weight",
          "weight",
          "weight",
          "weight",
          "weight",
          "weight",
          "weight",
          "weight",
          "weight",
          "weight",
          "weight",
          "weight",
          "weight",
          "weight",
          "weight",
          "weight",
          "weight",
          "weight",
          "weight",
          "weight",
          "weight",
          "weight",
          "weight",
          "weight",
          "weight",
          "weight",
          "weight",
          "weight",
          "weight",
          "weight",
          "weight",
          "weight",
          "weight",
          "weight",
          "weight",
          "weight",
          "weight",
          "weight",
          "weight",
          "weight",
          "weight",
          "weight",
          "weight",
          "weight",
          "weight",
          "weight",
          "weight",
          "weight",
          "weight",
          "weight",
          "weight",
          "weight",
          "weight",
          "weight",
          "weight",
          "weight",
          "weight",
          "weight",
          "weight",
          "weight",
          "weight",
          "weight",
          "weight",
          "weight",
          "weight",
          "weight",
          "weight",
          "weight",
          "weight",
          "weight",
          "weight",
          "weight",
          "weight",
          "weight",
          "weight",
          "weight",
          "weight",
          "weight",
          "weight",
          "weight",
          "weight",
          "weight",
          "acceleration",
          "acceleration",
          "acceleration",
          "acceleration",
          "acceleration",
          "acceleration",
          "acceleration",
          "acceleration",
          "acceleration",
          "acceleration",
          "acceleration",
          "acceleration",
          "acceleration",
          "acceleration",
          "acceleration",
          "acceleration",
          "acceleration",
          "acceleration",
          "acceleration",
          "acceleration",
          "acceleration",
          "acceleration",
          "acceleration",
          "acceleration",
          "acceleration",
          "acceleration",
          "acceleration",
          "acceleration",
          "acceleration",
          "acceleration",
          "acceleration",
          "acceleration",
          "acceleration",
          "acceleration",
          "acceleration",
          "acceleration",
          "acceleration",
          "acceleration",
          "acceleration",
          "acceleration",
          "acceleration",
          "acceleration",
          "acceleration",
          "acceleration",
          "acceleration",
          "acceleration",
          "acceleration",
          "acceleration",
          "acceleration",
          "acceleration",
          "acceleration",
          "acceleration",
          "acceleration",
          "acceleration",
          "acceleration",
          "acceleration",
          "acceleration",
          "acceleration",
          "acceleration",
          "acceleration",
          "acceleration",
          "acceleration",
          "acceleration",
          "acceleration",
          "acceleration",
          "acceleration",
          "acceleration",
          "acceleration",
          "acceleration",
          "acceleration",
          "acceleration",
          "acceleration",
          "acceleration",
          "acceleration",
          "acceleration",
          "acceleration",
          "acceleration",
          "acceleration",
          "acceleration",
          "acceleration",
          "acceleration",
          "acceleration",
          "acceleration",
          "acceleration",
          "acceleration",
          "acceleration",
          "acceleration",
          "acceleration",
          "acceleration",
          "acceleration",
          "acceleration",
          "acceleration",
          "acceleration",
          "acceleration",
          "acceleration",
          "acceleration",
          "acceleration",
          "acceleration",
          "acceleration",
          "acceleration",
          "acceleration",
          "acceleration",
          "acceleration",
          "acceleration",
          "acceleration",
          "acceleration",
          "acceleration",
          "acceleration",
          "acceleration",
          "acceleration",
          "acceleration",
          "acceleration",
          "acceleration",
          "acceleration",
          "acceleration",
          "acceleration",
          "acceleration",
          "acceleration",
          "acceleration",
          "acceleration",
          "acceleration",
          "acceleration",
          "acceleration",
          "acceleration",
          "acceleration",
          "acceleration",
          "acceleration",
          "acceleration",
          "acceleration",
          "acceleration",
          "acceleration",
          "acceleration",
          "acceleration",
          "acceleration",
          "acceleration",
          "acceleration",
          "acceleration",
          "acceleration",
          "acceleration",
          "acceleration",
          "acceleration",
          "acceleration",
          "acceleration",
          "acceleration",
          "acceleration",
          "acceleration",
          "acceleration",
          "acceleration",
          "acceleration",
          "acceleration",
          "acceleration",
          "acceleration",
          "acceleration",
          "acceleration",
          "acceleration",
          "acceleration",
          "acceleration",
          "acceleration",
          "acceleration",
          "acceleration",
          "acceleration",
          "acceleration",
          "acceleration",
          "acceleration",
          "acceleration",
          "acceleration",
          "acceleration",
          "acceleration",
          "acceleration",
          "acceleration",
          "acceleration",
          "acceleration",
          "acceleration",
          "acceleration",
          "acceleration",
          "acceleration",
          "acceleration",
          "acceleration",
          "acceleration",
          "acceleration",
          "acceleration",
          "acceleration",
          "acceleration",
          "acceleration",
          "acceleration",
          "acceleration",
          "acceleration",
          "acceleration",
          "acceleration",
          "acceleration",
          "acceleration",
          "acceleration",
          "acceleration",
          "acceleration",
          "acceleration",
          "acceleration",
          "acceleration",
          "acceleration",
          "acceleration",
          "acceleration",
          "acceleration",
          "acceleration",
          "acceleration",
          "acceleration",
          "acceleration",
          "acceleration",
          "acceleration",
          "acceleration",
          "acceleration",
          "acceleration",
          "acceleration",
          "acceleration",
          "acceleration",
          "acceleration",
          "acceleration",
          "acceleration",
          "acceleration",
          "acceleration",
          "acceleration",
          "acceleration",
          "acceleration",
          "acceleration",
          "acceleration",
          "acceleration",
          "acceleration",
          "acceleration",
          "acceleration",
          "acceleration",
          "acceleration",
          "acceleration",
          "acceleration",
          "acceleration",
          "acceleration",
          "acceleration",
          "acceleration",
          "acceleration",
          "acceleration",
          "acceleration",
          "acceleration",
          "acceleration",
          "acceleration",
          "acceleration",
          "acceleration",
          "acceleration",
          "acceleration",
          "acceleration",
          "acceleration",
          "acceleration",
          "acceleration",
          "acceleration",
          "acceleration",
          "acceleration",
          "acceleration",
          "acceleration",
          "acceleration",
          "acceleration",
          "acceleration",
          "acceleration",
          "acceleration",
          "acceleration",
          "acceleration",
          "acceleration",
          "acceleration",
          "acceleration",
          "acceleration",
          "acceleration",
          "acceleration",
          "acceleration",
          "acceleration",
          "acceleration",
          "acceleration",
          "acceleration",
          "acceleration",
          "acceleration",
          "acceleration",
          "acceleration",
          "acceleration",
          "acceleration",
          "acceleration",
          "acceleration",
          "acceleration",
          "acceleration",
          "acceleration",
          "acceleration",
          "acceleration",
          "acceleration",
          "acceleration",
          "acceleration",
          "acceleration",
          "acceleration",
          "acceleration",
          "acceleration",
          "acceleration",
          "acceleration",
          "acceleration",
          "acceleration",
          "acceleration",
          "acceleration",
          "acceleration",
          "acceleration",
          "acceleration",
          "acceleration",
          "acceleration",
          "acceleration",
          "acceleration",
          "acceleration",
          "acceleration",
          "acceleration",
          "acceleration",
          "acceleration",
          "acceleration",
          "acceleration",
          "acceleration",
          "acceleration",
          "acceleration",
          "acceleration",
          "acceleration",
          "acceleration",
          "acceleration",
          "acceleration",
          "acceleration",
          "acceleration",
          "acceleration",
          "acceleration",
          "acceleration",
          "acceleration",
          "acceleration",
          "acceleration",
          "acceleration",
          "acceleration",
          "acceleration",
          "acceleration",
          "acceleration",
          "acceleration",
          "acceleration",
          "acceleration",
          "acceleration",
          "acceleration",
          "acceleration",
          "acceleration",
          "acceleration",
          "acceleration",
          "acceleration",
          "acceleration",
          "acceleration",
          "acceleration",
          "acceleration",
          "acceleration",
          "acceleration",
          "acceleration",
          "acceleration",
          "acceleration",
          "acceleration",
          "acceleration",
          "acceleration",
          "acceleration",
          "acceleration",
          "acceleration",
          "acceleration",
          "acceleration",
          "acceleration",
          "acceleration",
          "acceleration",
          "acceleration",
          "acceleration",
          "acceleration",
          "acceleration",
          "acceleration",
          "acceleration",
          "acceleration",
          "acceleration",
          "acceleration",
          "acceleration",
          "acceleration",
          "acceleration",
          "acceleration",
          "acceleration",
          "acceleration",
          "acceleration",
          "acceleration",
          "acceleration",
          "acceleration",
          "acceleration",
          "acceleration",
          "acceleration",
          "acceleration",
          "acceleration",
          "acceleration",
          "acceleration",
          "acceleration",
          "acceleration",
          "acceleration",
          "model_year",
          "model_year",
          "model_year",
          "model_year",
          "model_year",
          "model_year",
          "model_year",
          "model_year",
          "model_year",
          "model_year",
          "model_year",
          "model_year",
          "model_year",
          "model_year",
          "model_year",
          "model_year",
          "model_year",
          "model_year",
          "model_year",
          "model_year",
          "model_year",
          "model_year",
          "model_year",
          "model_year",
          "model_year",
          "model_year",
          "model_year",
          "model_year",
          "model_year",
          "model_year",
          "model_year",
          "model_year",
          "model_year",
          "model_year",
          "model_year",
          "model_year",
          "model_year",
          "model_year",
          "model_year",
          "model_year",
          "model_year",
          "model_year",
          "model_year",
          "model_year",
          "model_year",
          "model_year",
          "model_year",
          "model_year",
          "model_year",
          "model_year",
          "model_year",
          "model_year",
          "model_year",
          "model_year",
          "model_year",
          "model_year",
          "model_year",
          "model_year",
          "model_year",
          "model_year",
          "model_year",
          "model_year",
          "model_year",
          "model_year",
          "model_year",
          "model_year",
          "model_year",
          "model_year",
          "model_year",
          "model_year",
          "model_year",
          "model_year",
          "model_year",
          "model_year",
          "model_year",
          "model_year",
          "model_year",
          "model_year",
          "model_year",
          "model_year",
          "model_year",
          "model_year",
          "model_year",
          "model_year",
          "model_year",
          "model_year",
          "model_year",
          "model_year",
          "model_year",
          "model_year",
          "model_year",
          "model_year",
          "model_year",
          "model_year",
          "model_year",
          "model_year",
          "model_year",
          "model_year",
          "model_year",
          "model_year",
          "model_year",
          "model_year",
          "model_year",
          "model_year",
          "model_year",
          "model_year",
          "model_year",
          "model_year",
          "model_year",
          "model_year",
          "model_year",
          "model_year",
          "model_year",
          "model_year",
          "model_year",
          "model_year",
          "model_year",
          "model_year",
          "model_year",
          "model_year",
          "model_year",
          "model_year",
          "model_year",
          "model_year",
          "model_year",
          "model_year",
          "model_year",
          "model_year",
          "model_year",
          "model_year",
          "model_year",
          "model_year",
          "model_year",
          "model_year",
          "model_year",
          "model_year",
          "model_year",
          "model_year",
          "model_year",
          "model_year",
          "model_year",
          "model_year",
          "model_year",
          "model_year",
          "model_year",
          "model_year",
          "model_year",
          "model_year",
          "model_year",
          "model_year",
          "model_year",
          "model_year",
          "model_year",
          "model_year",
          "model_year",
          "model_year",
          "model_year",
          "model_year",
          "model_year",
          "model_year",
          "model_year",
          "model_year",
          "model_year",
          "model_year",
          "model_year",
          "model_year",
          "model_year",
          "model_year",
          "model_year",
          "model_year",
          "model_year",
          "model_year",
          "model_year",
          "model_year",
          "model_year",
          "model_year",
          "model_year",
          "model_year",
          "model_year",
          "model_year",
          "model_year",
          "model_year",
          "model_year",
          "model_year",
          "model_year",
          "model_year",
          "model_year",
          "model_year",
          "model_year",
          "model_year",
          "model_year",
          "model_year",
          "model_year",
          "model_year",
          "model_year",
          "model_year",
          "model_year",
          "model_year",
          "model_year",
          "model_year",
          "model_year",
          "model_year",
          "model_year",
          "model_year",
          "model_year",
          "model_year",
          "model_year",
          "model_year",
          "model_year",
          "model_year",
          "model_year",
          "model_year",
          "model_year",
          "model_year",
          "model_year",
          "model_year",
          "model_year",
          "model_year",
          "model_year",
          "model_year",
          "model_year",
          "model_year",
          "model_year",
          "model_year",
          "model_year",
          "model_year",
          "model_year",
          "model_year",
          "model_year",
          "model_year",
          "model_year",
          "model_year",
          "model_year",
          "model_year",
          "model_year",
          "model_year",
          "model_year",
          "model_year",
          "model_year",
          "model_year",
          "model_year",
          "model_year",
          "model_year",
          "model_year",
          "model_year",
          "model_year",
          "model_year",
          "model_year",
          "model_year",
          "model_year",
          "model_year",
          "model_year",
          "model_year",
          "model_year",
          "model_year",
          "model_year",
          "model_year",
          "model_year",
          "model_year",
          "model_year",
          "model_year",
          "model_year",
          "model_year",
          "model_year",
          "model_year",
          "model_year",
          "model_year",
          "model_year",
          "model_year",
          "model_year",
          "model_year",
          "model_year",
          "model_year",
          "model_year",
          "model_year",
          "model_year",
          "model_year",
          "model_year",
          "model_year",
          "model_year",
          "model_year",
          "model_year",
          "model_year",
          "model_year",
          "model_year",
          "model_year",
          "model_year",
          "model_year",
          "model_year",
          "model_year",
          "model_year",
          "model_year",
          "model_year",
          "model_year",
          "model_year",
          "model_year",
          "model_year",
          "model_year",
          "model_year",
          "model_year",
          "model_year",
          "model_year",
          "model_year",
          "model_year",
          "model_year",
          "model_year",
          "model_year",
          "model_year",
          "model_year",
          "model_year",
          "model_year",
          "model_year",
          "model_year",
          "model_year",
          "model_year",
          "model_year",
          "model_year",
          "model_year",
          "model_year",
          "model_year",
          "model_year",
          "model_year",
          "model_year",
          "model_year",
          "model_year",
          "model_year",
          "model_year",
          "model_year",
          "model_year",
          "model_year",
          "model_year",
          "model_year",
          "model_year",
          "model_year",
          "model_year",
          "model_year",
          "model_year",
          "model_year",
          "model_year",
          "model_year",
          "model_year",
          "model_year",
          "model_year",
          "model_year",
          "model_year",
          "model_year",
          "model_year",
          "model_year",
          "model_year",
          "model_year",
          "model_year",
          "model_year",
          "model_year",
          "model_year",
          "model_year",
          "model_year",
          "model_year",
          "model_year",
          "model_year",
          "model_year",
          "model_year",
          "model_year",
          "model_year",
          "model_year",
          "model_year",
          "model_year",
          "model_year",
          "model_year",
          "model_year",
          "model_year",
          "model_year",
          "model_year",
          "model_year",
          "model_year",
          "model_year",
          "model_year",
          "model_year",
          "model_year",
          "model_year",
          "model_year",
          "model_year",
          "model_year",
          "model_year",
          "model_year",
          "model_year",
          "model_year",
          "model_year",
          "model_year",
          "model_year",
          "model_year",
          "model_year",
          "model_year",
          "origin",
          "origin",
          "origin",
          "origin",
          "origin",
          "origin",
          "origin",
          "origin",
          "origin",
          "origin",
          "origin",
          "origin",
          "origin",
          "origin",
          "origin",
          "origin",
          "origin",
          "origin",
          "origin",
          "origin",
          "origin",
          "origin",
          "origin",
          "origin",
          "origin",
          "origin",
          "origin",
          "origin",
          "origin",
          "origin",
          "origin",
          "origin",
          "origin",
          "origin",
          "origin",
          "origin",
          "origin",
          "origin",
          "origin",
          "origin",
          "origin",
          "origin",
          "origin",
          "origin",
          "origin",
          "origin",
          "origin",
          "origin",
          "origin",
          "origin",
          "origin",
          "origin",
          "origin",
          "origin",
          "origin",
          "origin",
          "origin",
          "origin",
          "origin",
          "origin",
          "origin",
          "origin",
          "origin",
          "origin",
          "origin",
          "origin",
          "origin",
          "origin",
          "origin",
          "origin",
          "origin",
          "origin",
          "origin",
          "origin",
          "origin",
          "origin",
          "origin",
          "origin",
          "origin",
          "origin",
          "origin",
          "origin",
          "origin",
          "origin",
          "origin",
          "origin",
          "origin",
          "origin",
          "origin",
          "origin",
          "origin",
          "origin",
          "origin",
          "origin",
          "origin",
          "origin",
          "origin",
          "origin",
          "origin",
          "origin",
          "origin",
          "origin",
          "origin",
          "origin",
          "origin",
          "origin",
          "origin",
          "origin",
          "origin",
          "origin",
          "origin",
          "origin",
          "origin",
          "origin",
          "origin",
          "origin",
          "origin",
          "origin",
          "origin",
          "origin",
          "origin",
          "origin",
          "origin",
          "origin",
          "origin",
          "origin",
          "origin",
          "origin",
          "origin",
          "origin",
          "origin",
          "origin",
          "origin",
          "origin",
          "origin",
          "origin",
          "origin",
          "origin",
          "origin",
          "origin",
          "origin",
          "origin",
          "origin",
          "origin",
          "origin",
          "origin",
          "origin",
          "origin",
          "origin",
          "origin",
          "origin",
          "origin",
          "origin",
          "origin",
          "origin",
          "origin",
          "origin",
          "origin",
          "origin",
          "origin",
          "origin",
          "origin",
          "origin",
          "origin",
          "origin",
          "origin",
          "origin",
          "origin",
          "origin",
          "origin",
          "origin",
          "origin",
          "origin",
          "origin",
          "origin",
          "origin",
          "origin",
          "origin",
          "origin",
          "origin",
          "origin",
          "origin",
          "origin",
          "origin",
          "origin",
          "origin",
          "origin",
          "origin",
          "origin",
          "origin",
          "origin",
          "origin",
          "origin",
          "origin",
          "origin",
          "origin",
          "origin",
          "origin",
          "origin",
          "origin",
          "origin",
          "origin",
          "origin",
          "origin",
          "origin",
          "origin",
          "origin",
          "origin",
          "origin",
          "origin",
          "origin",
          "origin",
          "origin",
          "origin",
          "origin",
          "origin",
          "origin",
          "origin",
          "origin",
          "origin",
          "origin",
          "origin",
          "origin",
          "origin",
          "origin",
          "origin",
          "origin",
          "origin",
          "origin",
          "origin",
          "origin",
          "origin",
          "origin",
          "origin",
          "origin",
          "origin",
          "origin",
          "origin",
          "origin",
          "origin",
          "origin",
          "origin",
          "origin",
          "origin",
          "origin",
          "origin",
          "origin",
          "origin",
          "origin",
          "origin",
          "origin",
          "origin",
          "origin",
          "origin",
          "origin",
          "origin",
          "origin",
          "origin",
          "origin",
          "origin",
          "origin",
          "origin",
          "origin",
          "origin",
          "origin",
          "origin",
          "origin",
          "origin",
          "origin",
          "origin",
          "origin",
          "origin",
          "origin",
          "origin",
          "origin",
          "origin",
          "origin",
          "origin",
          "origin",
          "origin",
          "origin",
          "origin",
          "origin",
          "origin",
          "origin",
          "origin",
          "origin",
          "origin",
          "origin",
          "origin",
          "origin",
          "origin",
          "origin",
          "origin",
          "origin",
          "origin",
          "origin",
          "origin",
          "origin",
          "origin",
          "origin",
          "origin",
          "origin",
          "origin",
          "origin",
          "origin",
          "origin",
          "origin",
          "origin",
          "origin",
          "origin",
          "origin",
          "origin",
          "origin",
          "origin",
          "origin",
          "origin",
          "origin",
          "origin",
          "origin",
          "origin",
          "origin",
          "origin",
          "origin",
          "origin",
          "origin",
          "origin",
          "origin",
          "origin",
          "origin",
          "origin",
          "origin",
          "origin",
          "origin",
          "origin",
          "origin",
          "origin",
          "origin",
          "origin",
          "origin",
          "origin",
          "origin",
          "origin",
          "origin",
          "origin",
          "origin",
          "origin",
          "origin",
          "origin",
          "origin",
          "origin",
          "origin",
          "origin",
          "origin",
          "origin",
          "origin",
          "origin",
          "origin",
          "origin",
          "origin",
          "origin",
          "origin",
          "origin",
          "origin",
          "origin",
          "origin",
          "origin",
          "origin",
          "origin",
          "origin",
          "origin",
          "origin",
          "origin",
          "origin",
          "origin",
          "origin",
          "origin",
          "origin",
          "origin",
          "origin",
          "origin",
          "origin",
          "origin",
          "origin",
          "origin",
          "origin",
          "origin",
          "origin",
          "origin",
          "origin",
          "origin",
          "origin",
          "name",
          "name",
          "name",
          "name",
          "name",
          "name",
          "name",
          "name",
          "name",
          "name",
          "name",
          "name",
          "name",
          "name",
          "name",
          "name",
          "name",
          "name",
          "name",
          "name",
          "name",
          "name",
          "name",
          "name",
          "name",
          "name",
          "name",
          "name",
          "name",
          "name",
          "name",
          "name",
          "name",
          "name",
          "name",
          "name",
          "name",
          "name",
          "name",
          "name",
          "name",
          "name",
          "name",
          "name",
          "name",
          "name",
          "name",
          "name",
          "name",
          "name",
          "name",
          "name",
          "name",
          "name",
          "name",
          "name",
          "name",
          "name",
          "name",
          "name",
          "name",
          "name",
          "name",
          "name",
          "name",
          "name",
          "name",
          "name",
          "name",
          "name",
          "name",
          "name",
          "name",
          "name",
          "name",
          "name",
          "name",
          "name",
          "name",
          "name",
          "name",
          "name",
          "name",
          "name",
          "name",
          "name",
          "name",
          "name",
          "name",
          "name",
          "name",
          "name",
          "name",
          "name",
          "name",
          "name",
          "name",
          "name",
          "name",
          "name",
          "name",
          "name",
          "name",
          "name",
          "name",
          "name",
          "name",
          "name",
          "name",
          "name",
          "name",
          "name",
          "name",
          "name",
          "name",
          "name",
          "name",
          "name",
          "name",
          "name",
          "name",
          "name",
          "name",
          "name",
          "name",
          "name",
          "name",
          "name",
          "name",
          "name",
          "name",
          "name",
          "name",
          "name",
          "name",
          "name",
          "name",
          "name",
          "name",
          "name",
          "name",
          "name",
          "name",
          "name",
          "name",
          "name",
          "name",
          "name",
          "name",
          "name",
          "name",
          "name",
          "name",
          "name",
          "name",
          "name",
          "name",
          "name",
          "name",
          "name",
          "name",
          "name",
          "name",
          "name",
          "name",
          "name",
          "name",
          "name",
          "name",
          "name",
          "name",
          "name",
          "name",
          "name",
          "name",
          "name",
          "name",
          "name",
          "name",
          "name",
          "name",
          "name",
          "name",
          "name",
          "name",
          "name",
          "name",
          "name",
          "name",
          "name",
          "name",
          "name",
          "name",
          "name",
          "name",
          "name",
          "name",
          "name",
          "name",
          "name",
          "name",
          "name",
          "name",
          "name",
          "name",
          "name",
          "name",
          "name",
          "name",
          "name",
          "name",
          "name",
          "name",
          "name",
          "name",
          "name",
          "name",
          "name",
          "name",
          "name",
          "name",
          "name",
          "name",
          "name",
          "name",
          "name",
          "name",
          "name",
          "name",
          "name",
          "name",
          "name",
          "name",
          "name",
          "name",
          "name",
          "name",
          "name",
          "name",
          "name",
          "name",
          "name",
          "name",
          "name",
          "name",
          "name",
          "name",
          "name",
          "name",
          "name",
          "name",
          "name",
          "name",
          "name",
          "name",
          "name",
          "name",
          "name",
          "name",
          "name",
          "name",
          "name",
          "name",
          "name",
          "name",
          "name",
          "name",
          "name",
          "name",
          "name",
          "name",
          "name",
          "name",
          "name",
          "name",
          "name",
          "name",
          "name",
          "name",
          "name",
          "name",
          "name",
          "name",
          "name",
          "name",
          "name",
          "name",
          "name",
          "name",
          "name",
          "name",
          "name",
          "name",
          "name",
          "name",
          "name",
          "name",
          "name",
          "name",
          "name",
          "name",
          "name",
          "name",
          "name",
          "name",
          "name",
          "name",
          "name",
          "name",
          "name",
          "name",
          "name",
          "name",
          "name",
          "name",
          "name",
          "name",
          "name",
          "name",
          "name",
          "name",
          "name",
          "name",
          "name",
          "name",
          "name",
          "name",
          "name",
          "name",
          "name",
          "name",
          "name",
          "name",
          "name",
          "name",
          "name",
          "name",
          "name",
          "name",
          "name",
          "name",
          "name",
          "name",
          "name",
          "name",
          "name",
          "name",
          "name",
          "name",
          "name",
          "name",
          "name",
          "name",
          "name",
          "name",
          "name",
          "name",
          "name",
          "name",
          "name",
          "name",
          "name",
          "name",
          "name",
          "name",
          "name",
          "name",
          "name",
          "name",
          "name",
          "name",
          "name",
          "name",
          "name",
          "name",
          "name",
          "name",
          "name",
          "name",
          "name",
          "name",
          "name",
          "name",
          "name",
          "name",
          "name",
          "name",
          "name",
          "name",
          "name",
          "name",
          "name"
         ],
         "x0": " ",
         "xaxis": "x",
         "y": [
          -0.698638408695215,
          -1.0834982403541868,
          -0.698638408695215,
          -0.9552116298011961,
          -0.8269250192482055,
          -1.0834982403541868,
          -1.2117848509071774,
          -1.2117848509071774,
          -1.2117848509071774,
          -1.0834982403541868,
          -1.0834982403541868,
          -1.2117848509071774,
          -1.0834982403541868,
          -1.2117848509071774,
          0.07108125462272846,
          -0.18549196648325267,
          -0.698638408695215,
          -0.3137785770362433,
          0.45594108628170016,
          0.3276544757287096,
          0.19936786517571903,
          0.07108125462272846,
          0.19936786517571903,
          0.3276544757287096,
          -0.3137785770362433,
          -1.7249312931191396,
          -1.7249312931191396,
          -1.596644682566149,
          -1.8532179036721301,
          0.45594108628170016,
          0.5842276968346908,
          0.19936786517571903,
          -0.5703517981422244,
          -0.9552116298011961,
          -0.8269250192482055,
          -0.5703517981422244,
          -0.698638408695215,
          -1.2117848509071774,
          -1.2117848509071774,
          -1.2117848509071774,
          -1.2117848509071774,
          -1.4683580720131586,
          -1.3400714614601679,
          -1.3400714614601679,
          -0.698638408695215,
          -0.18549196648325267,
          -0.5703517981422244,
          -0.698638408695215,
          -0.05720535593026212,
          0.5842276968346908,
          0.8408009179406719,
          0.8408009179406719,
          0.9690875284936625,
          1.4822339707056247,
          0.45594108628170016,
          0.3276544757287096,
          0.07108125462272846,
          0.19936786517571903,
          -0.05720535593026212,
          -0.44206518758923385,
          -0.3137785770362433,
          -1.3400714614601679,
          -1.2117848509071774,
          -1.0834982403541868,
          -1.2117848509071774,
          -0.8269250192482055,
          -1.596644682566149,
          -1.3400714614601679,
          -1.4683580720131586,
          -1.3400714614601679,
          -0.5703517981422244,
          -1.0834982403541868,
          -1.3400714614601679,
          -1.3400714614601679,
          -1.2117848509071774,
          -0.698638408695215,
          -0.18549196648325267,
          -0.3137785770362433,
          0.3276544757287096,
          -0.18549196648325267,
          0.5842276968346908,
          -0.05720535593026212,
          0.5842276968346908,
          0.45594108628170016,
          -1.3400714614601679,
          -1.2117848509071774,
          -1.3400714614601679,
          -1.2117848509071774,
          -1.0834982403541868,
          -1.4683580720131586,
          -1.3400714614601679,
          -1.3400714614601679,
          -1.2117848509071774,
          -1.3400714614601679,
          -1.4683580720131586,
          -1.3400714614601679,
          -0.698638408695215,
          -0.9552116298011961,
          -0.698638408695215,
          -0.698638408695215,
          -0.05720535593026212,
          0.3276544757287096,
          -1.596644682566149,
          -1.4683580720131586,
          -1.3400714614601679,
          -1.4683580720131586,
          -0.698638408695215,
          -0.44206518758923385,
          -0.3137785770362433,
          -0.18549196648325267,
          -0.698638408695215,
          -0.5703517981422244,
          -0.3137785770362433,
          0.3276544757287096,
          -1.0834982403541868,
          -0.9552116298011961,
          0.7125143073876814,
          0.07108125462272846,
          -0.44206518758923385,
          -0.5703517981422244,
          -1.0834982403541868,
          0.07108125462272846,
          -0.44206518758923385,
          -1.596644682566149,
          -0.44206518758923385,
          -0.5703517981422244,
          -1.0834982403541868,
          0.9690875284936625,
          0.3276544757287096,
          1.097374139046653,
          0.19936786517571903,
          -0.9552116298011961,
          -0.9552116298011961,
          -0.698638408695215,
          -0.9552116298011961,
          -1.3400714614601679,
          -1.2117848509071774,
          -1.2117848509071774,
          -1.2117848509071774,
          0.7125143073876814,
          0.3276544757287096,
          0.3276544757287096,
          0.9690875284936625,
          1.097374139046653,
          0.5842276968346908,
          0.07108125462272846,
          0.3276544757287096,
          0.07108125462272846,
          0.3276544757287096,
          0.9690875284936625,
          -0.5703517981422244,
          -0.698638408695215,
          -1.0834982403541868,
          -1.0834982403541868,
          -0.9552116298011961,
          -1.0834982403541868,
          -0.9552116298011961,
          -1.2117848509071774,
          -0.8269250192482055,
          -0.9552116298011961,
          -1.0834982403541868,
          -0.698638408695215,
          -0.3137785770362433,
          -0.44206518758923385,
          -1.3400714614601679,
          0.7125143073876814,
          -0.05720535593026212,
          -0.44206518758923385,
          -0.05720535593026212,
          0.07108125462272846,
          0.19936786517571903,
          0.07108125462272846,
          -0.698638408695215,
          0.7125143073876814,
          -0.5703517981422244,
          -0.05720535593026212,
          -0.05720535593026212,
          -0.18549196648325267,
          0.19936786517571903,
          1.2256607495996434,
          0.5842276968346908,
          0.19936786517571903,
          0.19936786517571903,
          0.3276544757287096,
          0.45594108628170016,
          -0.7627817139717102,
          -0.9552116298011961,
          -1.0193549350776916,
          -1.147641545630682,
          -0.18549196648325267,
          -0.18549196648325267,
          0.07108125462272846,
          -0.1213486612067574,
          0.7125143073876814,
          0.13522455989922375,
          0.7125143073876814,
          1.2256607495996434,
          -0.44206518758923385,
          -0.698638408695215,
          -0.6344951034187196,
          -0.7627817139717102,
          0.7766576126641767,
          1.097374139046653,
          0.5842276968346908,
          0.39179778100520485,
          -0.44206518758923385,
          -1.3400714614601679,
          -0.5703517981422244,
          -0.5703517981422244,
          -0.8910683245247008,
          -0.8910683245247008,
          -1.3400714614601679,
          -1.3400714614601679,
          -1.3400714614601679,
          1.0332308337701577,
          0.8408009179406719,
          1.6105205812586152,
          0.2635111704522143,
          1.289804054876139,
          -0.7627817139717102,
          -0.8269250192482055,
          -1.0193549350776916,
          -1.0834982403541868,
          -0.7627817139717102,
          -0.37792188231273854,
          -0.5703517981422244,
          -0.6344951034187196,
          -0.9552116298011961,
          -1.0193549350776916,
          -1.0193549350776916,
          -0.9552116298011961,
          0.7125143073876814,
          0.13522455989922375,
          0.3276544757287096,
          0.2635111704522143,
          0.9049442232171672,
          1.289804054876139,
          0.8408009179406719,
          0.9049442232171672,
          -0.18549196648325267,
          -0.24963527175974798,
          -0.24963527175974798,
          2.521355516184849,
          1.6233492423139144,
          1.200003427489045,
          2.046695057138783,
          1.6233492423139144,
          -0.4548938486445331,
          -0.5190371539210283,
          -0.41640786547863584,
          -0.5446944760316264,
          -0.37792188231273854,
          -0.41640786547863584,
          0.21219652623101828,
          -0.37792188231273854,
          -0.5190371539210283,
          -0.3650932212574393,
          -0.3394358991468413,
          -0.6216664423634204,
          -0.6858097476399158,
          -0.5446944760316264,
          -0.7371243918611122,
          -0.6858097476399158,
          -0.7627817139717102,
          0.8408009179406719,
          0.5200843915581955,
          0.48159840839229817,
          0.9562588674383633,
          -0.30094991598094406,
          -0.03154803381966409,
          0.045423932512130435,
          0.05825259356742922,
          -0.4035792044233366,
          -0.8269250192482055,
          -0.23680661070444872,
          -0.9295543076905981,
          1.0332308337701577,
          0.7766576126641767,
          -0.24963527175974798,
          -0.46772250969983187,
          -0.14700598331735543,
          -0.41640786547863584,
          -0.3650932212574393,
          -0.8269250192482055,
          -0.749953052916411,
          -0.8910683245247008,
          -0.672981086584617,
          -0.8397536803035047,
          -1.0193549350776916,
          -0.5446944760316264,
          -0.6344951034187196,
          1.0845454779913537,
          1.3667760212079334,
          1.5720345980927184,
          0.5072557305028963,
          0.25068250939691505,
          -0.05720535593026212,
          0.48159840839229817,
          0.05825259356742922,
          1.3796046822632326,
          1.4180906654291294,
          1.071716816936055,
          1.7772931749775027,
          0.6355423410558868,
          0.6868569852770834,
          0.43028376417110215,
          1.289804054876139,
          2.3160969393000634,
          1.8799224634198957,
          1.1102028001019522,
          1.7644645139222044,
          0.5842276968346908,
          0.3789691199499056,
          0.10956723778862573,
          -0.5575231370869251,
          1.392433343318531,
          0.8151435958300739,
          1.0075735116595597,
          1.738807191811606,
          1.1230314611572514,
          2.9703586531203157,
          0.5713990357793916,
          2.2262963119129697,
          2.675299448848437,
          2.5598414993507457,
          1.6618352254798112,
          0.8408009179406719,
          2.7137854320143346,
          1.3282900380420357,
          0.8151435958300739,
          1.1871747664337466,
          0.03259527145683119,
          1.4822339707056247,
          1.148688783267849,
          0.48159840839229817,
          0.40462644206050413,
          0.3019971536181116,
          0.006937949346233173,
          0.8408009179406719,
          2.0082090739728864,
          1.995380412917587,
          1.495062631760924,
          1.1358601222125497,
          1.738807191811606,
          1.8286078191986996,
          1.3667760212079334,
          1.4437479875397279,
          1.4052620043738302,
          0.8279722568853727,
          1.2256607495996434,
          1.3154613769867374,
          1.148688783267849,
          1.2128320885443442,
          1.046059494825457,
          0.59705635788999,
          0.9306015453277653,
          0.25068250939691505,
          0.09673857673332649,
          -0.13417732226205664,
          0.40462644206050413,
          -0.41640786547863584,
          -0.749953052916411,
          0.5842276968346908,
          0.45594108628170016,
          1.3539473601526342,
          0.9690875284936625,
          0.7125143073876814,
          0.45594108628170016,
          0.07108125462272846,
          1.6105205812586152,
          1.738807191811606,
          0.9690875284936625,
          1.8670938023645964,
          1.6105205812586152,
          1.6105205812586152,
          1.6105205812586152,
          1.3539473601526342,
          1.8670938023645964,
          1.097374139046653,
          1.8670938023645964,
          0.19936786517571903,
          1.8670938023645964,
          0.3276544757287096,
          -0.18549196648325267,
          1.097374139046653,
          1.6105205812586152,
          0.45594108628170016,
          0.45594108628170016,
          2.63681346568254,
          1.097374139046653,
          0.5842276968346908,
          0.9690875284936625,
          1.483947024779763,
          1.483947024779763,
          1.483947024779763,
          1.483947024779763,
          1.483947024779763,
          1.483947024779763,
          1.483947024779763,
          1.483947024779763,
          1.483947024779763,
          1.483947024779763,
          1.483947024779763,
          1.483947024779763,
          1.483947024779763,
          1.483947024779763,
          -0.8640135552955835,
          0.30996673474208974,
          0.30996673474208974,
          0.30996673474208974,
          -0.8640135552955835,
          -0.8640135552955835,
          -0.8640135552955835,
          -0.8640135552955835,
          -0.8640135552955835,
          -0.8640135552955835,
          0.30996673474208974,
          1.483947024779763,
          1.483947024779763,
          1.483947024779763,
          1.483947024779763,
          -0.8640135552955835,
          -0.8640135552955835,
          -0.8640135552955835,
          0.30996673474208974,
          0.30996673474208974,
          0.30996673474208974,
          0.30996673474208974,
          0.30996673474208974,
          1.483947024779763,
          1.483947024779763,
          1.483947024779763,
          1.483947024779763,
          1.483947024779763,
          1.483947024779763,
          1.483947024779763,
          0.30996673474208974,
          -0.8640135552955835,
          0.30996673474208974,
          0.30996673474208974,
          -0.8640135552955835,
          -0.8640135552955835,
          -0.8640135552955835,
          -0.8640135552955835,
          -0.8640135552955835,
          -0.8640135552955835,
          -0.8640135552955835,
          -0.8640135552955835,
          -0.8640135552955835,
          -0.8640135552955835,
          -0.8640135552955835,
          -0.8640135552955835,
          -0.8640135552955835,
          1.483947024779763,
          1.483947024779763,
          1.483947024779763,
          1.483947024779763,
          1.483947024779763,
          1.483947024779763,
          1.483947024779763,
          1.483947024779763,
          1.483947024779763,
          -1.4510037003144203,
          1.483947024779763,
          1.483947024779763,
          1.483947024779763,
          1.483947024779763,
          -0.8640135552955835,
          -0.8640135552955835,
          -0.8640135552955835,
          -0.8640135552955835,
          -0.8640135552955835,
          -0.8640135552955835,
          -0.8640135552955835,
          -0.8640135552955835,
          -0.8640135552955835,
          1.483947024779763,
          1.483947024779763,
          1.483947024779763,
          1.483947024779763,
          1.483947024779763,
          1.483947024779763,
          1.483947024779763,
          1.483947024779763,
          1.483947024779763,
          1.483947024779763,
          1.483947024779763,
          1.483947024779763,
          0.30996673474208974,
          0.30996673474208974,
          0.30996673474208974,
          0.30996673474208974,
          0.30996673474208974,
          -0.8640135552955835,
          1.483947024779763,
          1.483947024779763,
          1.483947024779763,
          1.483947024779763,
          0.30996673474208974,
          -0.8640135552955835,
          -0.8640135552955835,
          -0.8640135552955835,
          -1.4510037003144203,
          -0.8640135552955835,
          0.30996673474208974,
          -0.8640135552955835,
          1.483947024779763,
          1.483947024779763,
          -0.8640135552955835,
          -0.8640135552955835,
          -0.8640135552955835,
          -0.8640135552955835,
          1.483947024779763,
          -0.8640135552955835,
          0.30996673474208974,
          1.483947024779763,
          0.30996673474208974,
          0.30996673474208974,
          0.30996673474208974,
          -0.8640135552955835,
          -0.8640135552955835,
          -0.8640135552955835,
          -0.8640135552955835,
          0.30996673474208974,
          0.30996673474208974,
          0.30996673474208974,
          1.483947024779763,
          1.483947024779763,
          1.483947024779763,
          1.483947024779763,
          1.483947024779763,
          -0.8640135552955835,
          -0.8640135552955835,
          -0.8640135552955835,
          -0.8640135552955835,
          -0.8640135552955835,
          -0.8640135552955835,
          -0.8640135552955835,
          -0.8640135552955835,
          -0.8640135552955835,
          -0.8640135552955835,
          -0.8640135552955835,
          0.30996673474208974,
          0.30996673474208974,
          0.30996673474208974,
          0.30996673474208974,
          1.483947024779763,
          1.483947024779763,
          1.483947024779763,
          1.483947024779763,
          0.30996673474208974,
          0.30996673474208974,
          0.30996673474208974,
          0.30996673474208974,
          0.30996673474208974,
          1.483947024779763,
          1.483947024779763,
          -0.8640135552955835,
          -0.8640135552955835,
          0.30996673474208974,
          -0.8640135552955835,
          -0.8640135552955835,
          -0.8640135552955835,
          -0.8640135552955835,
          0.30996673474208974,
          -0.8640135552955835,
          0.30996673474208974,
          -0.8640135552955835,
          -0.8640135552955835,
          -0.8640135552955835,
          -0.8640135552955835,
          -0.8640135552955835,
          -0.8640135552955835,
          -0.8640135552955835,
          -0.8640135552955835,
          -0.8640135552955835,
          -0.8640135552955835,
          1.483947024779763,
          1.483947024779763,
          1.483947024779763,
          1.483947024779763,
          0.30996673474208974,
          0.30996673474208974,
          0.30996673474208974,
          0.30996673474208974,
          -0.8640135552955835,
          -0.8640135552955835,
          -0.8640135552955835,
          -0.8640135552955835,
          0.30996673474208974,
          0.30996673474208974,
          0.30996673474208974,
          0.30996673474208974,
          -0.8640135552955835,
          -0.8640135552955835,
          -0.8640135552955835,
          -0.8640135552955835,
          -0.8640135552955835,
          1.483947024779763,
          -0.8640135552955835,
          0.30996673474208974,
          0.30996673474208974,
          1.483947024779763,
          1.483947024779763,
          1.483947024779763,
          1.483947024779763,
          -0.8640135552955835,
          -0.8640135552955835,
          -0.8640135552955835,
          -0.8640135552955835,
          -0.8640135552955835,
          1.483947024779763,
          1.483947024779763,
          1.483947024779763,
          1.483947024779763,
          0.30996673474208974,
          0.30996673474208974,
          0.30996673474208974,
          0.30996673474208974,
          1.483947024779763,
          1.483947024779763,
          1.483947024779763,
          1.483947024779763,
          -0.8640135552955835,
          -0.8640135552955835,
          -0.8640135552955835,
          -0.8640135552955835,
          -0.8640135552955835,
          -0.8640135552955835,
          -0.8640135552955835,
          -0.8640135552955835,
          0.30996673474208974,
          -0.8640135552955835,
          -1.4510037003144203,
          -0.8640135552955835,
          -0.8640135552955835,
          -0.8640135552955835,
          -0.8640135552955835,
          -0.8640135552955835,
          1.483947024779763,
          1.483947024779763,
          1.483947024779763,
          0.30996673474208974,
          0.30996673474208974,
          0.30996673474208974,
          -0.8640135552955835,
          0.30996673474208974,
          0.30996673474208974,
          0.30996673474208974,
          0.30996673474208974,
          0.30996673474208974,
          0.30996673474208974,
          1.483947024779763,
          0.30996673474208974,
          1.483947024779763,
          1.483947024779763,
          -0.8640135552955835,
          -0.8640135552955835,
          -0.8640135552955835,
          -0.8640135552955835,
          -0.8640135552955835,
          -0.8640135552955835,
          -0.8640135552955835,
          -0.8640135552955835,
          -0.2770234102767469,
          0.30996673474208974,
          -0.8640135552955835,
          0.30996673474208974,
          -0.8640135552955835,
          -0.8640135552955835,
          0.30996673474208974,
          0.30996673474208974,
          -0.8640135552955835,
          0.30996673474208974,
          0.30996673474208974,
          1.483947024779763,
          1.483947024779763,
          1.483947024779763,
          1.483947024779763,
          1.483947024779763,
          1.483947024779763,
          1.483947024779763,
          1.483947024779763,
          -0.8640135552955835,
          -0.8640135552955835,
          -0.8640135552955835,
          -0.8640135552955835,
          -0.2770234102767469,
          1.483947024779763,
          -0.8640135552955835,
          1.483947024779763,
          -0.8640135552955835,
          -0.8640135552955835,
          -0.8640135552955835,
          -0.8640135552955835,
          -0.8640135552955835,
          0.30996673474208974,
          0.30996673474208974,
          -0.8640135552955835,
          -0.8640135552955835,
          -0.8640135552955835,
          -0.8640135552955835,
          -0.8640135552955835,
          -0.8640135552955835,
          -0.8640135552955835,
          -0.8640135552955835,
          0.30996673474208974,
          -0.8640135552955835,
          -0.8640135552955835,
          -0.8640135552955835,
          -0.8640135552955835,
          -0.8640135552955835,
          -0.8640135552955835,
          -0.8640135552955835,
          -0.8640135552955835,
          -0.8640135552955835,
          -0.8640135552955835,
          -0.2770234102767469,
          -0.8640135552955835,
          -0.8640135552955835,
          -0.8640135552955835,
          -0.8640135552955835,
          0.30996673474208974,
          -1.4510037003144203,
          -0.8640135552955835,
          -0.8640135552955835,
          -0.8640135552955835,
          -0.8640135552955835,
          -0.8640135552955835,
          0.30996673474208974,
          -0.8640135552955835,
          -0.8640135552955835,
          -0.8640135552955835,
          -0.8640135552955835,
          -0.8640135552955835,
          -0.8640135552955835,
          -0.8640135552955835,
          -0.8640135552955835,
          -0.8640135552955835,
          -0.8640135552955835,
          -0.8640135552955835,
          -0.8640135552955835,
          -0.8640135552955835,
          -0.8640135552955835,
          -0.8640135552955835,
          -0.8640135552955835,
          -0.8640135552955835,
          0.30996673474208974,
          0.30996673474208974,
          0.30996673474208974,
          0.30996673474208974,
          1.483947024779763,
          0.30996673474208974,
          0.30996673474208974,
          -0.8640135552955835,
          -0.8640135552955835,
          -0.8640135552955835,
          -0.8640135552955835,
          -0.8640135552955835,
          -0.8640135552955835,
          -0.8640135552955835,
          -0.8640135552955835,
          -0.8640135552955835,
          -0.8640135552955835,
          -0.8640135552955835,
          -0.8640135552955835,
          -0.8640135552955835,
          -0.8640135552955835,
          -0.8640135552955835,
          -0.8640135552955835,
          -0.8640135552955835,
          -0.8640135552955835,
          0.30996673474208974,
          0.30996673474208974,
          -0.8640135552955835,
          0.30996673474208974,
          -0.8640135552955835,
          -0.8640135552955835,
          -0.8640135552955835,
          -0.8640135552955835,
          -0.8640135552955835,
          -0.8640135552955835,
          -0.8640135552955835,
          -0.8640135552955835,
          1.077289557862118,
          1.488731690146926,
          1.1825421963535805,
          1.048584292818992,
          1.029447449456908,
          2.244637002949248,
          2.483847544975299,
          2.3498896414407104,
          2.4934159666563414,
          1.871468557388608,
          1.8044896056213138,
          1.3930474733365057,
          1.9671527741990287,
          2.4934159666563414,
          -0.7789842482600393,
          0.034331594628534814,
          0.043900016309576864,
          0.053468437990618914,
          -0.9320789951567121,
          -0.9320789951567121,
          -0.8076895133031654,
          -0.8363947783462916,
          -0.8651000433894177,
          -0.7024368748117029,
          0.043900016309576864,
          1.5844159069573467,
          1.077289557862118,
          1.1825421963535805,
          1.048584292818992,
          -0.9320789951567121,
          -0.5206368628719039,
          -0.7789842482600393,
          0.35965793178396444,
          0.2926789800166701,
          0.5318895220427214,
          0.5318895220427214,
          0.35965793178396444,
          1.488731690146926,
          1.9671527741990287,
          1.4983001118279682,
          1.1825421963535805,
          1.8044896056213138,
          1.9671527741990287,
          1.9671527741990287,
          0.6084368954910577,
          -0.5206368628719039,
          0.5318895220427214,
          0.5318895220427214,
          -0.6928684531306608,
          -0.7502789832169131,
          -1.1043105854154691,
          -1.0181947902860906,
          -1.1808579588638055,
          -1.1712895371827634,
          -0.9320789951567121,
          -0.9894895252429644,
          -0.7789842482600393,
          -0.9272947843161911,
          -0.9320789951567121,
          -0.5206368628719039,
          -0.6928684531306608,
          1.488731690146926,
          1.9671527741990287,
          1.1825421963535805,
          1.4983001118279682,
          1.048584292818992,
          2.244637002949248,
          1.488731690146926,
          1.488731690146926,
          1.9671527741990287,
          -1.1904263805448474,
          1.048584292818992,
          1.077289557862118,
          1.029447449456908,
          1.1825421963535805,
          -0.7024368748117029,
          -0.7024368748117029,
          -0.7120052964927449,
          -0.9416474168377541,
          -0.6928684531306608,
          -0.9320789951567121,
          -0.7120052964927449,
          -0.92251057347567,
          -0.9320789951567121,
          1.488731690146926,
          1.048584292818992,
          1.488731690146926,
          1.029447449456908,
          1.1825421963535805,
          2.244637002949248,
          1.9671527741990287,
          1.4983001118279682,
          1.1825421963535805,
          2.3498896414407104,
          2.4934159666563414,
          1.5844159069573467,
          0.2926789800166701,
          0.5318895220427214,
          0.35965793178396444,
          0.5318895220427214,
          0.034331594628534814,
          -0.9320789951567121,
          1.9671527741990287,
          1.9671527741990287,
          1.5844159069573467,
          1.488731690146926,
          0.35965793178396444,
          -0.9320789951567121,
          -0.5206368628719039,
          -0.8268263566652495,
          -1.1904263805448474,
          -0.6928684531306608,
          -0.3771105376562733,
          -0.92251057347567,
          1.488731690146926,
          1.9671527741990287,
          -1.2095632239069316,
          -0.7502789832169131,
          -0.7694158265789972,
          -0.7024368748117029,
          1.1825421963535805,
          -0.7024368748117029,
          -0.36754211597523123,
          1.488731690146926,
          0.034331594628534814,
          0.35965793178396444,
          0.5318895220427214,
          -1.1043105854154691,
          -0.6928684531306608,
          -1.1808579588638055,
          -0.5206368628719039,
          0.5318895220427214,
          0.6084368954910577,
          0.2926789800166701,
          1.029447449456908,
          1.488731690146926,
          1.1825421963535805,
          1.029447449456908,
          1.048584292818992,
          -0.92251057347567,
          -1.1043105854154691,
          -0.9320789951567121,
          -1.1330158504585952,
          -1.066036898691301,
          -0.9990579469240064,
          -0.9990579469240064,
          -0.7502789832169131,
          -0.7120052964927449,
          -0.8268263566652495,
          -1.1043105854154691,
          0.2926789800166701,
          0.5318895220427214,
          0.5318895220427214,
          0.5318895220427214,
          1.9671527741990287,
          1.488731690146926,
          1.1825421963535805,
          1.4983001118279682,
          0.3500895101029224,
          0.5318895220427214,
          0.6084368954910577,
          0.2926789800166701,
          0.3500895101029224,
          0.6467105822152259,
          1.029447449456908,
          -0.9320789951567121,
          -0.5206368628719039,
          0.35965793178396444,
          -0.5206368628719039,
          -0.5780473929581562,
          -0.9990579469240064,
          -0.721573718173787,
          -0.22401579075960049,
          -0.9990579469240064,
          0.35965793178396444,
          -0.7598474048979552,
          -0.7120052964927449,
          -0.7024368748117029,
          -0.7024368748117029,
          -0.9894895252429644,
          -0.8363947783462916,
          -0.7502789832169131,
          -0.5206368628719039,
          -0.92251057347567,
          -0.8938053084325439,
          1.058152714500034,
          1.1825421963535805,
          1.048584292818992,
          1.4983001118279682,
          0.2926789800166701,
          0.5318895220427214,
          0.053468437990618914,
          0.35965793178396444,
          -1.0469000553292167,
          -0.92251057347567,
          -0.9990579469240064,
          -0.9894895252429644,
          0.2926789800166701,
          0.5318895220427214,
          0.5318895220427214,
          0.6084368954910577,
          -0.9320789951567121,
          -1.0469000553292167,
          -0.9320789951567121,
          -0.5206368628719039,
          -0.6163210796823244,
          1.1825421963535805,
          -0.7120052964927449,
          -0.36754211597523123,
          -0.25272105580272664,
          1.488731690146926,
          1.488731690146926,
          1.029447449456908,
          1.1825421963535805,
          -0.92251057347567,
          -0.7981210916221234,
          -1.1043105854154691,
          -0.6928684531306608,
          -1.0469000553292167,
          1.058152714500034,
          0.6275737388531418,
          1.1825421963535805,
          1.029447449456908,
          0.5318895220427214,
          0.3500895101029224,
          0.2926789800166701,
          0.5318895220427214,
          1.9671527741990287,
          1.488731690146926,
          1.9671527741990287,
          1.4983001118279682,
          -0.9320789951567121,
          -0.4153842243804415,
          -0.9320789951567121,
          -0.5206368628719039,
          -0.92251057347567,
          -0.92251057347567,
          -0.9320789951567121,
          -0.9320789951567121,
          -0.46322633278565173,
          -0.7024368748117029,
          -1.094742163734427,
          -0.9990579469240064,
          -0.92251057347567,
          -1.113879007096511,
          -1.0469000553292167,
          -0.9894895252429644,
          0.6275737388531418,
          1.1825421963535805,
          1.029447449456908,
          0.3500895101029224,
          0.053468437990618914,
          0.053468437990618914,
          -0.5206368628719039,
          0.2926789800166701,
          0.35965793178396444,
          0.3500895101029224,
          0.053468437990618914,
          0.2926789800166701,
          0.6084368954910577,
          1.058152714500034,
          0.3500895101029224,
          1.029447449456908,
          1.1825421963535805,
          -0.92251057347567,
          -0.5780473929581562,
          -0.721573718173787,
          -0.8555316217083757,
          -0.5780473929581562,
          -0.36754211597523123,
          -0.4153842243804415,
          -0.721573718173787,
          -0.6067526580012824,
          -0.3005631642079369,
          -0.7024368748117029,
          -0.3005631642079369,
          -1.0086263686050485,
          -0.92251057347567,
          0.3500895101029224,
          0.053468437990618914,
          -0.5206368628719039,
          0.35965793178396444,
          0.2926789800166701,
          1.058152714500034,
          1.029447449456908,
          1.4983001118279682,
          1.1825421963535805,
          1.488731690146926,
          1.4983001118279682,
          0.6945526906204362,
          1.5844159069573467,
          -1.0086263686050485,
          -1.0373316336481746,
          -0.92251057347567,
          -0.7024368748117029,
          -0.10919473058709592,
          1.488731690146926,
          -0.5110684411908619,
          0.6275737388531418,
          -0.8555316217083757,
          -0.8555316217083757,
          -1.0469000553292167,
          -0.9894895252429644,
          -0.4153842243804415,
          -0.2048789473975164,
          -0.2048789473975164,
          -0.4153842243804415,
          -0.92251057347567,
          -1.0086263686050485,
          -0.92251057347567,
          -1.0373316336481746,
          -0.4153842243804415,
          -0.5206368628719039,
          -0.4153842243804415,
          0.2926789800166701,
          -0.9320789951567121,
          -0.5780473929581562,
          -0.7120052964927449,
          -0.721573718173787,
          -0.8268263566652495,
          -1.0373316336481746,
          -0.36754211597523123,
          -1.0469000553292167,
          -0.9990579469240064,
          -0.9990579469240064,
          -0.7024368748117029,
          -0.46322633278565173,
          -0.9894895252429644,
          -0.9320789951567121,
          -1.0086263686050485,
          -0.25272105580272664,
          -1.1904263805448474,
          -0.6928684531306608,
          -0.8363947783462916,
          -0.5684789712771142,
          -0.4153842243804415,
          -0.36754211597523123,
          -0.2048789473975164,
          -0.5684789712771142,
          -1.1043105854154691,
          -1.0373316336481746,
          -1.085173742053385,
          -0.9320789951567121,
          -1.0469000553292167,
          -1.0086263686050485,
          -0.9894895252429644,
          -0.8555316217083757,
          -0.92251057347567,
          -0.92251057347567,
          -0.8555316217083757,
          -0.8363947783462916,
          -0.8268263566652495,
          -0.721573718173787,
          -0.7120052964927449,
          -0.5110684411908619,
          -0.4727947544666938,
          -0.25272105580272664,
          -0.46322633278565173,
          0.3500895101029224,
          1.488731690146926,
          0.053468437990618914,
          0.2926789800166701,
          -0.7885526699410813,
          -0.7885526699410813,
          -0.7885526699410813,
          -0.7885526699410813,
          -0.5684789712771142,
          -0.4153842243804415,
          -0.5206368628719039,
          -0.8555316217083757,
          -0.9894895252429644,
          -0.9894895252429644,
          -0.8555316217083757,
          -0.92251057347567,
          -0.7120052964927449,
          -0.8363947783462916,
          -0.8268263566652495,
          -0.9894895252429644,
          -0.9894895252429644,
          -0.9894895252429644,
          -0.12833157394918,
          0.6467105822152259,
          -0.36754211597523123,
          0.35965793178396444,
          -0.48236317614773583,
          -0.5684789712771142,
          -0.4153842243804415,
          -0.5206368628719039,
          -0.9320789951567121,
          -0.5684789712771142,
          -0.7120052964927449,
          -0.721573718173787,
          0.6641327329009122,
          1.5745944730488457,
          1.184396584414017,
          1.184396584414017,
          0.9242646586574647,
          2.433029828045468,
          3.0053200647098834,
          2.8752541018316067,
          3.1353860275881598,
          2.224924287440226,
          1.7046604359271218,
          1.4445285101705692,
          1.184396584414017,
          3.1353860275881598,
          -0.246329007247021,
          -0.246329007247021,
          -0.19430262209571053,
          -0.5064609330035733,
          -0.4284213552766077,
          -1.5209754434541276,
          -0.4544345478522629,
          -0.3763949701252972,
          -0.246329007247021,
          0.22190845911477325,
          -0.3763949701252972,
          2.8752541018316067,
          2.4850562131967786,
          2.745188138953331,
          2.3029638651671918,
          -0.4284213552766077,
          -0.3763949701252972,
          -0.246329007247021,
          -0.11626304436874484,
          0.013802918509531348,
          -0.11626304436874484,
          -0.4284213552766077,
          -0.11626304436874484,
          1.5745944730488457,
          1.834726398805398,
          1.2624361621409825,
          1.184396584414017,
          1.964792361683674,
          1.7046604359271218,
          1.834726398805398,
          0.14386888138780754,
          -0.8446324364870914,
          -0.11626304436874484,
          -0.4284213552766077,
          -0.48044774042791816,
          -0.3763949701252972,
          -0.8966588216384018,
          -0.7405796661844704,
          -1.026724784516678,
          -0.9226720142140571,
          -1.1567907473949541,
          -0.8966588216384018,
          -0.246329007247021,
          -0.6365268958818495,
          -1.3128699028488855,
          -0.3763949701252972,
          -0.48044774042791816,
          1.5745944730488457,
          1.834726398805398,
          1.184396584414017,
          1.2624361621409825,
          1.184396584414017,
          2.6931617538020203,
          1.314462547292293,
          1.4445285101705692,
          2.224924287440226,
          -0.19430262209571053,
          1.184396584414017,
          0.6641327329009122,
          0.9242646586574647,
          1.184396584414017,
          0.195895266539118,
          -0.7405796661844704,
          -0.4544345478522629,
          -0.9226720142140571,
          -0.48044774042791816,
          -0.3243685849739867,
          -0.19430262209571053,
          -0.6365268958818495,
          -0.4284213552766077,
          1.834726398805398,
          1.184396584414017,
          1.0543306215357409,
          0.846225080930499,
          1.184396584414017,
          2.433029828045468,
          1.184396584414017,
          1.3925021250192589,
          1.184396584414017,
          2.8752541018316067,
          3.1353860275881598,
          1.834726398805398,
          0.013802918509531348,
          -0.11626304436874484,
          -0.11626304436874484,
          -0.4284213552766077,
          -0.246329007247021,
          -1.5209754434541276,
          1.184396584414017,
          1.626620858200156,
          1.7046604359271218,
          1.964792361683674,
          -0.11626304436874484,
          -0.4284213552766077,
          -0.8446324364870914,
          -0.27234219982267627,
          -0.3763949701252972,
          -0.5064609330035733,
          0.06582930366084182,
          -0.3763949701252972,
          1.0543306215357409,
          3.2654519904664356,
          -1.4429358657271618,
          -0.7665928587601257,
          -0.35038177754964195,
          0.195895266539118,
          1.184396584414017,
          0.14386888138780754,
          0.45602719229567035,
          1.964792361683674,
          -0.246329007247021,
          -0.11626304436874484,
          -0.11626304436874484,
          -0.9746983993653676,
          -0.6365268958818495,
          -1.026724784516678,
          -0.7665928587601257,
          -0.11626304436874484,
          0.14386888138780754,
          0.013802918509531348,
          0.9242646586574647,
          1.184396584414017,
          1.184396584414017,
          0.9242646586574647,
          1.184396584414017,
          -0.5584873181548837,
          -0.9746983993653676,
          -0.6885532810331599,
          -1.364896288000196,
          -1.1307775548192989,
          -0.7665928587601257,
          -0.7665928587601257,
          -0.7665928587601257,
          -0.19430262209571053,
          -0.2983553923983315,
          -0.9746983993653676,
          -0.246329007247021,
          0.013802918509531348,
          -0.8446324364870914,
          -0.8446324364870914,
          1.7046604359271218,
          1.0543306215357409,
          1.184396584414017,
          1.1323701992627064,
          0.14386888138780754,
          0.013802918509531348,
          0.14386888138780754,
          -0.246329007247021,
          0.14386888138780754,
          0.14386888138780754,
          0.638119540325257,
          -0.7665928587601257,
          -0.5584873181548837,
          -0.11626304436874484,
          -0.6885532810331599,
          -0.22031581467136577,
          -0.8706456290627467,
          -0.19430262209571053,
          -0.19430262209571053,
          -0.8966588216384018,
          -0.3763949701252972,
          -0.246329007247021,
          -0.4284213552766077,
          -0.16828942952005527,
          0.27393484426608367,
          -1.3388830954245408,
          -0.48044774042791816,
          -0.6105137033061943,
          -0.3243685849739867,
          -0.6625400884575047,
          -0.5584873181548837,
          0.9242646586574647,
          1.184396584414017,
          0.4040008071443599,
          1.2364229695653275,
          -0.11626304436874484,
          0.013802918509531348,
          -0.6105137033061943,
          -0.3763949701252972,
          -1.364896288000196,
          -1.1567907473949541,
          -0.8966588216384018,
          -1.3388830954245408,
          -0.11626304436874484,
          -0.6885532810331599,
          0.14386888138780754,
          -0.246329007247021,
          -0.8706456290627467,
          -0.8966588216384018,
          -0.7665928587601257,
          -0.8446324364870914,
          -0.06423665921743436,
          1.184396584414017,
          -0.4284213552766077,
          0.09184249623649705,
          0.4040008071443599,
          1.964792361683674,
          1.0543306215357409,
          0.6641327329009122,
          1.184396584414017,
          -0.9486852067897124,
          -0.6365268958818495,
          -1.2088171325462647,
          -0.22031581467136577,
          -0.8966588216384018,
          1.0543306215357409,
          0.14386888138780754,
          1.0543306215357409,
          0.6641327329009122,
          0.14386888138780754,
          0.013802918509531348,
          -0.11626304436874484,
          -0.16828942952005527,
          1.964792361683674,
          1.7046604359271218,
          2.224924287440226,
          1.1583833918383617,
          -0.6885532810331599,
          -0.4284213552766077,
          -0.7665928587601257,
          -0.4024081627009525,
          -1.0787511696679886,
          -0.5584873181548837,
          -0.9746983993653676,
          -0.6885532810331599,
          -0.19430262209571053,
          0.14386888138780754,
          0.14386888138780754,
          -1.4689490583028169,
          -1.0007115919410228,
          -1.364896288000196,
          -0.8966588216384018,
          -1.1567907473949541,
          0.14386888138780754,
          0.9242646586574647,
          0.8982514660818094,
          0.013802918509531348,
          -0.246329007247021,
          -0.5064609330035733,
          -0.4284213552766077,
          -0.11626304436874484,
          -0.3763949701252972,
          0.013802918509531348,
          -0.5064609330035733,
          0.14386888138780754,
          0.4040008071443599,
          1.0543306215357409,
          1.5745944730488457,
          0.8982514660818094,
          0.9242646586574647,
          -0.9486852067897124,
          -0.246329007247021,
          -0.19430262209571053,
          -0.7665928587601257,
          -0.246329007247021,
          0.013802918509531348,
          -0.5064609330035733,
          -0.19430262209571053,
          -0.03822346664177912,
          0.5340667700226361,
          0.27393484426608367,
          0.7421723106278779,
          -0.8706456290627467,
          -0.9486852067897124,
          0.27393484426608367,
          -0.5064609330035733,
          -0.4284213552766077,
          -0.3763949701252972,
          0.14386888138780754,
          0.6641327329009122,
          0.638119540325257,
          0.8722382735061542,
          0.7941986957791886,
          1.314462547292293,
          0.9762910438087751,
          0.5340667700226361,
          1.184396584414017,
          -0.8706456290627467,
          -1.026724784516678,
          -0.6365268958818495,
          -0.6365268958818495,
          -0.7145664736088152,
          0.5340667700226361,
          -0.8706456290627467,
          -0.3763949701252972,
          -0.8966588216384018,
          -0.8966588216384018,
          -1.026724784516678,
          -0.9226720142140571,
          -0.3763949701252972,
          0.27393484426608367,
          0.27393484426608367,
          -0.3763949701252972,
          -0.7405796661844704,
          -1.1567907473949541,
          -0.8966588216384018,
          -1.026724784516678,
          -0.3763949701252972,
          -0.4284213552766077,
          -0.3763949701252972,
          -0.3763949701252972,
          -0.6885532810331599,
          -0.3763949701252972,
          -0.7665928587601257,
          -0.3243685849739867,
          -0.7665928587601257,
          -1.026724784516678,
          0.013802918509531348,
          -1.026724784516678,
          -1.4689490583028169,
          -1.4689490583028169,
          -0.9746983993653676,
          -0.9746983993653676,
          -0.9746983993653676,
          -0.9746983993653676,
          -1.1047643622436438,
          0.7161591180522227,
          -0.11626304436874484,
          -0.4284213552766077,
          -0.8446324364870914,
          -0.5324741255792286,
          -0.5324741255792286,
          -0.3243685849739867,
          0.14386888138780754,
          -0.5324741255792286,
          -1.2088171325462647,
          -1.0527379770923333,
          -1.1567907473949541,
          -0.9746983993653676,
          -1.026724784516678,
          -1.1047643622436438,
          -0.9486852067897124,
          -1.0787511696679886,
          -1.026724784516678,
          -1.026724784516678,
          -0.792606051335781,
          -0.7665928587601257,
          -0.7665928587601257,
          -0.11626304436874484,
          -0.792606051335781,
          -0.6365268958818495,
          -0.7405796661844704,
          0.29994803684173893,
          0.4040008071443599,
          0.14386888138780754,
          0.013802918509531348,
          -0.4284213552766077,
          -0.5064609330035733,
          -0.4284213552766077,
          -0.4284213552766077,
          -0.4284213552766077,
          -0.5064609330035733,
          -0.5324741255792286,
          -0.3763949701252972,
          -0.3243685849739867,
          -0.792606051335781,
          -0.9486852067897124,
          -0.9486852067897124,
          -1.0787511696679886,
          -0.8966588216384018,
          -0.4284213552766077,
          -0.7665928587601257,
          -0.8966588216384018,
          -0.9746983993653676,
          -0.9746983993653676,
          -0.9746983993653676,
          0.14386888138780754,
          -0.5064609330035733,
          -0.3243685849739867,
          0.195895266539118,
          -0.22031581467136577,
          -0.5324741255792286,
          -0.3763949701252972,
          -0.48044774042791816,
          -1.364896288000196,
          -0.5324741255792286,
          -0.6625400884575047,
          -0.584500510730539,
          0.6205403388964199,
          0.8433340324253286,
          0.5403817613304633,
          0.5368453534966711,
          0.5557061952768962,
          1.6071981245244442,
          1.6225225584708771,
          1.5730128487977861,
          1.7062175438706257,
          1.028406042393787,
          0.6900896929609999,
          0.7443146130791469,
          0.9234926099912851,
          0.1278008473880398,
          -0.7138642170545042,
          -0.17043621326176922,
          -0.23998556732634918,
          -0.4604216556327298,
          -0.9991344489804085,
          -1.3468812193033084,
          -0.3602234336752841,
          -0.6454936656011884,
          -0.710327809220712,
          -0.8765389774089455,
          -0.3885146963456217,
          1.9301900400107985,
          1.6484562159186866,
          1.655529031586271,
          2.0681099455286946,
          -0.9991344489804085,
          -0.8411748990710235,
          -0.8836117930765299,
          -0.4050179329033186,
          0.5439181691642555,
          0.4142498819252081,
          0.3824222114210783,
          0.3659189748633814,
          1.4515961798375874,
          1.7521908457099244,
          1.3867620362180637,
          1.3183914847647478,
          2.3309829278405814,
          2.0846131820863913,
          2.549061410924434,
          -0.018370676408704552,
          -0.6714273230489979,
          0.35884615919579693,
          0.19027738578503536,
          -0.8930422139666425,
          -1.007386067259257,
          -1.0651473952111963,
          -1.0757566187125729,
          -1.4199669812016806,
          -1.6085753990039313,
          -1.3480600219145724,
          -1.2054249059516202,
          -0.8246716625133266,
          -1.003849659425465,
          -0.8529629251836642,
          -0.6714273230489979,
          -0.8859693982990581,
          1.5282183495697517,
          1.6590654394200632,
          1.3643647866040463,
          1.357291970936462,
          0.8185791775887832,
          1.9514084870135517,
          1.796985344937959,
          1.7427604248198119,
          1.7026811360368337,
          -0.7633739267275951,
          1.077915752066878,
          1.3207490899872758,
          1.551794401795033,
          1.2959942351507305,
          -0.0525559521353625,
          -0.5500106540887989,
          0.0016689679827845924,
          -0.9295850949158285,
          -0.6867517569954307,
          -0.812883636400686,
          -0.5559046671451192,
          -0.9590551601974302,
          -1.0344985273183305,
          1.323106695209804,
          0.8185791775887832,
          1.1910808027482285,
          1.2547361437564881,
          0.9423534517715102,
          2.3274465200067893,
          1.7521908457099244,
          1.6331317819722537,
          1.4846026529529812,
          2.0716463533624867,
          2.3262677173955253,
          0.9942207666671292,
          0.16905893878228215,
          0.3541309487507407,
          -0.038410320800193694,
          0.05117867765587542,
          -0.08674122786202046,
          -1.2113189190079405,
          2.3804926375136723,
          2.2732215998886423,
          1.9761633418500972,
          1.7934489371041669,
          -0.22230352815738819,
          -0.8234928599020626,
          -0.6796789413278463,
          -0.7056125987756557,
          -1.006207264647993,
          -0.7869499789528764,
          -0.5959839559280975,
          -0.8399960964597595,
          1.3018882482070508,
          1.532933560014808,
          -1.3091595357428583,
          -0.9661279758650146,
          -0.4663156686890501,
          -0.12917812186752686,
          0.49676606471369283,
          -0.37436906501045286,
          -0.20108508115463497,
          0.8091487566986707,
          0.14666168916826489,
          -0.09027763569581265,
          0.4225015002040566,
          -1.2113189190079405,
          -0.620738810764643,
          -1.3457024166920444,
          -0.5134677731396128,
          0.9470686622165665,
          0.7714270731382205,
          0.7490298235242032,
          1.3714376022716308,
          2.0292094593569803,
          1.7439392274310759,
          1.957302500069872,
          1.5081787051782625,
          -0.8942210165779065,
          -1.1959944850615079,
          -0.7987380050655171,
          -1.5661385049984249,
          -1.1488423806109451,
          -1.005028462036729,
          -1.025068106428218,
          -0.8623933460737767,
          -0.5759443115366084,
          -0.691466967440487,
          -1.1523787884447372,
          0.3376277121930437,
          0.5674942213895369,
          0.535666550885407,
          0.21267463539905265,
          1.9926665784077942,
          1.723899583039587,
          1.7922701344929028,
          1.9796997496838895,
          1.095597791235839,
          1.0838097651231984,
          0.8869497290420991,
          0.9517838726616228,
          0.07239712465862862,
          0.2869391999086888,
          0.22564146412295738,
          -0.9508035419185817,
          -0.3991239198469983,
          -0.07495320174937978,
          -0.45452764257640943,
          -0.32485935533736204,
          -0.8895058061328502,
          -0.5099313653058206,
          0.007562981039104928,
          -1.2266433529543734,
          0.2751511737960482,
          -0.3342897762274746,
          -0.02426468946502489,
          -0.038410320800193694,
          -0.36140223628654816,
          -1.3940333237538711,
          -0.6054143768182101,
          -0.8930422139666425,
          -0.4781036948016908,
          -0.8517841225724001,
          -0.9142606609693957,
          1.4586689955051717,
          1.42919893022357,
          1.1604319348553627,
          1.4586689955051717,
          0.30108483124385765,
          0.4425411445955457,
          0.040569454154498814,
          0.12662204477677574,
          -1.111120697050495,
          -0.9590551601974302,
          -1.2266433529543734,
          -1.3940333237538711,
          0.7938243227522378,
          0.7030565216849046,
          0.7867515070846534,
          0.253932726793295,
          -1.358669245415949,
          -1.164166814557378,
          -0.9696643836988068,
          -0.48635531308053925,
          0.2032442145089401,
          1.1344982774075532,
          0.34470052786062816,
          -0.0560923599691547,
          0.9930419640558651,
          1.6531714263637427,
          1.270060577702921,
          1.0519820946190686,
          0.9164197943237008,
          -1.0993326709378541,
          -0.9696643836988068,
          -1.358669245415949,
          -0.7987380050655171,
          -1.217212932064261,
          1.0637701207317092,
          1.2759545907592413,
          1.3702587996603666,
          1.5529732044062972,
          0.639401180676645,
          0.5274149326065586,
          0.7690694679156924,
          0.6452951937329653,
          1.464563008561492,
          1.3997288649419684,
          1.588337282744219,
          1.6001253088568599,
          -1.2231069451205814,
          -0.2800648561093275,
          -0.8399960964597595,
          -0.26238281694036647,
          -1.0922598552702698,
          -1.0639685925999323,
          -1.1700608276136983,
          -0.9284062923045645,
          -0.19165466026452244,
          -0.4450972216862969,
          -0.30364090833460883,
          -1.1700608276136983,
          -1.3881393106975508,
          -1.1700608276136983,
          -1.0698626056562526,
          -1.3881393106975508,
          0.45668677593071455,
          0.8928437420984194,
          0.6983413112398483,
          0.657083219845606,
          0.20913822756526043,
          -0.01483426857491235,
          -0.30364090833460883,
          0.5333089456628789,
          0.2739723711847841,
          0.47436881509967554,
          0.10894000560781471,
          0.7572814418030517,
          0.5097328934375975,
          0.5274149326065586,
          0.55099098483184,
          0.26807835812846376,
          1.2995306429845226,
          -0.9696643836988068,
          -0.4922493261368596,
          -0.7987380050655171,
          -0.8812541878540018,
          -0.5452954436437426,
          -0.27417084305300715,
          -0.14450255581395974,
          -0.67496373088279,
          -0.1739726210955614,
          0.19145618839629944,
          -0.21523071248980377,
          0.5097328934375975,
          -1.164166814557378,
          -0.9932404359240882,
          0.3152304625790265,
          0.014635796706689332,
          -0.1032444644197174,
          0.3388065148043078,
          0.4507927628743942,
          1.0166180162811465,
          0.8810557159857787,
          1.1521803165765143,
          1.0048299901685058,
          1.6295953741384614,
          1.2688817750916568,
          0.7395994026340906,
          1.1344982774075532,
          -1.2407889842895423,
          -1.181848853726339,
          -1.252577010402183,
          -0.36258103889781224,
          0.6511892067892856,
          1.0873461729569904,
          0.25039631895950276,
          0.5215209195502383,
          -0.9166182661919238,
          -0.9755583967551272,
          -1.128802736219456,
          -0.9991344489804085,
          -0.36258103889781224,
          -0.45099123474261726,
          -0.3272169605598902,
          -0.49696453658191586,
          -0.9826312124227116,
          -1.1901004720051875,
          -1.0109224750930492,
          -1.12998153883072,
          -0.35315061800769965,
          -0.12682051664499874,
          0.029960230653122207,
          0.4755476177109396,
          -0.9307638975270927,
          -0.31425013183598544,
          -0.5134677731396128,
          -0.6407784551561321,
          -0.8399960964597595,
          -1.0227105012056898,
          -0.20933669943348343,
          -1.0227105012056898,
          -1.0521805664872916,
          -0.7574799136712748,
          -0.03251630774387335,
          0.3211244756353468,
          -1.3291991801343475,
          -0.9814524098114475,
          -1.3350931931906678,
          -0.07966841219443606,
          -0.657281691713829,
          -0.5629774828127037,
          -0.8105260311781578,
          -0.5747655089253443,
          -0.40383913029205454,
          -0.4215211694610156,
          -0.2977468952782885,
          -0.6985397831080714,
          -1.4411854282044338,
          -1.2997291148527457,
          -1.4352914151481133,
          -1.0757566187125729,
          -1.181848853726339,
          -1.0934386578815338,
          -1.1700608276136983,
          -0.8989362270229628,
          -1.0993326709378541,
          -0.7044337961643917,
          -0.9284062923045645,
          -0.9048302400792831,
          -0.7397978745023137,
          -0.4274151825173359,
          -0.40383913029205454,
          0.29754842341006543,
          0.21503224062158077,
          -0.09145643830707673,
          -0.0560923599691547,
          0.5156269064939178,
          0.8810557159857787,
          0.09715197949517404,
          0.5745670370571213,
          -0.4392032086299766,
          -0.3979451172357342,
          -0.6867517569954307,
          -0.4745672869678986,
          -0.533507417531102,
          -0.28595886916564783,
          -0.13271452970131906,
          -1.1759548406700187,
          -1.1229087231631356,
          -1.1877428667826593,
          -1.005028462036729,
          -1.005028462036729,
          -0.9637703706424865,
          -0.9107242531356035,
          -0.8635721486850408,
          -1.1936368798389796,
          -1.1936368798389796,
          -1.1582728015010577,
          -0.038410320800193694,
          0.044105861988291015,
          -0.46277926085525795,
          -0.16807860803924107,
          -0.36847505195413255,
          -0.7162218222770323,
          -0.03251630774387335,
          -0.2211247255461241,
          -0.9991344489804085,
          -0.8046320181218375,
          -0.4156271564046952,
          -0.30364090833460883,
          -1.2852580033591914,
          -1.4667236197389648,
          -1.6481892361187385,
          -1.2852580033591914,
          -1.829654852498512,
          -2.011120468878285,
          -2.3740517016378324,
          -2.5555173180176056,
          -2.011120468878285,
          -2.5555173180176056,
          -2.011120468878285,
          -2.7369829343973793,
          -2.1925860852580588,
          -2.011120468878285,
          -0.19646430508055066,
          -0.014998688700777186,
          -0.014998688700777186,
          0.16646692767899626,
          -0.3779299214603241,
          1.7996574750969574,
          0.7108637768183167,
          -0.3779299214603241,
          0.7108637768183167,
          -1.103792386979418,
          -0.19646430508055066,
          -0.5593955378400975,
          -0.19646430508055066,
          -0.7408611542198711,
          1.0737950095778637,
          -0.3779299214603241,
          -0.014998688700777186,
          -0.5593955378400975,
          -0.9223267705996445,
          -0.014998688700777186,
          -0.014998688700777186,
          -0.014998688700777186,
          -0.014998688700777186,
          -1.2852580033591914,
          -1.4667236197389648,
          -0.7408611542198711,
          -0.9223267705996445,
          -1.4667236197389648,
          -1.2852580033591914,
          -1.2852580033591914,
          -0.7408611542198711,
          1.255260625957637,
          -0.19646430508055066,
          -0.3779299214603241,
          -0.5593955378400975,
          -0.5593955378400975,
          1.4367262423374105,
          -0.3779299214603241,
          1.255260625957637,
          0.8923293931980901,
          1.255260625957637,
          1.7996574750969574,
          -0.014998688700777186,
          0.5293981604385432,
          2.888451173375598,
          1.4367262423374105,
          0.3479325440587697,
          -1.2852580033591914,
          -1.2852580033591914,
          -0.7408611542198711,
          -0.9223267705996445,
          -1.4667236197389648,
          -1.6481892361187385,
          -0.7408611542198711,
          -0.7408611542198711,
          -1.103792386979418,
          -0.7408611542198711,
          -1.103792386979418,
          -0.5593955378400975,
          0.16646692767899626,
          -0.5593955378400975,
          -0.3779299214603241,
          0.8923293931980901,
          1.4367262423374105,
          0.8923293931980901,
          0.16646692767899626,
          0.5293981604385432,
          -0.3779299214603241,
          -0.19646430508055066,
          0.3479325440587697,
          -0.9223267705996445,
          -1.4667236197389648,
          -0.9223267705996445,
          -0.3779299214603241,
          -1.103792386979418,
          -1.4667236197389648,
          -1.2852580033591914,
          -0.9223267705996445,
          -0.3779299214603241,
          -1.6481892361187385,
          -1.6481892361187385,
          -1.6481892361187385,
          0.3479325440587697,
          0.8923293931980901,
          0.16646692767899626,
          0.3479325440587697,
          0.16646692767899626,
          1.9811230914767308,
          -0.5593955378400975,
          -1.103792386979418,
          -0.9223267705996445,
          -1.103792386979418,
          -0.19646430508055066,
          1.255260625957637,
          1.4367262423374105,
          0.3479325440587697,
          -0.7408611542198711,
          1.0737950095778637,
          -0.5593955378400975,
          -0.014998688700777186,
          -0.9223267705996445,
          -2.1925860852580588,
          1.4367262423374105,
          -0.014998688700777186,
          -0.5593955378400975,
          -0.014998688700777186,
          -1.6481892361187385,
          -0.5593955378400975,
          -0.7408611542198711,
          -1.6481892361187385,
          0.3479325440587697,
          0.16646692767899626,
          0.5293981604385432,
          1.255260625957637,
          0.3479325440587697,
          1.9811230914767308,
          0.5293981604385432,
          0.5293981604385432,
          0.8923293931980901,
          0.3479325440587697,
          -0.5593955378400975,
          -0.3779299214603241,
          -0.7408611542198711,
          0.16646692767899626,
          -0.014998688700777186,
          0.3479325440587697,
          -0.014998688700777186,
          -0.3779299214603241,
          0.3479325440587697,
          1.255260625957637,
          -0.3779299214603241,
          -0.014998688700777186,
          -0.5593955378400975,
          -0.19646430508055066,
          -0.014998688700777186,
          0.16646692767899626,
          0.16646692767899626,
          0.16646692767899626,
          1.9811230914767308,
          1.4367262423374105,
          -1.4667236197389648,
          -0.5593955378400975,
          -0.3779299214603241,
          -0.7408611542198711,
          1.9811230914767308,
          1.0737950095778637,
          1.255260625957637,
          1.255260625957637,
          -0.19646430508055066,
          -0.7408611542198711,
          -1.2852580033591914,
          0.16646692767899626,
          0.5293981604385432,
          0.16646692767899626,
          1.0737950095778637,
          -0.7408611542198711,
          0.3479325440587697,
          0.5293981604385432,
          -0.3779299214603241,
          -0.5593955378400975,
          0.5293981604385432,
          -0.19646430508055066,
          0.5293981604385432,
          -0.3779299214603241,
          -0.7408611542198711,
          0.7108637768183167,
          -0.014998688700777186,
          0.49310503716258797,
          -0.23275742835650523,
          0.7834500233702257,
          -0.0875849352526863,
          -0.9223267705996445,
          -0.9223267705996445,
          -0.5956886611160521,
          -0.9949130171515537,
          -0.05129181197673175,
          -0.3779299214603241,
          0.7471569000942718,
          0.7471569000942718,
          2.416640570788187,
          2.380347447512233,
          -0.48680929128818845,
          0.6745706535423615,
          0.7834500233702257,
          1.9811230914767308,
          0.23905317423090539,
          0.819743146646181,
          -1.2126717568072822,
          0.5293981604385432,
          0.31163942078281454,
          -0.7045680309439165,
          0.05758755785113194,
          -0.8497405240477354,
          2.307761200960323,
          -0.014998688700777186,
          0.42051879061067887,
          -1.248964880083237,
          -1.2852580033591914,
          -0.19646430508055066,
          -0.5593955378400975,
          1.0737950095778637,
          -0.2690505516324598,
          1.1100881328538188,
          -0.014998688700777186,
          0.45681191388663406,
          -1.103792386979418,
          1.255260625957637,
          -0.6682749076679619,
          -0.23275742835650523,
          0.31163942078281454,
          0.49310503716258797,
          0.7834500233702257,
          1.255260625957637,
          -1.6118961128427838,
          -1.5030167430149195,
          -1.2126717568072822,
          -0.3779299214603241,
          -0.3779299214603241,
          0.16646692767899626,
          0.9649156397499993,
          0.09388068112708715,
          0.5293981604385432,
          0.13017380440304172,
          0.31163942078281454,
          -0.523102414564143,
          -0.3779299214603241,
          -0.9949130171515537,
          -0.7408611542198711,
          2.1625887078565045,
          -0.4142230447362787,
          1.4004331190614554,
          1.1100881328538188,
          0.31163942078281454,
          -0.014998688700777186,
          -0.8497405240477354,
          -0.9949130171515537,
          1.3278468725095462,
          0.9649156397499993,
          0.09388068112708715,
          -0.05129181197673175,
          0.6019844069904523,
          0.6019844069904523,
          0.09388068112708715,
          0.42051879061067887,
          1.1463812561297728,
          -0.16017118180459608,
          -0.8497405240477354,
          -0.7771542774958257,
          -1.5756029895668293,
          -0.6682749076679619,
          0.3479325440587697,
          -0.48680929128818845,
          -0.305343674908415,
          -0.3779299214603241,
          -0.2690505516324598,
          0.42051879061067887,
          0.7471569000942718,
          -0.23275742835650523,
          0.13017380440304172,
          -0.7045680309439165,
          0.05758755785113194,
          0.09388068112708715,
          -0.23275742835650523,
          0.38422566733472496,
          -0.05129181197673175,
          0.9649156397499993,
          0.6382775302664075,
          0.9649156397499993,
          0.38422566733472496,
          -0.05129181197673175,
          -0.7771542774958257,
          -0.8497405240477354,
          -0.12387805852864152,
          -0.23275742835650523,
          -0.45051616801223326,
          -0.19646430508055066,
          -0.9223267705996445,
          -0.5593955378400975,
          -0.12387805852864152,
          -0.4142230447362787,
          -0.19646430508055066,
          1.654484981993139,
          0.6745706535423615,
          3.3602617759630093,
          2.416640570788187,
          -0.8497405240477354,
          -0.23275742835650523,
          1.3278468725095462,
          -0.305343674908415,
          0.16646692767899626,
          -1.539309866290874,
          -0.9586198938755991,
          -0.8497405240477354,
          -0.305343674908415,
          1.182674379405728,
          -0.014998688700777186,
          0.31163942078281454,
          0.3479325440587697,
          0.9286225164740454,
          1.654484981993139,
          1.1463812561297728,
          0.09388068112708715,
          -0.014998688700777186,
          0.7108637768183167,
          -0.19646430508055066,
          -0.12387805852864152,
          0.8560362699221349,
          -0.4142230447362787,
          1.3278468725095462,
          2.2351749544084134,
          2.961037419927507,
          1.5818987354412288,
          2.2714680776843688,
          -0.6319817843920067,
          0.8923293931980901,
          -0.0875849352526863,
          -1.5030167430149195,
          -1.103792386979418,
          -0.16017118180459608,
          0.5293981604385432,
          0.05758755785113194,
          0.31163942078281454,
          -0.4142230447362787,
          -1.0674992637034635,
          -0.9586198938755991,
          0.49310503716258797,
          0.31163942078281454,
          0.20276005095495148,
          0.819743146646181,
          1.4004331190614554,
          0.6382775302664075,
          0.16646692767899626,
          -0.23275742835650523,
          0.23905317423090539,
          1.8722437216488665,
          -0.48680929128818845,
          -0.4142230447362787,
          0.45681191388663406,
          -0.2690505516324598,
          1.0012087630259545,
          1.7633643518210023,
          1.4730193656133657,
          -1.0674992637034635,
          -0.6319817843920067,
          0.09388068112708715,
          1.255260625957637,
          0.5656912837144984,
          0.38422566733472496,
          1.4730193656133657,
          1.1100881328538188,
          0.8923293931980901,
          0.23905317423090539,
          0.16646692767899626,
          0.8923293931980901,
          0.31163942078281454,
          -0.0875849352526863,
          0.9649156397499993,
          0.7471569000942718,
          -0.305343674908415,
          0.6382775302664075,
          -0.3779299214603241,
          -0.3779299214603241,
          0.49310503716258797,
          -0.19646430508055066,
          0.05758755785113194,
          0.23905317423090539,
          0.31163942078281454,
          0.5293981604385432,
          -0.3779299214603241,
          -0.305343674908415,
          -0.5956886611160521,
          -0.9223267705996445,
          0.6382775302664075,
          0.02129443457517738,
          3.2876755294111004,
          -1.4304304964630103,
          1.1100881328538188,
          1.4004331190614554,
          -1.6253153340187558,
          -1.6253153340187558,
          -1.6253153340187558,
          -1.6253153340187558,
          -1.6253153340187558,
          -1.6253153340187558,
          -1.6253153340187558,
          -1.6253153340187558,
          -1.6253153340187558,
          -1.6253153340187558,
          -1.6253153340187558,
          -1.6253153340187558,
          -1.6253153340187558,
          -1.6253153340187558,
          -1.6253153340187558,
          -1.6253153340187558,
          -1.6253153340187558,
          -1.6253153340187558,
          -1.6253153340187558,
          -1.6253153340187558,
          -1.6253153340187558,
          -1.6253153340187558,
          -1.6253153340187558,
          -1.6253153340187558,
          -1.6253153340187558,
          -1.6253153340187558,
          -1.6253153340187558,
          -1.6253153340187558,
          -1.6253153340187558,
          -1.3535049197971891,
          -1.3535049197971891,
          -1.3535049197971891,
          -1.3535049197971891,
          -1.3535049197971891,
          -1.3535049197971891,
          -1.3535049197971891,
          -1.3535049197971891,
          -1.3535049197971891,
          -1.3535049197971891,
          -1.3535049197971891,
          -1.3535049197971891,
          -1.3535049197971891,
          -1.3535049197971891,
          -1.3535049197971891,
          -1.3535049197971891,
          -1.3535049197971891,
          -1.3535049197971891,
          -1.3535049197971891,
          -1.3535049197971891,
          -1.3535049197971891,
          -1.3535049197971891,
          -1.3535049197971891,
          -1.3535049197971891,
          -1.3535049197971891,
          -1.3535049197971891,
          -1.3535049197971891,
          -1.0816945055756226,
          -1.0816945055756226,
          -1.0816945055756226,
          -1.0816945055756226,
          -1.0816945055756226,
          -1.0816945055756226,
          -1.0816945055756226,
          -1.0816945055756226,
          -1.0816945055756226,
          -1.0816945055756226,
          -1.0816945055756226,
          -1.0816945055756226,
          -1.0816945055756226,
          -1.0816945055756226,
          -1.0816945055756226,
          -1.0816945055756226,
          -1.0816945055756226,
          -1.0816945055756226,
          -1.0816945055756226,
          -1.0816945055756226,
          -1.0816945055756226,
          -1.0816945055756226,
          -1.0816945055756226,
          -1.0816945055756226,
          -1.0816945055756226,
          -1.0816945055756226,
          -1.0816945055756226,
          -1.0816945055756226,
          -0.8098840913540559,
          -0.8098840913540559,
          -0.8098840913540559,
          -0.8098840913540559,
          -0.8098840913540559,
          -0.8098840913540559,
          -0.8098840913540559,
          -0.8098840913540559,
          -0.8098840913540559,
          -0.8098840913540559,
          -0.8098840913540559,
          -0.8098840913540559,
          -0.8098840913540559,
          -0.8098840913540559,
          -0.8098840913540559,
          -0.8098840913540559,
          -0.8098840913540559,
          -0.8098840913540559,
          -0.8098840913540559,
          -0.8098840913540559,
          -0.8098840913540559,
          -0.8098840913540559,
          -0.8098840913540559,
          -0.8098840913540559,
          -0.8098840913540559,
          -0.8098840913540559,
          -0.8098840913540559,
          -0.8098840913540559,
          -0.8098840913540559,
          -0.8098840913540559,
          -0.8098840913540559,
          -0.8098840913540559,
          -0.8098840913540559,
          -0.8098840913540559,
          -0.8098840913540559,
          -0.8098840913540559,
          -0.8098840913540559,
          -0.8098840913540559,
          -0.8098840913540559,
          -0.8098840913540559,
          -0.5380736771324892,
          -0.5380736771324892,
          -0.5380736771324892,
          -0.5380736771324892,
          -0.5380736771324892,
          -0.5380736771324892,
          -0.5380736771324892,
          -0.5380736771324892,
          -0.5380736771324892,
          -0.5380736771324892,
          -0.5380736771324892,
          -0.5380736771324892,
          -0.5380736771324892,
          -0.5380736771324892,
          -0.5380736771324892,
          -0.5380736771324892,
          -0.5380736771324892,
          -0.5380736771324892,
          -0.5380736771324892,
          -0.5380736771324892,
          -0.5380736771324892,
          -0.5380736771324892,
          -0.5380736771324892,
          -0.5380736771324892,
          -0.5380736771324892,
          -0.5380736771324892,
          -0.26626326291092256,
          -0.26626326291092256,
          -0.26626326291092256,
          -0.26626326291092256,
          -0.26626326291092256,
          -0.26626326291092256,
          -0.26626326291092256,
          -0.26626326291092256,
          -0.26626326291092256,
          -0.26626326291092256,
          -0.26626326291092256,
          -0.26626326291092256,
          -0.26626326291092256,
          -0.26626326291092256,
          -0.26626326291092256,
          -0.26626326291092256,
          -0.26626326291092256,
          -0.26626326291092256,
          -0.26626326291092256,
          -0.26626326291092256,
          -0.26626326291092256,
          -0.26626326291092256,
          -0.26626326291092256,
          -0.26626326291092256,
          -0.26626326291092256,
          -0.26626326291092256,
          -0.26626326291092256,
          -0.26626326291092256,
          -0.26626326291092256,
          -0.26626326291092256,
          0.005547151310644116,
          0.005547151310644116,
          0.005547151310644116,
          0.005547151310644116,
          0.005547151310644116,
          0.005547151310644116,
          0.005547151310644116,
          0.005547151310644116,
          0.005547151310644116,
          0.005547151310644116,
          0.005547151310644116,
          0.005547151310644116,
          0.005547151310644116,
          0.005547151310644116,
          0.005547151310644116,
          0.005547151310644116,
          0.005547151310644116,
          0.005547151310644116,
          0.005547151310644116,
          0.005547151310644116,
          0.005547151310644116,
          0.005547151310644116,
          0.005547151310644116,
          0.005547151310644116,
          0.005547151310644116,
          0.005547151310644116,
          0.005547151310644116,
          0.005547151310644116,
          0.005547151310644116,
          0.005547151310644116,
          0.005547151310644116,
          0.005547151310644116,
          0.005547151310644116,
          0.005547151310644116,
          0.2773575655322108,
          0.2773575655322108,
          0.2773575655322108,
          0.2773575655322108,
          0.2773575655322108,
          0.2773575655322108,
          0.2773575655322108,
          0.2773575655322108,
          0.2773575655322108,
          0.2773575655322108,
          0.2773575655322108,
          0.2773575655322108,
          0.2773575655322108,
          0.2773575655322108,
          0.2773575655322108,
          0.2773575655322108,
          0.2773575655322108,
          0.2773575655322108,
          0.2773575655322108,
          0.2773575655322108,
          0.2773575655322108,
          0.2773575655322108,
          0.2773575655322108,
          0.2773575655322108,
          0.2773575655322108,
          0.2773575655322108,
          0.2773575655322108,
          0.2773575655322108,
          0.5491679797537774,
          0.5491679797537774,
          0.5491679797537774,
          0.5491679797537774,
          0.5491679797537774,
          0.5491679797537774,
          0.5491679797537774,
          0.5491679797537774,
          0.5491679797537774,
          0.5491679797537774,
          0.5491679797537774,
          0.5491679797537774,
          0.5491679797537774,
          0.5491679797537774,
          0.5491679797537774,
          0.5491679797537774,
          0.5491679797537774,
          0.5491679797537774,
          0.5491679797537774,
          0.5491679797537774,
          0.5491679797537774,
          0.5491679797537774,
          0.5491679797537774,
          0.5491679797537774,
          0.5491679797537774,
          0.5491679797537774,
          0.5491679797537774,
          0.5491679797537774,
          0.5491679797537774,
          0.5491679797537774,
          0.5491679797537774,
          0.5491679797537774,
          0.5491679797537774,
          0.5491679797537774,
          0.5491679797537774,
          0.5491679797537774,
          0.820978393975344,
          0.820978393975344,
          0.820978393975344,
          0.820978393975344,
          0.820978393975344,
          0.820978393975344,
          0.820978393975344,
          0.820978393975344,
          0.820978393975344,
          0.820978393975344,
          0.820978393975344,
          0.820978393975344,
          0.820978393975344,
          0.820978393975344,
          0.820978393975344,
          0.820978393975344,
          0.820978393975344,
          0.820978393975344,
          0.820978393975344,
          0.820978393975344,
          0.820978393975344,
          0.820978393975344,
          0.820978393975344,
          0.820978393975344,
          0.820978393975344,
          0.820978393975344,
          0.820978393975344,
          0.820978393975344,
          0.820978393975344,
          1.0927888081969106,
          1.0927888081969106,
          1.0927888081969106,
          1.0927888081969106,
          1.0927888081969106,
          1.0927888081969106,
          1.0927888081969106,
          1.0927888081969106,
          1.0927888081969106,
          1.0927888081969106,
          1.0927888081969106,
          1.0927888081969106,
          1.0927888081969106,
          1.0927888081969106,
          1.0927888081969106,
          1.0927888081969106,
          1.0927888081969106,
          1.0927888081969106,
          1.0927888081969106,
          1.0927888081969106,
          1.0927888081969106,
          1.0927888081969106,
          1.0927888081969106,
          1.0927888081969106,
          1.0927888081969106,
          1.0927888081969106,
          1.0927888081969106,
          1.3645992224184773,
          1.3645992224184773,
          1.3645992224184773,
          1.3645992224184773,
          1.3645992224184773,
          1.3645992224184773,
          1.3645992224184773,
          1.3645992224184773,
          1.3645992224184773,
          1.3645992224184773,
          1.3645992224184773,
          1.3645992224184773,
          1.3645992224184773,
          1.3645992224184773,
          1.3645992224184773,
          1.3645992224184773,
          1.3645992224184773,
          1.3645992224184773,
          1.3645992224184773,
          1.3645992224184773,
          1.3645992224184773,
          1.3645992224184773,
          1.3645992224184773,
          1.3645992224184773,
          1.3645992224184773,
          1.3645992224184773,
          1.3645992224184773,
          1.3645992224184773,
          1.636409636640044,
          1.636409636640044,
          1.636409636640044,
          1.636409636640044,
          1.636409636640044,
          1.636409636640044,
          1.636409636640044,
          1.636409636640044,
          1.636409636640044,
          1.636409636640044,
          1.636409636640044,
          1.636409636640044,
          1.636409636640044,
          1.636409636640044,
          1.636409636640044,
          1.636409636640044,
          1.636409636640044,
          1.636409636640044,
          1.636409636640044,
          1.636409636640044,
          1.636409636640044,
          1.636409636640044,
          1.636409636640044,
          1.636409636640044,
          1.636409636640044,
          1.636409636640044,
          1.636409636640044,
          1.636409636640044,
          1.636409636640044,
          1.636409636640044,
          0.7112852082509942,
          0.7112852082509942,
          0.7112852082509942,
          0.7112852082509942,
          0.7112852082509942,
          0.7112852082509942,
          0.7112852082509942,
          0.7112852082509942,
          0.7112852082509942,
          0.7112852082509942,
          0.7112852082509942,
          0.7112852082509942,
          0.7112852082509942,
          0.7112852082509942,
          -0.5855696830717487,
          0.7112852082509942,
          0.7112852082509942,
          0.7112852082509942,
          -0.5855696830717487,
          -1.8824245743944918,
          -1.8824245743944918,
          -1.8824245743944918,
          -1.8824245743944918,
          -1.8824245743944918,
          0.7112852082509942,
          0.7112852082509942,
          0.7112852082509942,
          0.7112852082509942,
          0.7112852082509942,
          -0.5855696830717487,
          0.7112852082509942,
          -0.5855696830717487,
          0.7112852082509942,
          0.7112852082509942,
          0.7112852082509942,
          0.7112852082509942,
          0.7112852082509942,
          0.7112852082509942,
          0.7112852082509942,
          0.7112852082509942,
          0.7112852082509942,
          0.7112852082509942,
          0.7112852082509942,
          0.7112852082509942,
          0.7112852082509942,
          0.7112852082509942,
          0.7112852082509942,
          0.7112852082509942,
          0.7112852082509942,
          -1.8824245743944918,
          -1.8824245743944918,
          -1.8824245743944918,
          -0.5855696830717487,
          -0.5855696830717487,
          -1.8824245743944918,
          0.7112852082509942,
          -0.5855696830717487,
          0.7112852082509942,
          -1.8824245743944918,
          0.7112852082509942,
          0.7112852082509942,
          0.7112852082509942,
          0.7112852082509942,
          0.7112852082509942,
          0.7112852082509942,
          0.7112852082509942,
          0.7112852082509942,
          0.7112852082509942,
          0.7112852082509942,
          0.7112852082509942,
          -0.5855696830717487,
          0.7112852082509942,
          0.7112852082509942,
          0.7112852082509942,
          0.7112852082509942,
          -1.8824245743944918,
          -1.8824245743944918,
          -1.8824245743944918,
          -1.8824245743944918,
          0.7112852082509942,
          -0.5855696830717487,
          -0.5855696830717487,
          0.7112852082509942,
          -0.5855696830717487,
          0.7112852082509942,
          0.7112852082509942,
          0.7112852082509942,
          0.7112852082509942,
          0.7112852082509942,
          0.7112852082509942,
          0.7112852082509942,
          0.7112852082509942,
          0.7112852082509942,
          0.7112852082509942,
          0.7112852082509942,
          0.7112852082509942,
          0.7112852082509942,
          0.7112852082509942,
          0.7112852082509942,
          0.7112852082509942,
          0.7112852082509942,
          -1.8824245743944918,
          0.7112852082509942,
          0.7112852082509942,
          0.7112852082509942,
          0.7112852082509942,
          0.7112852082509942,
          -0.5855696830717487,
          0.7112852082509942,
          -0.5855696830717487,
          -0.5855696830717487,
          0.7112852082509942,
          0.7112852082509942,
          -1.8824245743944918,
          0.7112852082509942,
          0.7112852082509942,
          -1.8824245743944918,
          -1.8824245743944918,
          -1.8824245743944918,
          -1.8824245743944918,
          0.7112852082509942,
          -1.8824245743944918,
          -0.5855696830717487,
          0.7112852082509942,
          0.7112852082509942,
          0.7112852082509942,
          0.7112852082509942,
          -0.5855696830717487,
          0.7112852082509942,
          -0.5855696830717487,
          0.7112852082509942,
          0.7112852082509942,
          0.7112852082509942,
          0.7112852082509942,
          0.7112852082509942,
          0.7112852082509942,
          0.7112852082509942,
          0.7112852082509942,
          0.7112852082509942,
          -1.8824245743944918,
          -1.8824245743944918,
          -1.8824245743944918,
          -0.5855696830717487,
          -0.5855696830717487,
          0.7112852082509942,
          -1.8824245743944918,
          -1.8824245743944918,
          -0.5855696830717487,
          -0.5855696830717487,
          -1.8824245743944918,
          0.7112852082509942,
          0.7112852082509942,
          0.7112852082509942,
          0.7112852082509942,
          0.7112852082509942,
          0.7112852082509942,
          0.7112852082509942,
          0.7112852082509942,
          0.7112852082509942,
          0.7112852082509942,
          0.7112852082509942,
          0.7112852082509942,
          0.7112852082509942,
          0.7112852082509942,
          0.7112852082509942,
          -0.5855696830717487,
          0.7112852082509942,
          0.7112852082509942,
          0.7112852082509942,
          -0.5855696830717487,
          -1.8824245743944918,
          -0.5855696830717487,
          0.7112852082509942,
          -1.8824245743944918,
          0.7112852082509942,
          -1.8824245743944918,
          -1.8824245743944918,
          -1.8824245743944918,
          -1.8824245743944918,
          -0.5855696830717487,
          -1.8824245743944918,
          -1.8824245743944918,
          0.7112852082509942,
          0.7112852082509942,
          -1.8824245743944918,
          0.7112852082509942,
          0.7112852082509942,
          0.7112852082509942,
          0.7112852082509942,
          0.7112852082509942,
          0.7112852082509942,
          0.7112852082509942,
          0.7112852082509942,
          0.7112852082509942,
          0.7112852082509942,
          -1.8824245743944918,
          -0.5855696830717487,
          0.7112852082509942,
          0.7112852082509942,
          0.7112852082509942,
          0.7112852082509942,
          -1.8824245743944918,
          -0.5855696830717487,
          -0.5855696830717487,
          0.7112852082509942,
          -1.8824245743944918,
          0.7112852082509942,
          -1.8824245743944918,
          -0.5855696830717487,
          -1.8824245743944918,
          0.7112852082509942,
          0.7112852082509942,
          0.7112852082509942,
          0.7112852082509942,
          -0.5855696830717487,
          0.7112852082509942,
          -1.8824245743944918,
          0.7112852082509942,
          -0.5855696830717487,
          0.7112852082509942,
          0.7112852082509942,
          0.7112852082509942,
          0.7112852082509942,
          0.7112852082509942,
          0.7112852082509942,
          0.7112852082509942,
          0.7112852082509942,
          0.7112852082509942,
          0.7112852082509942,
          0.7112852082509942,
          0.7112852082509942,
          -1.8824245743944918,
          0.7112852082509942,
          -0.5855696830717487,
          0.7112852082509942,
          0.7112852082509942,
          0.7112852082509942,
          -0.5855696830717487,
          -1.8824245743944918,
          -0.5855696830717487,
          -1.8824245743944918,
          -0.5855696830717487,
          -1.8824245743944918,
          0.7112852082509942,
          -0.5855696830717487,
          -0.5855696830717487,
          -0.5855696830717487,
          0.7112852082509942,
          0.7112852082509942,
          0.7112852082509942,
          0.7112852082509942,
          0.7112852082509942,
          0.7112852082509942,
          0.7112852082509942,
          0.7112852082509942,
          0.7112852082509942,
          0.7112852082509942,
          0.7112852082509942,
          0.7112852082509942,
          0.7112852082509942,
          0.7112852082509942,
          0.7112852082509942,
          0.7112852082509942,
          0.7112852082509942,
          0.7112852082509942,
          -0.5855696830717487,
          -0.5855696830717487,
          0.7112852082509942,
          -0.5855696830717487,
          0.7112852082509942,
          0.7112852082509942,
          -0.5855696830717487,
          -1.8824245743944918,
          -1.8824245743944918,
          -1.8824245743944918,
          -1.8824245743944918,
          -1.8824245743944918,
          -0.5855696830717487,
          0.7112852082509942,
          0.7112852082509942,
          0.7112852082509942,
          0.7112852082509942,
          0.7112852082509942,
          0.7112852082509942,
          0.7112852082509942,
          0.7112852082509942,
          0.7112852082509942,
          0.7112852082509942,
          0.7112852082509942,
          0.7112852082509942,
          0.7112852082509942,
          -1.8824245743944918,
          -0.5855696830717487,
          0.7112852082509942,
          0.7112852082509942,
          -1.8824245743944918,
          0.7112852082509942,
          -1.8824245743944918,
          0.7112852082509942,
          0.7112852082509942,
          0.7112852082509942,
          -0.5855696830717487,
          -1.8824245743944918,
          0.7112852082509942,
          0.7112852082509942,
          0.7112852082509942,
          0.7112852082509942,
          -1.8824245743944918,
          -0.5855696830717487,
          0.7112852082509942,
          -0.5855696830717487,
          0.7112852082509942,
          0.7112852082509942,
          0.7112852082509942,
          0.7112852082509942,
          -1.8824245743944918,
          -0.5855696830717487,
          -0.5855696830717487,
          -0.5855696830717487,
          -0.5855696830717487,
          -0.5855696830717487,
          0.7112852082509942,
          -0.5855696830717487,
          -1.8824245743944918,
          -1.8824245743944918,
          -1.8824245743944918,
          -1.8824245743944918,
          -0.5855696830717487,
          -0.5855696830717487,
          -1.8824245743944918,
          -0.5855696830717487,
          -0.5855696830717487,
          -1.8824245743944918,
          -0.5855696830717487,
          0.7112852082509942,
          0.7112852082509942,
          0.7112852082509942,
          0.7112852082509942,
          0.7112852082509942,
          -0.5855696830717487,
          0.7112852082509942,
          -0.5855696830717487,
          -0.5855696830717487,
          -0.5855696830717487,
          -0.5855696830717487,
          -0.5855696830717487,
          0.7112852082509942,
          0.7112852082509942,
          0.7112852082509942,
          -1.8824245743944918,
          -0.5855696830717487,
          -0.5855696830717487,
          -0.5855696830717487,
          -0.5855696830717487,
          -1.8824245743944918,
          -1.8824245743944918,
          -0.5855696830717487,
          -0.5855696830717487,
          0.7112852082509942,
          0.7112852082509942,
          0.7112852082509942,
          0.7112852082509942,
          0.7112852082509942,
          0.7112852082509942,
          0.7112852082509942,
          0.7112852082509942,
          0.7112852082509942,
          0.7112852082509942,
          0.7112852082509942,
          -1.8824245743944918,
          -0.5855696830717487,
          -0.5855696830717487,
          0.7112852082509942,
          0.7112852082509942,
          -0.5855696830717487,
          -0.5855696830717487,
          -0.5855696830717487,
          -0.5855696830717487,
          -0.5855696830717487,
          -0.5855696830717487,
          0.7112852082509942,
          0.7112852082509942,
          0.7112852082509942,
          0.7112852082509942,
          -0.5855696830717487,
          0.7112852082509942,
          0.7112852082509942,
          0.7112852082509942,
          -1.8824245743944918,
          0.7112852082509942,
          0.7112852082509942,
          0.7112852082509942,
          -1.1133108321856913,
          -1.2601805932672177,
          0.9315681490263299,
          -1.5087294197128776,
          0.1407309739719571,
          -0.0739248306856584,
          -1.0568224625389504,
          0.8411867575915445,
          1.044544888319812,
          -1.6443015068650557,
          -0.5258317878595857,
          0.750805366156759,
          -1.0229294407509057,
          -1.3279666368433067,
          1.3947727801296057,
          0.8072937358035,
          -1.5765154632889666,
          0.027754234678475265,
          -0.5936178314356748,
          1.485154171564391,
          0.7056146704393663,
          -1.4861340718541813,
          1.2140099972600347,
          -1.4183480282780923,
          -1.5878131372183149,
          -0.16430622212044388,
          -0.8986550275280758,
          -0.4015573746367557,
          0.16332632183065346,
          -0.5936178314356748,
          -0.9325480493161203,
          1.360879758341561,
          -1.5878131372183149,
          0.9428658229556781,
          -1.1133108321856913,
          0.1520286479013053,
          -1.5539201154302704,
          -1.0568224625389504,
          1.05584256224916,
          -0.0739248306856584,
          0.8411867575915445,
          -0.35636667891936297,
          -0.20949691783783658,
          1.1462239536839456,
          -1.5652177893596184,
          -0.9438457232454686,
          1.0671402361785083,
          0.03905190860782345,
          0.4344704961350099,
          0.6717216486513218,
          0.6943169965100181,
          -0.2772829614139257,
          1.3156890626241684,
          -0.8082736360932903,
          1.5303448672817839,
          0.7846983879448035,
          1.3721774322709093,
          -0.48064109214219297,
          1.6094285847872212,
          -0.9551433971748167,
          0.10683795218391254,
          -1.0568224625389504,
          1.044544888319812,
          0.8411867575915445,
          -0.0739248306856584,
          -1.6330038329357077,
          0.4909588657817508,
          -1.3166689629139585,
          0.6152332790045808,
          -0.8195713100226385,
          0.3892798004176171,
          -1.5426224415009222,
          -1.1246085061150395,
          -0.05132948282696202,
          0.9541634968850263,
          1.6320239326459174,
          1.4964518454937392,
          0.7169123443687144,
          1.1801169754719902,
          0.09554027825456436,
          -0.7065945707291567,
          1.4512611497763466,
          -0.4919387660715412,
          1.3269867365535166,
          -1.3844550064900476,
          -1.5539201154302704,
          -1.0455247886096022,
          -0.06262715675631021,
          -0.43545039642480027,
          0.502256539711099,
          -1.1697992018324321,
          0.005158886819778897,
          0.8298890836621963,
          -0.8308689839519867,
          -1.339264310772655,
          -1.655599180794404,
          0.9767588447437227,
          -0.9664410711041649,
          -1.5765154632889666,
          0.027754234678475265,
          0.8072937358035,
          1.598130910857873,
          -1.0568224625389504,
          -0.22079459176718477,
          0.7959960618741517,
          0.6604239747219736,
          -1.5878131372183149,
          1.2704983669067755,
          -0.9551433971748167,
          -0.6839992228704603,
          0.2876007350534835,
          0.08424260432521617,
          0.44576817006435804,
          -0.2998783092726221,
          -1.0003340928922093,
          1.0784379101078565,
          -0.26598528748457756,
          0.6830193225806699,
          -1.4748363979248331,
          1.6207262587165692,
          -0.3902597007074075,
          1.236605345118731,
          1.417368127988302,
          0.626530952933929,
          0.8072937358035,
          -1.5765154632889666,
          -0.9777387450335131,
          -0.6275108532237195,
          0.08424260432521617,
          1.3156890626241684,
          -0.9551433971748167,
          -1.102013158256343,
          -1.5539201154302704,
          0.9654611708143744,
          -0.06262715675631021,
          -1.3618596586313512,
          -0.4241527224954521,
          -0.05132948282696202,
          -1.5426224415009222,
          -1.4296457022074402,
          1.5077495194230874,
          0.6830193225806699,
          1.360879758341561,
          -0.6727015489411121,
          -0.5032364400008894,
          -0.26598528748457756,
          -0.2885806353432739,
          0.2085170175480462,
          1.2479030190480793,
          -0.23209226569653296,
          0.9880565186730709,
          -0.9777387450335131,
          0.5135542136404472,
          0.027754234678475265,
          1.044544888319812,
          -1.1923945496911286,
          0.8524844315208927,
          0.005158886819778897,
          -1.3957526804193958,
          -1.2036922236204768,
          -1.5539201154302704,
          0.818591409732848,
          -1.2827759411259139,
          -0.9890364189628612,
          0.06164725646651981,
          1.3043913886948202,
          0.08424260432521617,
          -1.5878131372183149,
          1.0332472143904639,
          1.360879758341561,
          1.5077495194230874,
          -0.6727015489411121,
          0.08424260432521617,
          1.5416425412111319,
          -1.531324767571574,
          -1.4748363979248331,
          0.7056146704393663,
          1.6433216065752656,
          1.236605345118731,
          0.25370771326543895,
          -0.25468761355522934,
          0.6717216486513218,
          -1.2149898975498248,
          -0.5032364400008894,
          1.1914146494013382,
          -1.102013158256343,
          -0.44674807035414843,
          -1.5539201154302704,
          -0.06262715675631021,
          0.9767588447437227,
          -0.9777387450335131,
          0.027754234678475265,
          -1.5765154632889666,
          -1.0907154843269948,
          -0.9212503753867721,
          1.7111076501513547,
          0.2085170175480462,
          -0.537129461788934,
          -0.028734134968265653,
          1.168819301542642,
          -1.5200270936422258,
          1.5416425412111319,
          -0.6388085271530676,
          1.3043913886948202,
          0.08424260432521617,
          1.6546192805046138,
          1.0219495404611156,
          0.7056146704393663,
          1.417368127988302,
          0.42317282220566166,
          -1.226287571479173,
          -0.909952701457424,
          -0.17560389604979204,
          -0.4128550485661039,
          0.18592166968934984,
          -1.3053712889846103,
          1.2027123233306865,
          0.7621030400861072,
          -0.604915505365023,
          -1.1697992018324321,
          0.6039356050752327,
          -0.3450690049900148,
          0.4570658439937062,
          -1.0681201364682986,
          -1.2714782671965659,
          1.0106518665317674,
          -0.04003180889761384,
          1.0897355840372047,
          -1.0116317668215575,
          -0.8760596796693794,
          0.12943330004260892,
          1.55294021514048,
          1.1575216276132938,
          1.3382844104828646,
          0.072944930395868,
          -1.0907154843269948,
          -0.45804574428349665,
          1.2592006929774273,
          1.5077495194230874,
          -0.661403875011764,
          -1.407050354348744,
          0.3666844525589208,
          1.5642378890698283,
          -0.09652017854435477,
          0.3553867786295726,
          -0.6162131792943712,
          0.25370771326543895,
          0.5926379311458845,
          -0.37896202677805935,
          0.5248518875697954,
          1.1349262797545974,
          -1.0455247886096022,
          -0.1417108742617475,
          -0.1304132003323993,
          0.999354192602419,
          -1.6217061590063595,
          -1.3505619847020032,
          0.5361495614991435,
          -0.5597248096476303,
          -1.6104084850770113,
          -1.0116317668215575,
          -1.294073615055262,
          -0.08522250461500658,
          -0.3676643528487112,
          -1.0907154843269948,
          1.360879758341561,
          -0.7178922446585049,
          -0.33377133106066664,
          1.293093714765472,
          0.9202704750969818,
          0.6491263007926253,
          -0.7969759621639422,
          -1.4522410500661367,
          1.665916954433962,
          1.2253076711893829,
          0.7395076922274109,
          1.5868332369285247,
          0.197219343618698,
          1.1123309318959012,
          0.5474472354284917,
          -0.11911552640305112,
          -1.599110811147663,
          -0.5484271357182822,
          -1.1697992018324321,
          0.016456560749127082,
          0.4683635179230544,
          -0.31117598320197026,
          -1.3279666368433067,
          -0.20949691783783658,
          -1.034227114680254,
          -0.8421666578813348,
          1.7337029980100511,
          0.27630306112413533,
          -0.4693434182128448,
          -1.4974317457835293,
          0.40057747434696533,
          -1.2375852454085212,
          0.7056146704393663,
          0.5926379311458845,
          0.8637821054502408,
          0.8976751272382854,
          -0.7743806143052457,
          -0.24338993962588115,
          -1.2488829193378694,
          -1.0794178103976466,
          0.6378286268632772,
          1.1236286058252491,
          1.7111076501513547,
          1.3495820844122128,
          -1.0907154843269948,
          -0.7404875925172012,
          -1.0794178103976466,
          -0.1530085481910957,
          -1.6217061590063595,
          -0.5597248096476303,
          -1.463538723995485,
          1.3834751062002575,
          0.29889840898283165,
          -0.6952968967998086,
          1.3043913886948202,
          0.31019608291217987,
          -0.5032364400008894,
          -0.7743806143052457,
          1.722405324080703,
          1.6885123022926583,
          -1.4409433761367885,
          0.4118751482763135,
          0.24241003933609073,
          1.2592006929774273,
          1.4738564976350428,
          -0.7517852664465494,
          0.37798212648826895,
          1.4625588237056948,
          0.17462399576000165,
          0.9089728011676336,
          -1.2714782671965659,
          -0.5710224835769785,
          -1.0794178103976466,
          0.9089728011676336,
          1.4286658019176501,
          0.7734007140154554,
          0.23111236540674257,
          1.2479030190480793,
          -0.7630829403758976,
          1.4399634758469984,
          0.32149375684152803,
          0.875079779379589,
          -0.18690156997914023,
          -0.19819924390848842,
          1.5190471933524357,
          0.2650053871947871,
          1.3043913886948202,
          -0.785678288234594,
          0.29889840898283165,
          0.7282100182980626,
          1.6772146283633103,
          1.4060704540589537,
          -0.6501062010824158,
          -1.3957526804193958,
          0.5813402572165363,
          -0.01743646103891747,
          -0.853464331810683,
          -1.158501527903084,
          -1.1359061800443877,
          -1.1472038539737357,
          1.101033257966553,
          -0.5823201575063267,
          1.1236286058252491,
          -0.10781785247370294,
          1.5755355629991765,
          0.3440891047002244,
          0.33279143077087625,
          0.8863774533089372,
          0.4796611918524026,
          0.5587449093578399,
          0.17462399576000165,
          1.3043913886948202,
          0.2085170175480462,
          0.21981469147739438,
          -0.7291899185878531,
          -1.3731573325606994,
          0.5700425832871882,
          -0.8647620057400313,
          -0.0061387871095692865,
          1.2817960408361238,
          -0.5145341139302376,
          -1.1810968757617804,
          0.05034958253717163,
          1.6998099762220065,
          -0.3224736571313184,
          0.11813562611326073,
          -0.8873573535987276
         ],
         "y0": " ",
         "yaxis": "y"
        }
       ],
       "layout": {
        "boxmode": "group",
        "legend": {
         "tracegroupgap": 0
        },
        "margin": {
         "t": 60
        },
        "template": {
         "data": {
          "bar": [
           {
            "error_x": {
             "color": "#2a3f5f"
            },
            "error_y": {
             "color": "#2a3f5f"
            },
            "marker": {
             "line": {
              "color": "#E5ECF6",
              "width": 0.5
             },
             "pattern": {
              "fillmode": "overlay",
              "size": 10,
              "solidity": 0.2
             }
            },
            "type": "bar"
           }
          ],
          "barpolar": [
           {
            "marker": {
             "line": {
              "color": "#E5ECF6",
              "width": 0.5
             },
             "pattern": {
              "fillmode": "overlay",
              "size": 10,
              "solidity": 0.2
             }
            },
            "type": "barpolar"
           }
          ],
          "carpet": [
           {
            "aaxis": {
             "endlinecolor": "#2a3f5f",
             "gridcolor": "white",
             "linecolor": "white",
             "minorgridcolor": "white",
             "startlinecolor": "#2a3f5f"
            },
            "baxis": {
             "endlinecolor": "#2a3f5f",
             "gridcolor": "white",
             "linecolor": "white",
             "minorgridcolor": "white",
             "startlinecolor": "#2a3f5f"
            },
            "type": "carpet"
           }
          ],
          "choropleth": [
           {
            "colorbar": {
             "outlinewidth": 0,
             "ticks": ""
            },
            "type": "choropleth"
           }
          ],
          "contour": [
           {
            "colorbar": {
             "outlinewidth": 0,
             "ticks": ""
            },
            "colorscale": [
             [
              0,
              "#0d0887"
             ],
             [
              0.1111111111111111,
              "#46039f"
             ],
             [
              0.2222222222222222,
              "#7201a8"
             ],
             [
              0.3333333333333333,
              "#9c179e"
             ],
             [
              0.4444444444444444,
              "#bd3786"
             ],
             [
              0.5555555555555556,
              "#d8576b"
             ],
             [
              0.6666666666666666,
              "#ed7953"
             ],
             [
              0.7777777777777778,
              "#fb9f3a"
             ],
             [
              0.8888888888888888,
              "#fdca26"
             ],
             [
              1,
              "#f0f921"
             ]
            ],
            "type": "contour"
           }
          ],
          "contourcarpet": [
           {
            "colorbar": {
             "outlinewidth": 0,
             "ticks": ""
            },
            "type": "contourcarpet"
           }
          ],
          "heatmap": [
           {
            "colorbar": {
             "outlinewidth": 0,
             "ticks": ""
            },
            "colorscale": [
             [
              0,
              "#0d0887"
             ],
             [
              0.1111111111111111,
              "#46039f"
             ],
             [
              0.2222222222222222,
              "#7201a8"
             ],
             [
              0.3333333333333333,
              "#9c179e"
             ],
             [
              0.4444444444444444,
              "#bd3786"
             ],
             [
              0.5555555555555556,
              "#d8576b"
             ],
             [
              0.6666666666666666,
              "#ed7953"
             ],
             [
              0.7777777777777778,
              "#fb9f3a"
             ],
             [
              0.8888888888888888,
              "#fdca26"
             ],
             [
              1,
              "#f0f921"
             ]
            ],
            "type": "heatmap"
           }
          ],
          "heatmapgl": [
           {
            "colorbar": {
             "outlinewidth": 0,
             "ticks": ""
            },
            "colorscale": [
             [
              0,
              "#0d0887"
             ],
             [
              0.1111111111111111,
              "#46039f"
             ],
             [
              0.2222222222222222,
              "#7201a8"
             ],
             [
              0.3333333333333333,
              "#9c179e"
             ],
             [
              0.4444444444444444,
              "#bd3786"
             ],
             [
              0.5555555555555556,
              "#d8576b"
             ],
             [
              0.6666666666666666,
              "#ed7953"
             ],
             [
              0.7777777777777778,
              "#fb9f3a"
             ],
             [
              0.8888888888888888,
              "#fdca26"
             ],
             [
              1,
              "#f0f921"
             ]
            ],
            "type": "heatmapgl"
           }
          ],
          "histogram": [
           {
            "marker": {
             "pattern": {
              "fillmode": "overlay",
              "size": 10,
              "solidity": 0.2
             }
            },
            "type": "histogram"
           }
          ],
          "histogram2d": [
           {
            "colorbar": {
             "outlinewidth": 0,
             "ticks": ""
            },
            "colorscale": [
             [
              0,
              "#0d0887"
             ],
             [
              0.1111111111111111,
              "#46039f"
             ],
             [
              0.2222222222222222,
              "#7201a8"
             ],
             [
              0.3333333333333333,
              "#9c179e"
             ],
             [
              0.4444444444444444,
              "#bd3786"
             ],
             [
              0.5555555555555556,
              "#d8576b"
             ],
             [
              0.6666666666666666,
              "#ed7953"
             ],
             [
              0.7777777777777778,
              "#fb9f3a"
             ],
             [
              0.8888888888888888,
              "#fdca26"
             ],
             [
              1,
              "#f0f921"
             ]
            ],
            "type": "histogram2d"
           }
          ],
          "histogram2dcontour": [
           {
            "colorbar": {
             "outlinewidth": 0,
             "ticks": ""
            },
            "colorscale": [
             [
              0,
              "#0d0887"
             ],
             [
              0.1111111111111111,
              "#46039f"
             ],
             [
              0.2222222222222222,
              "#7201a8"
             ],
             [
              0.3333333333333333,
              "#9c179e"
             ],
             [
              0.4444444444444444,
              "#bd3786"
             ],
             [
              0.5555555555555556,
              "#d8576b"
             ],
             [
              0.6666666666666666,
              "#ed7953"
             ],
             [
              0.7777777777777778,
              "#fb9f3a"
             ],
             [
              0.8888888888888888,
              "#fdca26"
             ],
             [
              1,
              "#f0f921"
             ]
            ],
            "type": "histogram2dcontour"
           }
          ],
          "mesh3d": [
           {
            "colorbar": {
             "outlinewidth": 0,
             "ticks": ""
            },
            "type": "mesh3d"
           }
          ],
          "parcoords": [
           {
            "line": {
             "colorbar": {
              "outlinewidth": 0,
              "ticks": ""
             }
            },
            "type": "parcoords"
           }
          ],
          "pie": [
           {
            "automargin": true,
            "type": "pie"
           }
          ],
          "scatter": [
           {
            "marker": {
             "colorbar": {
              "outlinewidth": 0,
              "ticks": ""
             }
            },
            "type": "scatter"
           }
          ],
          "scatter3d": [
           {
            "line": {
             "colorbar": {
              "outlinewidth": 0,
              "ticks": ""
             }
            },
            "marker": {
             "colorbar": {
              "outlinewidth": 0,
              "ticks": ""
             }
            },
            "type": "scatter3d"
           }
          ],
          "scattercarpet": [
           {
            "marker": {
             "colorbar": {
              "outlinewidth": 0,
              "ticks": ""
             }
            },
            "type": "scattercarpet"
           }
          ],
          "scattergeo": [
           {
            "marker": {
             "colorbar": {
              "outlinewidth": 0,
              "ticks": ""
             }
            },
            "type": "scattergeo"
           }
          ],
          "scattergl": [
           {
            "marker": {
             "colorbar": {
              "outlinewidth": 0,
              "ticks": ""
             }
            },
            "type": "scattergl"
           }
          ],
          "scattermapbox": [
           {
            "marker": {
             "colorbar": {
              "outlinewidth": 0,
              "ticks": ""
             }
            },
            "type": "scattermapbox"
           }
          ],
          "scatterpolar": [
           {
            "marker": {
             "colorbar": {
              "outlinewidth": 0,
              "ticks": ""
             }
            },
            "type": "scatterpolar"
           }
          ],
          "scatterpolargl": [
           {
            "marker": {
             "colorbar": {
              "outlinewidth": 0,
              "ticks": ""
             }
            },
            "type": "scatterpolargl"
           }
          ],
          "scatterternary": [
           {
            "marker": {
             "colorbar": {
              "outlinewidth": 0,
              "ticks": ""
             }
            },
            "type": "scatterternary"
           }
          ],
          "surface": [
           {
            "colorbar": {
             "outlinewidth": 0,
             "ticks": ""
            },
            "colorscale": [
             [
              0,
              "#0d0887"
             ],
             [
              0.1111111111111111,
              "#46039f"
             ],
             [
              0.2222222222222222,
              "#7201a8"
             ],
             [
              0.3333333333333333,
              "#9c179e"
             ],
             [
              0.4444444444444444,
              "#bd3786"
             ],
             [
              0.5555555555555556,
              "#d8576b"
             ],
             [
              0.6666666666666666,
              "#ed7953"
             ],
             [
              0.7777777777777778,
              "#fb9f3a"
             ],
             [
              0.8888888888888888,
              "#fdca26"
             ],
             [
              1,
              "#f0f921"
             ]
            ],
            "type": "surface"
           }
          ],
          "table": [
           {
            "cells": {
             "fill": {
              "color": "#EBF0F8"
             },
             "line": {
              "color": "white"
             }
            },
            "header": {
             "fill": {
              "color": "#C8D4E3"
             },
             "line": {
              "color": "white"
             }
            },
            "type": "table"
           }
          ]
         },
         "layout": {
          "annotationdefaults": {
           "arrowcolor": "#2a3f5f",
           "arrowhead": 0,
           "arrowwidth": 1
          },
          "autotypenumbers": "strict",
          "coloraxis": {
           "colorbar": {
            "outlinewidth": 0,
            "ticks": ""
           }
          },
          "colorscale": {
           "diverging": [
            [
             0,
             "#8e0152"
            ],
            [
             0.1,
             "#c51b7d"
            ],
            [
             0.2,
             "#de77ae"
            ],
            [
             0.3,
             "#f1b6da"
            ],
            [
             0.4,
             "#fde0ef"
            ],
            [
             0.5,
             "#f7f7f7"
            ],
            [
             0.6,
             "#e6f5d0"
            ],
            [
             0.7,
             "#b8e186"
            ],
            [
             0.8,
             "#7fbc41"
            ],
            [
             0.9,
             "#4d9221"
            ],
            [
             1,
             "#276419"
            ]
           ],
           "sequential": [
            [
             0,
             "#0d0887"
            ],
            [
             0.1111111111111111,
             "#46039f"
            ],
            [
             0.2222222222222222,
             "#7201a8"
            ],
            [
             0.3333333333333333,
             "#9c179e"
            ],
            [
             0.4444444444444444,
             "#bd3786"
            ],
            [
             0.5555555555555556,
             "#d8576b"
            ],
            [
             0.6666666666666666,
             "#ed7953"
            ],
            [
             0.7777777777777778,
             "#fb9f3a"
            ],
            [
             0.8888888888888888,
             "#fdca26"
            ],
            [
             1,
             "#f0f921"
            ]
           ],
           "sequentialminus": [
            [
             0,
             "#0d0887"
            ],
            [
             0.1111111111111111,
             "#46039f"
            ],
            [
             0.2222222222222222,
             "#7201a8"
            ],
            [
             0.3333333333333333,
             "#9c179e"
            ],
            [
             0.4444444444444444,
             "#bd3786"
            ],
            [
             0.5555555555555556,
             "#d8576b"
            ],
            [
             0.6666666666666666,
             "#ed7953"
            ],
            [
             0.7777777777777778,
             "#fb9f3a"
            ],
            [
             0.8888888888888888,
             "#fdca26"
            ],
            [
             1,
             "#f0f921"
            ]
           ]
          },
          "colorway": [
           "#636efa",
           "#EF553B",
           "#00cc96",
           "#ab63fa",
           "#FFA15A",
           "#19d3f3",
           "#FF6692",
           "#B6E880",
           "#FF97FF",
           "#FECB52"
          ],
          "font": {
           "color": "#2a3f5f"
          },
          "geo": {
           "bgcolor": "white",
           "lakecolor": "white",
           "landcolor": "#E5ECF6",
           "showlakes": true,
           "showland": true,
           "subunitcolor": "white"
          },
          "hoverlabel": {
           "align": "left"
          },
          "hovermode": "closest",
          "mapbox": {
           "style": "light"
          },
          "paper_bgcolor": "white",
          "plot_bgcolor": "#E5ECF6",
          "polar": {
           "angularaxis": {
            "gridcolor": "white",
            "linecolor": "white",
            "ticks": ""
           },
           "bgcolor": "#E5ECF6",
           "radialaxis": {
            "gridcolor": "white",
            "linecolor": "white",
            "ticks": ""
           }
          },
          "scene": {
           "xaxis": {
            "backgroundcolor": "#E5ECF6",
            "gridcolor": "white",
            "gridwidth": 2,
            "linecolor": "white",
            "showbackground": true,
            "ticks": "",
            "zerolinecolor": "white"
           },
           "yaxis": {
            "backgroundcolor": "#E5ECF6",
            "gridcolor": "white",
            "gridwidth": 2,
            "linecolor": "white",
            "showbackground": true,
            "ticks": "",
            "zerolinecolor": "white"
           },
           "zaxis": {
            "backgroundcolor": "#E5ECF6",
            "gridcolor": "white",
            "gridwidth": 2,
            "linecolor": "white",
            "showbackground": true,
            "ticks": "",
            "zerolinecolor": "white"
           }
          },
          "shapedefaults": {
           "line": {
            "color": "#2a3f5f"
           }
          },
          "ternary": {
           "aaxis": {
            "gridcolor": "white",
            "linecolor": "white",
            "ticks": ""
           },
           "baxis": {
            "gridcolor": "white",
            "linecolor": "white",
            "ticks": ""
           },
           "bgcolor": "#E5ECF6",
           "caxis": {
            "gridcolor": "white",
            "linecolor": "white",
            "ticks": ""
           }
          },
          "title": {
           "x": 0.05
          },
          "xaxis": {
           "automargin": true,
           "gridcolor": "white",
           "linecolor": "white",
           "ticks": "",
           "title": {
            "standoff": 15
           },
           "zerolinecolor": "white",
           "zerolinewidth": 2
          },
          "yaxis": {
           "automargin": true,
           "gridcolor": "white",
           "linecolor": "white",
           "ticks": "",
           "title": {
            "standoff": 15
           },
           "zerolinecolor": "white",
           "zerolinewidth": 2
          }
         }
        },
        "xaxis": {
         "anchor": "y",
         "domain": [
          0,
          1
         ],
         "title": {
          "text": "variable"
         }
        },
        "yaxis": {
         "anchor": "x",
         "domain": [
          0,
          1
         ],
         "title": {
          "text": "value"
         }
        }
       }
      }
     },
     "metadata": {},
     "output_type": "display_data"
    }
   ],
   "source": [
    "px.box(data)"
   ]
  },
  {
   "cell_type": "code",
   "execution_count": 124,
   "metadata": {},
   "outputs": [
    {
     "data": {
      "application/vnd.plotly.v1+json": {
       "config": {
        "plotlyServerURL": "https://plot.ly"
       },
       "data": [
        {
         "alignmentgroup": "True",
         "bingroup": "x",
         "hovertemplate": "variable=horsepower<br>value=%{x}<br>count=%{y}<extra></extra>",
         "legendgroup": "horsepower",
         "marker": {
          "color": "#636efa",
          "pattern": {
           "shape": ""
          }
         },
         "name": "horsepower",
         "offsetgroup": "horsepower",
         "orientation": "v",
         "showlegend": true,
         "type": "histogram",
         "x": [
          0.6641327329009122,
          1.5745944730488457,
          1.184396584414017,
          1.184396584414017,
          0.9242646586574647,
          2.433029828045468,
          3.0053200647098834,
          2.8752541018316067,
          3.1353860275881598,
          2.224924287440226,
          1.7046604359271218,
          1.4445285101705692,
          1.184396584414017,
          3.1353860275881598,
          -0.246329007247021,
          -0.246329007247021,
          -0.19430262209571053,
          -0.5064609330035733,
          -0.4284213552766077,
          -1.5209754434541276,
          -0.4544345478522629,
          -0.3763949701252972,
          -0.246329007247021,
          0.22190845911477325,
          -0.3763949701252972,
          2.8752541018316067,
          2.4850562131967786,
          2.745188138953331,
          2.3029638651671918,
          -0.4284213552766077,
          -0.3763949701252972,
          -0.246329007247021,
          -0.11626304436874484,
          0.013802918509531348,
          -0.11626304436874484,
          -0.4284213552766077,
          -0.11626304436874484,
          1.5745944730488457,
          1.834726398805398,
          1.2624361621409825,
          1.184396584414017,
          1.964792361683674,
          1.7046604359271218,
          1.834726398805398,
          0.14386888138780754,
          -0.8446324364870914,
          -0.11626304436874484,
          -0.4284213552766077,
          -0.48044774042791816,
          -0.3763949701252972,
          -0.8966588216384018,
          -0.7405796661844704,
          -1.026724784516678,
          -0.9226720142140571,
          -1.1567907473949541,
          -0.8966588216384018,
          -0.246329007247021,
          -0.6365268958818495,
          -1.3128699028488855,
          -0.3763949701252972,
          -0.48044774042791816,
          1.5745944730488457,
          1.834726398805398,
          1.184396584414017,
          1.2624361621409825,
          1.184396584414017,
          2.6931617538020203,
          1.314462547292293,
          1.4445285101705692,
          2.224924287440226,
          -0.19430262209571053,
          1.184396584414017,
          0.6641327329009122,
          0.9242646586574647,
          1.184396584414017,
          0.195895266539118,
          -0.7405796661844704,
          -0.4544345478522629,
          -0.9226720142140571,
          -0.48044774042791816,
          -0.3243685849739867,
          -0.19430262209571053,
          -0.6365268958818495,
          -0.4284213552766077,
          1.834726398805398,
          1.184396584414017,
          1.0543306215357409,
          0.846225080930499,
          1.184396584414017,
          2.433029828045468,
          1.184396584414017,
          1.3925021250192589,
          1.184396584414017,
          2.8752541018316067,
          3.1353860275881598,
          1.834726398805398,
          0.013802918509531348,
          -0.11626304436874484,
          -0.11626304436874484,
          -0.4284213552766077,
          -0.246329007247021,
          -1.5209754434541276,
          1.184396584414017,
          1.626620858200156,
          1.7046604359271218,
          1.964792361683674,
          -0.11626304436874484,
          -0.4284213552766077,
          -0.8446324364870914,
          -0.27234219982267627,
          -0.3763949701252972,
          -0.5064609330035733,
          0.06582930366084182,
          -0.3763949701252972,
          1.0543306215357409,
          3.2654519904664356,
          -1.4429358657271618,
          -0.7665928587601257,
          -0.35038177754964195,
          0.195895266539118,
          1.184396584414017,
          0.14386888138780754,
          0.45602719229567035,
          1.964792361683674,
          -0.246329007247021,
          -0.11626304436874484,
          -0.11626304436874484,
          -0.9746983993653676,
          -0.6365268958818495,
          -1.026724784516678,
          -0.7665928587601257,
          -0.11626304436874484,
          0.14386888138780754,
          0.013802918509531348,
          0.9242646586574647,
          1.184396584414017,
          1.184396584414017,
          0.9242646586574647,
          1.184396584414017,
          -0.5584873181548837,
          -0.9746983993653676,
          -0.6885532810331599,
          -1.364896288000196,
          -1.1307775548192989,
          -0.7665928587601257,
          -0.7665928587601257,
          -0.7665928587601257,
          -0.19430262209571053,
          -0.2983553923983315,
          -0.9746983993653676,
          -0.246329007247021,
          0.013802918509531348,
          -0.8446324364870914,
          -0.8446324364870914,
          1.7046604359271218,
          1.0543306215357409,
          1.184396584414017,
          1.1323701992627064,
          0.14386888138780754,
          0.013802918509531348,
          0.14386888138780754,
          -0.246329007247021,
          0.14386888138780754,
          0.14386888138780754,
          0.638119540325257,
          -0.7665928587601257,
          -0.5584873181548837,
          -0.11626304436874484,
          -0.6885532810331599,
          -0.22031581467136577,
          -0.8706456290627467,
          -0.19430262209571053,
          -0.19430262209571053,
          -0.8966588216384018,
          -0.3763949701252972,
          -0.246329007247021,
          -0.4284213552766077,
          -0.16828942952005527,
          0.27393484426608367,
          -1.3388830954245408,
          -0.48044774042791816,
          -0.6105137033061943,
          -0.3243685849739867,
          -0.6625400884575047,
          -0.5584873181548837,
          0.9242646586574647,
          1.184396584414017,
          0.4040008071443599,
          1.2364229695653275,
          -0.11626304436874484,
          0.013802918509531348,
          -0.6105137033061943,
          -0.3763949701252972,
          -1.364896288000196,
          -1.1567907473949541,
          -0.8966588216384018,
          -1.3388830954245408,
          -0.11626304436874484,
          -0.6885532810331599,
          0.14386888138780754,
          -0.246329007247021,
          -0.8706456290627467,
          -0.8966588216384018,
          -0.7665928587601257,
          -0.8446324364870914,
          -0.06423665921743436,
          1.184396584414017,
          -0.4284213552766077,
          0.09184249623649705,
          0.4040008071443599,
          1.964792361683674,
          1.0543306215357409,
          0.6641327329009122,
          1.184396584414017,
          -0.9486852067897124,
          -0.6365268958818495,
          -1.2088171325462647,
          -0.22031581467136577,
          -0.8966588216384018,
          1.0543306215357409,
          0.14386888138780754,
          1.0543306215357409,
          0.6641327329009122,
          0.14386888138780754,
          0.013802918509531348,
          -0.11626304436874484,
          -0.16828942952005527,
          1.964792361683674,
          1.7046604359271218,
          2.224924287440226,
          1.1583833918383617,
          -0.6885532810331599,
          -0.4284213552766077,
          -0.7665928587601257,
          -0.4024081627009525,
          -1.0787511696679886,
          -0.5584873181548837,
          -0.9746983993653676,
          -0.6885532810331599,
          -0.19430262209571053,
          0.14386888138780754,
          0.14386888138780754,
          -1.4689490583028169,
          -1.0007115919410228,
          -1.364896288000196,
          -0.8966588216384018,
          -1.1567907473949541,
          0.14386888138780754,
          0.9242646586574647,
          0.8982514660818094,
          0.013802918509531348,
          -0.246329007247021,
          -0.5064609330035733,
          -0.4284213552766077,
          -0.11626304436874484,
          -0.3763949701252972,
          0.013802918509531348,
          -0.5064609330035733,
          0.14386888138780754,
          0.4040008071443599,
          1.0543306215357409,
          1.5745944730488457,
          0.8982514660818094,
          0.9242646586574647,
          -0.9486852067897124,
          -0.246329007247021,
          -0.19430262209571053,
          -0.7665928587601257,
          -0.246329007247021,
          0.013802918509531348,
          -0.5064609330035733,
          -0.19430262209571053,
          -0.03822346664177912,
          0.5340667700226361,
          0.27393484426608367,
          0.7421723106278779,
          -0.8706456290627467,
          -0.9486852067897124,
          0.27393484426608367,
          -0.5064609330035733,
          -0.4284213552766077,
          -0.3763949701252972,
          0.14386888138780754,
          0.6641327329009122,
          0.638119540325257,
          0.8722382735061542,
          0.7941986957791886,
          1.314462547292293,
          0.9762910438087751,
          0.5340667700226361,
          1.184396584414017,
          -0.8706456290627467,
          -1.026724784516678,
          -0.6365268958818495,
          -0.6365268958818495,
          -0.7145664736088152,
          0.5340667700226361,
          -0.8706456290627467,
          -0.3763949701252972,
          -0.8966588216384018,
          -0.8966588216384018,
          -1.026724784516678,
          -0.9226720142140571,
          -0.3763949701252972,
          0.27393484426608367,
          0.27393484426608367,
          -0.3763949701252972,
          -0.7405796661844704,
          -1.1567907473949541,
          -0.8966588216384018,
          -1.026724784516678,
          -0.3763949701252972,
          -0.4284213552766077,
          -0.3763949701252972,
          -0.3763949701252972,
          -0.6885532810331599,
          -0.3763949701252972,
          -0.7665928587601257,
          -0.3243685849739867,
          -0.7665928587601257,
          -1.026724784516678,
          0.013802918509531348,
          -1.026724784516678,
          -1.4689490583028169,
          -1.4689490583028169,
          -0.9746983993653676,
          -0.9746983993653676,
          -0.9746983993653676,
          -0.9746983993653676,
          -1.1047643622436438,
          0.7161591180522227,
          -0.11626304436874484,
          -0.4284213552766077,
          -0.8446324364870914,
          -0.5324741255792286,
          -0.5324741255792286,
          -0.3243685849739867,
          0.14386888138780754,
          -0.5324741255792286,
          -1.2088171325462647,
          -1.0527379770923333,
          -1.1567907473949541,
          -0.9746983993653676,
          -1.026724784516678,
          -1.1047643622436438,
          -0.9486852067897124,
          -1.0787511696679886,
          -1.026724784516678,
          -1.026724784516678,
          -0.792606051335781,
          -0.7665928587601257,
          -0.7665928587601257,
          -0.11626304436874484,
          -0.792606051335781,
          -0.6365268958818495,
          -0.7405796661844704,
          0.29994803684173893,
          0.4040008071443599,
          0.14386888138780754,
          0.013802918509531348,
          -0.4284213552766077,
          -0.5064609330035733,
          -0.4284213552766077,
          -0.4284213552766077,
          -0.4284213552766077,
          -0.5064609330035733,
          -0.5324741255792286,
          -0.3763949701252972,
          -0.3243685849739867,
          -0.792606051335781,
          -0.9486852067897124,
          -0.9486852067897124,
          -1.0787511696679886,
          -0.8966588216384018,
          -0.4284213552766077,
          -0.7665928587601257,
          -0.8966588216384018,
          -0.9746983993653676,
          -0.9746983993653676,
          -0.9746983993653676,
          0.14386888138780754,
          -0.5064609330035733,
          -0.3243685849739867,
          0.195895266539118,
          -0.22031581467136577,
          -0.5324741255792286,
          -0.3763949701252972,
          -0.48044774042791816,
          -1.364896288000196,
          -0.5324741255792286,
          -0.6625400884575047,
          -0.584500510730539
         ],
         "xaxis": "x",
         "yaxis": "y"
        }
       ],
       "layout": {
        "barmode": "relative",
        "legend": {
         "title": {
          "text": "variable"
         },
         "tracegroupgap": 0
        },
        "margin": {
         "t": 60
        },
        "template": {
         "data": {
          "bar": [
           {
            "error_x": {
             "color": "#2a3f5f"
            },
            "error_y": {
             "color": "#2a3f5f"
            },
            "marker": {
             "line": {
              "color": "#E5ECF6",
              "width": 0.5
             },
             "pattern": {
              "fillmode": "overlay",
              "size": 10,
              "solidity": 0.2
             }
            },
            "type": "bar"
           }
          ],
          "barpolar": [
           {
            "marker": {
             "line": {
              "color": "#E5ECF6",
              "width": 0.5
             },
             "pattern": {
              "fillmode": "overlay",
              "size": 10,
              "solidity": 0.2
             }
            },
            "type": "barpolar"
           }
          ],
          "carpet": [
           {
            "aaxis": {
             "endlinecolor": "#2a3f5f",
             "gridcolor": "white",
             "linecolor": "white",
             "minorgridcolor": "white",
             "startlinecolor": "#2a3f5f"
            },
            "baxis": {
             "endlinecolor": "#2a3f5f",
             "gridcolor": "white",
             "linecolor": "white",
             "minorgridcolor": "white",
             "startlinecolor": "#2a3f5f"
            },
            "type": "carpet"
           }
          ],
          "choropleth": [
           {
            "colorbar": {
             "outlinewidth": 0,
             "ticks": ""
            },
            "type": "choropleth"
           }
          ],
          "contour": [
           {
            "colorbar": {
             "outlinewidth": 0,
             "ticks": ""
            },
            "colorscale": [
             [
              0,
              "#0d0887"
             ],
             [
              0.1111111111111111,
              "#46039f"
             ],
             [
              0.2222222222222222,
              "#7201a8"
             ],
             [
              0.3333333333333333,
              "#9c179e"
             ],
             [
              0.4444444444444444,
              "#bd3786"
             ],
             [
              0.5555555555555556,
              "#d8576b"
             ],
             [
              0.6666666666666666,
              "#ed7953"
             ],
             [
              0.7777777777777778,
              "#fb9f3a"
             ],
             [
              0.8888888888888888,
              "#fdca26"
             ],
             [
              1,
              "#f0f921"
             ]
            ],
            "type": "contour"
           }
          ],
          "contourcarpet": [
           {
            "colorbar": {
             "outlinewidth": 0,
             "ticks": ""
            },
            "type": "contourcarpet"
           }
          ],
          "heatmap": [
           {
            "colorbar": {
             "outlinewidth": 0,
             "ticks": ""
            },
            "colorscale": [
             [
              0,
              "#0d0887"
             ],
             [
              0.1111111111111111,
              "#46039f"
             ],
             [
              0.2222222222222222,
              "#7201a8"
             ],
             [
              0.3333333333333333,
              "#9c179e"
             ],
             [
              0.4444444444444444,
              "#bd3786"
             ],
             [
              0.5555555555555556,
              "#d8576b"
             ],
             [
              0.6666666666666666,
              "#ed7953"
             ],
             [
              0.7777777777777778,
              "#fb9f3a"
             ],
             [
              0.8888888888888888,
              "#fdca26"
             ],
             [
              1,
              "#f0f921"
             ]
            ],
            "type": "heatmap"
           }
          ],
          "heatmapgl": [
           {
            "colorbar": {
             "outlinewidth": 0,
             "ticks": ""
            },
            "colorscale": [
             [
              0,
              "#0d0887"
             ],
             [
              0.1111111111111111,
              "#46039f"
             ],
             [
              0.2222222222222222,
              "#7201a8"
             ],
             [
              0.3333333333333333,
              "#9c179e"
             ],
             [
              0.4444444444444444,
              "#bd3786"
             ],
             [
              0.5555555555555556,
              "#d8576b"
             ],
             [
              0.6666666666666666,
              "#ed7953"
             ],
             [
              0.7777777777777778,
              "#fb9f3a"
             ],
             [
              0.8888888888888888,
              "#fdca26"
             ],
             [
              1,
              "#f0f921"
             ]
            ],
            "type": "heatmapgl"
           }
          ],
          "histogram": [
           {
            "marker": {
             "pattern": {
              "fillmode": "overlay",
              "size": 10,
              "solidity": 0.2
             }
            },
            "type": "histogram"
           }
          ],
          "histogram2d": [
           {
            "colorbar": {
             "outlinewidth": 0,
             "ticks": ""
            },
            "colorscale": [
             [
              0,
              "#0d0887"
             ],
             [
              0.1111111111111111,
              "#46039f"
             ],
             [
              0.2222222222222222,
              "#7201a8"
             ],
             [
              0.3333333333333333,
              "#9c179e"
             ],
             [
              0.4444444444444444,
              "#bd3786"
             ],
             [
              0.5555555555555556,
              "#d8576b"
             ],
             [
              0.6666666666666666,
              "#ed7953"
             ],
             [
              0.7777777777777778,
              "#fb9f3a"
             ],
             [
              0.8888888888888888,
              "#fdca26"
             ],
             [
              1,
              "#f0f921"
             ]
            ],
            "type": "histogram2d"
           }
          ],
          "histogram2dcontour": [
           {
            "colorbar": {
             "outlinewidth": 0,
             "ticks": ""
            },
            "colorscale": [
             [
              0,
              "#0d0887"
             ],
             [
              0.1111111111111111,
              "#46039f"
             ],
             [
              0.2222222222222222,
              "#7201a8"
             ],
             [
              0.3333333333333333,
              "#9c179e"
             ],
             [
              0.4444444444444444,
              "#bd3786"
             ],
             [
              0.5555555555555556,
              "#d8576b"
             ],
             [
              0.6666666666666666,
              "#ed7953"
             ],
             [
              0.7777777777777778,
              "#fb9f3a"
             ],
             [
              0.8888888888888888,
              "#fdca26"
             ],
             [
              1,
              "#f0f921"
             ]
            ],
            "type": "histogram2dcontour"
           }
          ],
          "mesh3d": [
           {
            "colorbar": {
             "outlinewidth": 0,
             "ticks": ""
            },
            "type": "mesh3d"
           }
          ],
          "parcoords": [
           {
            "line": {
             "colorbar": {
              "outlinewidth": 0,
              "ticks": ""
             }
            },
            "type": "parcoords"
           }
          ],
          "pie": [
           {
            "automargin": true,
            "type": "pie"
           }
          ],
          "scatter": [
           {
            "marker": {
             "colorbar": {
              "outlinewidth": 0,
              "ticks": ""
             }
            },
            "type": "scatter"
           }
          ],
          "scatter3d": [
           {
            "line": {
             "colorbar": {
              "outlinewidth": 0,
              "ticks": ""
             }
            },
            "marker": {
             "colorbar": {
              "outlinewidth": 0,
              "ticks": ""
             }
            },
            "type": "scatter3d"
           }
          ],
          "scattercarpet": [
           {
            "marker": {
             "colorbar": {
              "outlinewidth": 0,
              "ticks": ""
             }
            },
            "type": "scattercarpet"
           }
          ],
          "scattergeo": [
           {
            "marker": {
             "colorbar": {
              "outlinewidth": 0,
              "ticks": ""
             }
            },
            "type": "scattergeo"
           }
          ],
          "scattergl": [
           {
            "marker": {
             "colorbar": {
              "outlinewidth": 0,
              "ticks": ""
             }
            },
            "type": "scattergl"
           }
          ],
          "scattermapbox": [
           {
            "marker": {
             "colorbar": {
              "outlinewidth": 0,
              "ticks": ""
             }
            },
            "type": "scattermapbox"
           }
          ],
          "scatterpolar": [
           {
            "marker": {
             "colorbar": {
              "outlinewidth": 0,
              "ticks": ""
             }
            },
            "type": "scatterpolar"
           }
          ],
          "scatterpolargl": [
           {
            "marker": {
             "colorbar": {
              "outlinewidth": 0,
              "ticks": ""
             }
            },
            "type": "scatterpolargl"
           }
          ],
          "scatterternary": [
           {
            "marker": {
             "colorbar": {
              "outlinewidth": 0,
              "ticks": ""
             }
            },
            "type": "scatterternary"
           }
          ],
          "surface": [
           {
            "colorbar": {
             "outlinewidth": 0,
             "ticks": ""
            },
            "colorscale": [
             [
              0,
              "#0d0887"
             ],
             [
              0.1111111111111111,
              "#46039f"
             ],
             [
              0.2222222222222222,
              "#7201a8"
             ],
             [
              0.3333333333333333,
              "#9c179e"
             ],
             [
              0.4444444444444444,
              "#bd3786"
             ],
             [
              0.5555555555555556,
              "#d8576b"
             ],
             [
              0.6666666666666666,
              "#ed7953"
             ],
             [
              0.7777777777777778,
              "#fb9f3a"
             ],
             [
              0.8888888888888888,
              "#fdca26"
             ],
             [
              1,
              "#f0f921"
             ]
            ],
            "type": "surface"
           }
          ],
          "table": [
           {
            "cells": {
             "fill": {
              "color": "#EBF0F8"
             },
             "line": {
              "color": "white"
             }
            },
            "header": {
             "fill": {
              "color": "#C8D4E3"
             },
             "line": {
              "color": "white"
             }
            },
            "type": "table"
           }
          ]
         },
         "layout": {
          "annotationdefaults": {
           "arrowcolor": "#2a3f5f",
           "arrowhead": 0,
           "arrowwidth": 1
          },
          "autotypenumbers": "strict",
          "coloraxis": {
           "colorbar": {
            "outlinewidth": 0,
            "ticks": ""
           }
          },
          "colorscale": {
           "diverging": [
            [
             0,
             "#8e0152"
            ],
            [
             0.1,
             "#c51b7d"
            ],
            [
             0.2,
             "#de77ae"
            ],
            [
             0.3,
             "#f1b6da"
            ],
            [
             0.4,
             "#fde0ef"
            ],
            [
             0.5,
             "#f7f7f7"
            ],
            [
             0.6,
             "#e6f5d0"
            ],
            [
             0.7,
             "#b8e186"
            ],
            [
             0.8,
             "#7fbc41"
            ],
            [
             0.9,
             "#4d9221"
            ],
            [
             1,
             "#276419"
            ]
           ],
           "sequential": [
            [
             0,
             "#0d0887"
            ],
            [
             0.1111111111111111,
             "#46039f"
            ],
            [
             0.2222222222222222,
             "#7201a8"
            ],
            [
             0.3333333333333333,
             "#9c179e"
            ],
            [
             0.4444444444444444,
             "#bd3786"
            ],
            [
             0.5555555555555556,
             "#d8576b"
            ],
            [
             0.6666666666666666,
             "#ed7953"
            ],
            [
             0.7777777777777778,
             "#fb9f3a"
            ],
            [
             0.8888888888888888,
             "#fdca26"
            ],
            [
             1,
             "#f0f921"
            ]
           ],
           "sequentialminus": [
            [
             0,
             "#0d0887"
            ],
            [
             0.1111111111111111,
             "#46039f"
            ],
            [
             0.2222222222222222,
             "#7201a8"
            ],
            [
             0.3333333333333333,
             "#9c179e"
            ],
            [
             0.4444444444444444,
             "#bd3786"
            ],
            [
             0.5555555555555556,
             "#d8576b"
            ],
            [
             0.6666666666666666,
             "#ed7953"
            ],
            [
             0.7777777777777778,
             "#fb9f3a"
            ],
            [
             0.8888888888888888,
             "#fdca26"
            ],
            [
             1,
             "#f0f921"
            ]
           ]
          },
          "colorway": [
           "#636efa",
           "#EF553B",
           "#00cc96",
           "#ab63fa",
           "#FFA15A",
           "#19d3f3",
           "#FF6692",
           "#B6E880",
           "#FF97FF",
           "#FECB52"
          ],
          "font": {
           "color": "#2a3f5f"
          },
          "geo": {
           "bgcolor": "white",
           "lakecolor": "white",
           "landcolor": "#E5ECF6",
           "showlakes": true,
           "showland": true,
           "subunitcolor": "white"
          },
          "hoverlabel": {
           "align": "left"
          },
          "hovermode": "closest",
          "mapbox": {
           "style": "light"
          },
          "paper_bgcolor": "white",
          "plot_bgcolor": "#E5ECF6",
          "polar": {
           "angularaxis": {
            "gridcolor": "white",
            "linecolor": "white",
            "ticks": ""
           },
           "bgcolor": "#E5ECF6",
           "radialaxis": {
            "gridcolor": "white",
            "linecolor": "white",
            "ticks": ""
           }
          },
          "scene": {
           "xaxis": {
            "backgroundcolor": "#E5ECF6",
            "gridcolor": "white",
            "gridwidth": 2,
            "linecolor": "white",
            "showbackground": true,
            "ticks": "",
            "zerolinecolor": "white"
           },
           "yaxis": {
            "backgroundcolor": "#E5ECF6",
            "gridcolor": "white",
            "gridwidth": 2,
            "linecolor": "white",
            "showbackground": true,
            "ticks": "",
            "zerolinecolor": "white"
           },
           "zaxis": {
            "backgroundcolor": "#E5ECF6",
            "gridcolor": "white",
            "gridwidth": 2,
            "linecolor": "white",
            "showbackground": true,
            "ticks": "",
            "zerolinecolor": "white"
           }
          },
          "shapedefaults": {
           "line": {
            "color": "#2a3f5f"
           }
          },
          "ternary": {
           "aaxis": {
            "gridcolor": "white",
            "linecolor": "white",
            "ticks": ""
           },
           "baxis": {
            "gridcolor": "white",
            "linecolor": "white",
            "ticks": ""
           },
           "bgcolor": "#E5ECF6",
           "caxis": {
            "gridcolor": "white",
            "linecolor": "white",
            "ticks": ""
           }
          },
          "title": {
           "x": 0.05
          },
          "xaxis": {
           "automargin": true,
           "gridcolor": "white",
           "linecolor": "white",
           "ticks": "",
           "title": {
            "standoff": 15
           },
           "zerolinecolor": "white",
           "zerolinewidth": 2
          },
          "yaxis": {
           "automargin": true,
           "gridcolor": "white",
           "linecolor": "white",
           "ticks": "",
           "title": {
            "standoff": 15
           },
           "zerolinecolor": "white",
           "zerolinewidth": 2
          }
         }
        },
        "xaxis": {
         "anchor": "y",
         "domain": [
          0,
          1
         ],
         "title": {
          "text": "value"
         }
        },
        "yaxis": {
         "anchor": "x",
         "domain": [
          0,
          1
         ],
         "title": {
          "text": "count"
         }
        }
       }
      }
     },
     "metadata": {},
     "output_type": "display_data"
    }
   ],
   "source": [
    "px.histogram(data.horsepower)"
   ]
  },
  {
   "cell_type": "code",
   "execution_count": 126,
   "metadata": {},
   "outputs": [
    {
     "data": {
      "text/plain": [
       "1.0873262824048704"
      ]
     },
     "execution_count": 126,
     "metadata": {},
     "output_type": "execute_result"
    }
   ],
   "source": [
    "data['horsepower'].skew()\n",
    "#skewness value should be in the range of -1 to 1 for normal distribution"
   ]
  },
  {
   "cell_type": "code",
   "execution_count": 127,
   "metadata": {},
   "outputs": [
    {
     "data": {
      "text/plain": [
       "0.2915869257406034"
      ]
     },
     "execution_count": 127,
     "metadata": {},
     "output_type": "execute_result"
    }
   ],
   "source": [
    "data['acceleration'].skew() "
   ]
  },
  {
   "cell_type": "code",
   "execution_count": 2,
   "metadata": {},
   "outputs": [],
   "source": [
    "%matplotlib inline\n",
    "import pandas as pd\n",
    "import numpy as np\n",
    "import matplotlib.pyplot as plt"
   ]
  },
  {
   "cell_type": "code",
   "execution_count": 25,
   "metadata": {},
   "outputs": [
    {
     "data": {
      "text/plain": [
       "(0    8\n",
       " dtype: int64,\n",
       " 0    4\n",
       " dtype: int64)"
      ]
     },
     "execution_count": 25,
     "metadata": {},
     "output_type": "execute_result"
    }
   ],
   "source": [
    "india = pd.Series([np.random.randint(1,10)])\n",
    "china = pd.Series([np.random.randint(1,10)])\n",
    "india ,china"
   ]
  },
  {
   "cell_type": "code",
   "execution_count": 26,
   "metadata": {},
   "outputs": [
    {
     "data": {
      "text/html": [
       "<div>\n",
       "<style scoped>\n",
       "    .dataframe tbody tr th:only-of-type {\n",
       "        vertical-align: middle;\n",
       "    }\n",
       "\n",
       "    .dataframe tbody tr th {\n",
       "        vertical-align: top;\n",
       "    }\n",
       "\n",
       "    .dataframe thead th {\n",
       "        text-align: right;\n",
       "    }\n",
       "</style>\n",
       "<table border=\"1\" class=\"dataframe\">\n",
       "  <thead>\n",
       "    <tr style=\"text-align: right;\">\n",
       "      <th></th>\n",
       "      <th>0</th>\n",
       "    </tr>\n",
       "  </thead>\n",
       "  <tbody>\n",
       "    <tr>\n",
       "      <th>0</th>\n",
       "      <td>8</td>\n",
       "    </tr>\n",
       "    <tr>\n",
       "      <th>1</th>\n",
       "      <td>4</td>\n",
       "    </tr>\n",
       "  </tbody>\n",
       "</table>\n",
       "</div>"
      ],
      "text/plain": [
       "   0\n",
       "0  8\n",
       "1  4"
      ]
     },
     "execution_count": 26,
     "metadata": {},
     "output_type": "execute_result"
    }
   ],
   "source": [
    "data = pd.DataFrame([india , china] )\n",
    "data"
   ]
  },
  {
   "cell_type": "code",
   "execution_count": 27,
   "metadata": {},
   "outputs": [
    {
     "data": {
      "text/plain": [
       "<AxesSubplot:>"
      ]
     },
     "execution_count": 27,
     "metadata": {},
     "output_type": "execute_result"
    },
    {
     "data": {
      "image/png": "[encoded data removed]",
      "text/plain": [
       "<Figure size 432x288 with 1 Axes>"
      ]
     },
     "metadata": {
      "needs_background": "light"
     },
     "output_type": "display_data"
    }
   ],
   "source": [
    "data.plot.line()"
   ]
  },
  {
   "cell_type": "code",
   "execution_count": 45,
   "metadata": {},
   "outputs": [
    {
     "data": {
      "text/plain": [
       "<AxesSubplot:ylabel='Frequency'>"
      ]
     },
     "execution_count": 45,
     "metadata": {},
     "output_type": "execute_result"
    },
    {
     "data": {
      "image/png": "[encoded data removed]",
      "text/plain": [
       "<Figure size 432x288 with 1 Axes>"
      ]
     },
     "metadata": {
      "needs_background": "light"
     },
     "output_type": "display_data"
    }
   ],
   "source": [
    "%matplotlib inline\n",
    "x = np.random.random(100)\n",
    "y = np.random.random(100)\n",
    "data = pd.DataFrame([x,y])\n",
    "data = data.T\n",
    "data.plot(kind = 'hist')"
   ]
  },
  {
   "cell_type": "code",
   "execution_count": 68,
   "metadata": {},
   "outputs": [
    {
     "data": {
      "text/html": [
       "<div>\n",
       "<style scoped>\n",
       "    .dataframe tbody tr th:only-of-type {\n",
       "        vertical-align: middle;\n",
       "    }\n",
       "\n",
       "    .dataframe tbody tr th {\n",
       "        vertical-align: top;\n",
       "    }\n",
       "\n",
       "    .dataframe thead th {\n",
       "        text-align: right;\n",
       "    }\n",
       "</style>\n",
       "<table border=\"1\" class=\"dataframe\">\n",
       "  <thead>\n",
       "    <tr style=\"text-align: right;\">\n",
       "      <th></th>\n",
       "      <th>Type</th>\n",
       "      <th>Coverage</th>\n",
       "      <th>AreaName</th>\n",
       "      <th>RegName</th>\n",
       "      <th>1980</th>\n",
       "      <th>1981</th>\n",
       "      <th>1982</th>\n",
       "      <th>1983</th>\n",
       "      <th>1984</th>\n",
       "      <th>1985</th>\n",
       "      <th>...</th>\n",
       "      <th>2004</th>\n",
       "      <th>2005</th>\n",
       "      <th>2006</th>\n",
       "      <th>2007</th>\n",
       "      <th>2008</th>\n",
       "      <th>2009</th>\n",
       "      <th>2010</th>\n",
       "      <th>2011</th>\n",
       "      <th>2012</th>\n",
       "      <th>2013</th>\n",
       "    </tr>\n",
       "  </thead>\n",
       "  <tbody>\n",
       "    <tr>\n",
       "      <th>0</th>\n",
       "      <td>Immigrants</td>\n",
       "      <td>Citizens</td>\n",
       "      <td>Northern America</td>\n",
       "      <td>Northern America</td>\n",
       "      <td>..</td>\n",
       "      <td>..</td>\n",
       "      <td>..</td>\n",
       "      <td>..</td>\n",
       "      <td>..</td>\n",
       "      <td>..</td>\n",
       "      <td>...</td>\n",
       "      <td>..</td>\n",
       "      <td>..</td>\n",
       "      <td>..</td>\n",
       "      <td>..</td>\n",
       "      <td>..</td>\n",
       "      <td>..</td>\n",
       "      <td>..</td>\n",
       "      <td>1</td>\n",
       "      <td>1</td>\n",
       "      <td>NaN</td>\n",
       "    </tr>\n",
       "    <tr>\n",
       "      <th>1</th>\n",
       "      <td>Immigrants</td>\n",
       "      <td>Foreigners</td>\n",
       "      <td>Africa</td>\n",
       "      <td>Eastern Africa</td>\n",
       "      <td>1471</td>\n",
       "      <td>1641</td>\n",
       "      <td>1426</td>\n",
       "      <td>1094</td>\n",
       "      <td>1187</td>\n",
       "      <td>1134</td>\n",
       "      <td>...</td>\n",
       "      <td>7726</td>\n",
       "      <td>7083</td>\n",
       "      <td>6750</td>\n",
       "      <td>6669</td>\n",
       "      <td>6705</td>\n",
       "      <td>6922</td>\n",
       "      <td>8591</td>\n",
       "      <td>8956</td>\n",
       "      <td>8846</td>\n",
       "      <td>NaN</td>\n",
       "    </tr>\n",
       "    <tr>\n",
       "      <th>2</th>\n",
       "      <td>Immigrants</td>\n",
       "      <td>Foreigners</td>\n",
       "      <td>Africa</td>\n",
       "      <td>Middle Africa</td>\n",
       "      <td>33</td>\n",
       "      <td>27</td>\n",
       "      <td>44</td>\n",
       "      <td>32</td>\n",
       "      <td>42</td>\n",
       "      <td>30</td>\n",
       "      <td>...</td>\n",
       "      <td>2452</td>\n",
       "      <td>2802</td>\n",
       "      <td>2834</td>\n",
       "      <td>2951</td>\n",
       "      <td>3034</td>\n",
       "      <td>3255</td>\n",
       "      <td>3369</td>\n",
       "      <td>3146</td>\n",
       "      <td>4602</td>\n",
       "      <td>NaN</td>\n",
       "    </tr>\n",
       "    <tr>\n",
       "      <th>3</th>\n",
       "      <td>Immigrants</td>\n",
       "      <td>Foreigners</td>\n",
       "      <td>Africa</td>\n",
       "      <td>Northern Africa</td>\n",
       "      <td>1100</td>\n",
       "      <td>1268</td>\n",
       "      <td>1348</td>\n",
       "      <td>936</td>\n",
       "      <td>842</td>\n",
       "      <td>840</td>\n",
       "      <td>...</td>\n",
       "      <td>12478</td>\n",
       "      <td>11323</td>\n",
       "      <td>12705</td>\n",
       "      <td>11750</td>\n",
       "      <td>13456</td>\n",
       "      <td>16320</td>\n",
       "      <td>19271</td>\n",
       "      <td>15712</td>\n",
       "      <td>15453</td>\n",
       "      <td>NaN</td>\n",
       "    </tr>\n",
       "    <tr>\n",
       "      <th>4</th>\n",
       "      <td>Immigrants</td>\n",
       "      <td>Foreigners</td>\n",
       "      <td>Africa</td>\n",
       "      <td>Southern Africa</td>\n",
       "      <td>1041</td>\n",
       "      <td>1126</td>\n",
       "      <td>791</td>\n",
       "      <td>387</td>\n",
       "      <td>297</td>\n",
       "      <td>327</td>\n",
       "      <td>...</td>\n",
       "      <td>1203</td>\n",
       "      <td>1012</td>\n",
       "      <td>1148</td>\n",
       "      <td>1230</td>\n",
       "      <td>1184</td>\n",
       "      <td>1235</td>\n",
       "      <td>1306</td>\n",
       "      <td>1049</td>\n",
       "      <td>1348</td>\n",
       "      <td>NaN</td>\n",
       "    </tr>\n",
       "  </tbody>\n",
       "</table>\n",
       "<p>5 rows × 38 columns</p>\n",
       "</div>"
      ],
      "text/plain": [
       "         Type    Coverage          AreaName           RegName  1980  1981  \\\n",
       "0  Immigrants    Citizens  Northern America  Northern America    ..    ..   \n",
       "1  Immigrants  Foreigners            Africa    Eastern Africa  1471  1641   \n",
       "2  Immigrants  Foreigners            Africa     Middle Africa    33    27   \n",
       "3  Immigrants  Foreigners            Africa   Northern Africa  1100  1268   \n",
       "4  Immigrants  Foreigners            Africa   Southern Africa  1041  1126   \n",
       "\n",
       "   1982  1983  1984  1985  ...   2004   2005   2006   2007   2008   2009  \\\n",
       "0    ..    ..    ..    ..  ...     ..     ..     ..     ..     ..     ..   \n",
       "1  1426  1094  1187  1134  ...   7726   7083   6750   6669   6705   6922   \n",
       "2    44    32    42    30  ...   2452   2802   2834   2951   3034   3255   \n",
       "3  1348   936   842   840  ...  12478  11323  12705  11750  13456  16320   \n",
       "4   791   387   297   327  ...   1203   1012   1148   1230   1184   1235   \n",
       "\n",
       "    2010   2011   2012  2013  \n",
       "0     ..      1      1   NaN  \n",
       "1   8591   8956   8846   NaN  \n",
       "2   3369   3146   4602   NaN  \n",
       "3  19271  15712  15453   NaN  \n",
       "4   1306   1049   1348   NaN  \n",
       "\n",
       "[5 rows x 38 columns]"
      ]
     },
     "execution_count": 68,
     "metadata": {},
     "output_type": "execute_result"
    }
   ],
   "source": [
    "data = pd.read_excel(\"https://s3-api.us-geo.objectstorage.softlayer.net/cf-courses-data/CognitiveClass/DV0101EN/labs/Data_Files/Canada.xlsx\",\n",
    "skiprows = 20,)\n",
    "data.head()"
   ]
  },
  {
   "cell_type": "code",
   "execution_count": null,
   "metadata": {},
   "outputs": [],
   "source": []
  },
  {
   "cell_type": "code",
   "execution_count": null,
   "metadata": {},
   "outputs": [],
   "source": []
  },
  {
   "cell_type": "code",
   "execution_count": null,
   "metadata": {},
   "outputs": [],
   "source": []
  },
  {
   "cell_type": "code",
   "execution_count": null,
   "metadata": {},
   "outputs": [],
   "source": []
  },
  {
   "cell_type": "code",
   "execution_count": null,
   "metadata": {},
   "outputs": [],
   "source": []
  },
  {
   "cell_type": "code",
   "execution_count": null,
   "metadata": {},
   "outputs": [],
   "source": []
  },
  {
   "cell_type": "code",
   "execution_count": null,
   "metadata": {},
   "outputs": [],
   "source": []
  },
  {
   "cell_type": "code",
   "execution_count": null,
   "metadata": {},
   "outputs": [],
   "source": []
  },
  {
   "cell_type": "code",
   "execution_count": null,
   "metadata": {},
   "outputs": [],
   "source": []
  },
  {
   "cell_type": "code",
   "execution_count": null,
   "metadata": {},
   "outputs": [],
   "source": []
  },
  {
   "cell_type": "code",
   "execution_count": null,
   "metadata": {},
   "outputs": [],
   "source": []
  },
  {
   "cell_type": "code",
   "execution_count": null,
   "metadata": {},
   "outputs": [],
   "source": []
  },
  {
   "cell_type": "code",
   "execution_count": null,
   "metadata": {},
   "outputs": [],
   "source": []
  },
  {
   "cell_type": "code",
   "execution_count": null,
   "metadata": {},
   "outputs": [],
   "source": []
  },
  {
   "cell_type": "code",
   "execution_count": null,
   "metadata": {},
   "outputs": [],
   "source": []
  },
  {
   "cell_type": "code",
   "execution_count": null,
   "metadata": {},
   "outputs": [],
   "source": []
  },
  {
   "cell_type": "code",
   "execution_count": null,
   "metadata": {},
   "outputs": [],
   "source": []
  }
 ],
 "metadata": {
  "interpreter": {
   "hash": "b5843a13e7131a14c3c0e364f0390d6592a995e3082c3f83420ac4385eeb2370"
  },
  "kernelspec": {
   "display_name": "Python 3.9.6 64-bit",
   "name": "python3"
  },
  "language_info": {
   "codemirror_mode": {
    "name": "ipython",
    "version": 3
   },
   "file_extension": ".py",
   "mimetype": "text/x-python",
   "name": "python",
   "nbconvert_exporter": "python",
   "pygments_lexer": "ipython3",
   "version": "3.9.6"
  },
  "orig_nbformat": 4
 },
 "nbformat": 4,
 "nbformat_minor": 2
}
